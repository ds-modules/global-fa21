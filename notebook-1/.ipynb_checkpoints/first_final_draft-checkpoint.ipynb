{
 "cells": [
  {
   "cell_type": "markdown",
   "id": "041c2f61-986d-4c60-9319-2f7d039ae398",
   "metadata": {},
   "source": [
    "# Introduction to Jupyter"
   ]
  },
  {
   "cell_type": "markdown",
   "id": "9fb7391e",
   "metadata": {},
   "source": [
    "Welcome to the Jupyter Notebook, an interactive and web-based notebook that is used in data science to document and visualize data!"
   ]
  },
  {
   "cell_type": "markdown",
   "id": "aa77e881",
   "metadata": {},
   "source": [
    "As you can see, the Jupyter notebook supports regular text as well as code. Each *cell* or chunk of text can either take on the form of code or regular text. "
   ]
  },
  {
   "cell_type": "markdown",
   "id": "5921b231",
   "metadata": {},
   "source": [
    "The way that we determine the type of the cell is by clicking \"Cell,\" located at the top of your screen, and then clicking \"Cell Type.\" From there you will see an arrow that offers the options of changing the current cell you are working in to **Markdown** (which is just regular English) or **Code**. "
   ]
  },
  {
   "cell_type": "markdown",
   "id": "950cc5d7",
   "metadata": {},
   "source": [
    "Make sure to choose accordingly depending on your different tasks later down the road; cells can only support the type that they were assigned (for example, a **Markdown** type cell will not run code)."
   ]
  },
  {
   "cell_type": "markdown",
   "id": "de46c4e0",
   "metadata": {},
   "source": [
    "### The Code Cell"
   ]
  },
  {
   "cell_type": "markdown",
   "id": "5f9fe952",
   "metadata": {},
   "source": [
    "We can run cells that contain code by clicking the rectangle and either:"
   ]
  },
  {
   "cell_type": "markdown",
   "id": "47f48743",
   "metadata": {},
   "source": [
    "- Clicking \"Shift\" + \"Return\" on the keyboard\n",
    "- Pressing the \"Run\" button from the array of options at the top of the screen\n",
    "- Clicking \"Cell\" in the top array of options and choosing from the array of run options that will best suit your needs"
   ]
  },
  {
   "cell_type": "markdown",
   "id": "02e38bfb",
   "metadata": {},
   "source": [
    "Let's try looking at a **Code** cell now, as so far, we've only been looking at **Markdown** cells! You can try running it as well using any of the strategies listed above."
   ]
  },
  {
   "cell_type": "code",
   "execution_count": 66,
   "id": "4dbc8096",
   "metadata": {},
   "outputs": [
    {
     "name": "stdout",
     "output_type": "stream",
     "text": [
      "Hello World!\n"
     ]
    }
   ],
   "source": [
    "print('Hello World!')"
   ]
  },
  {
   "cell_type": "markdown",
   "id": "ea0e191d",
   "metadata": {},
   "source": [
    "You should notice that the cell shows an asterisk - * - as it is processing your request. Afterwards, once it runs, then the \"In [   ]:\" portion should contain a number in its brackets, indicating numerically which run it is (the number starts at 1, your first run of a code cell)."
   ]
  },
  {
   "cell_type": "markdown",
   "id": "af812677",
   "metadata": {},
   "source": [
    "Within a code cell, you can also write regular language without any consequences on your code! The way to do this is by writing *comments*, indicated by a # before your commentary on the code. See the code cell below for an example:"
   ]
  },
  {
   "cell_type": "code",
   "execution_count": 67,
   "id": "755ffa4e",
   "metadata": {},
   "outputs": [
    {
     "name": "stdout",
     "output_type": "stream",
     "text": [
      "pizza\n"
     ]
    }
   ],
   "source": [
    "# This is a comment. It will have no effect on anything I do later on! Watch:\n",
    "# print('pineapple')\n",
    "\n",
    "print('pizza')"
   ]
  },
  {
   "cell_type": "markdown",
   "id": "ba6bbbca",
   "metadata": {},
   "source": [
    "Notice that you can also ADD, CUT and MODIFY cells!"
   ]
  },
  {
   "cell_type": "markdown",
   "id": "3f956b31",
   "metadata": {},
   "source": [
    "- To ADD: press \"Insert\" at the top of the screen and feel free to insert cells below or above the currently selected cell\n",
    "- To CUT: select any cell you want to delete by clicking once and then pressing the scissor icon on the top left\n",
    "- To MODIFY: double click the desired cell"
   ]
  },
  {
   "cell_type": "markdown",
   "id": "0189c558",
   "metadata": {},
   "source": [
    "You can play with these functionalities with the recent code cell! You can also undo actions by using Ctrl + Z."
   ]
  },
  {
   "cell_type": "markdown",
   "id": "ed683478",
   "metadata": {},
   "source": [
    "Make sure to save often! You can do that with the following choices:"
   ]
  },
  {
   "cell_type": "markdown",
   "id": "79b135fd",
   "metadata": {},
   "source": [
    "- Using Ctrl + S\n",
    "- Saving with the icon in the very left at the top symbol banner\n",
    "- Selecting 'File' then 'Save and Checkpoint'"
   ]
  },
  {
   "cell_type": "markdown",
   "id": "43cb4ef0",
   "metadata": {},
   "source": [
    "### Getting Started"
   ]
  },
  {
   "cell_type": "markdown",
   "id": "4fc104c9",
   "metadata": {},
   "source": [
    "In data science, we are able to manipulate our data using Python *libraries*, which are basically big collections of commands we can use based off of the coding language Python. We have imported some below so that we can easily visualize and analyze our data later on."
   ]
  },
  {
   "cell_type": "code",
   "execution_count": 68,
   "id": "eb84914c",
   "metadata": {},
   "outputs": [],
   "source": [
    "# Don't change this cell; just run it. \n",
    "import numpy as np\n",
    "from datascience import *\n",
    "import pandas as pd\n",
    "\n",
    "# These lines do some fancy plotting magic\n",
    "import matplotlib\n",
    "%matplotlib inline\n",
    "import matplotlib.pyplot as plt\n",
    "plt.style.use('fivethirtyeight')\n",
    "import warnings\n",
    "warnings.simplefilter('ignore', FutureWarning)\n",
    "from matplotlib import patches\n",
    "from ipywidgets import interact, interactive, fixed\n",
    "import ipywidgets as widgets"
   ]
  },
  {
   "cell_type": "markdown",
   "id": "82852723",
   "metadata": {},
   "source": [
    "These libraries differ in the sense that some of them are aimed for visualization, some better suited for statistics, and some are better suited for other purposes! The point is that we want to import all of these different tools for ourselves so that we can have it ready when we are dealing with our data later on."
   ]
  },
  {
   "cell_type": "markdown",
   "id": "d3c956e3",
   "metadata": {},
   "source": [
    "# Python Basics"
   ]
  },
  {
   "cell_type": "markdown",
   "id": "d35abf15",
   "metadata": {},
   "source": [
    "*Python* is a programming language, so it allows for us to communicate with the computer! Python has a specific syntax and a set of common practices, just like any other language. Before we dive into our data, let's go over some of these basic functionalities in Python that you will be using in this lesson."
   ]
  },
  {
   "cell_type": "markdown",
   "id": "452b5e28",
   "metadata": {},
   "source": [
    "### Print Statements"
   ]
  },
  {
   "cell_type": "markdown",
   "id": "4fcfb027",
   "metadata": {},
   "source": [
    "For the computer to physically print out words, we are able to use the print statement. Using the command **print()**, we can print anything we want the computer to say. It's also important that we write the words we want to print in quotes. See below for an example:"
   ]
  },
  {
   "cell_type": "code",
   "execution_count": 69,
   "id": "d1666192",
   "metadata": {},
   "outputs": [
    {
     "name": "stdout",
     "output_type": "stream",
     "text": [
      "I am a good print statement.\n"
     ]
    }
   ],
   "source": [
    "print(\"I am a good print statement.\")"
   ]
  },
  {
   "cell_type": "markdown",
   "id": "7b48853b",
   "metadata": {},
   "source": [
    "Python is a relatively sensitive language, which means that changing the cases in a statement or even forgetting a parentheses or quote can result in a *syntax error*. However, usually you can deduce what is wrong with your code by Python's response."
   ]
  },
  {
   "cell_type": "code",
   "execution_count": 70,
   "id": "25cc29ba",
   "metadata": {},
   "outputs": [
    {
     "ename": "SyntaxError",
     "evalue": "unexpected EOF while parsing (<ipython-input-70-bd5eae88b6ed>, line 4)",
     "output_type": "error",
     "traceback": [
      "\u001b[0;36m  File \u001b[0;32m\"<ipython-input-70-bd5eae88b6ed>\"\u001b[0;36m, line \u001b[0;32m4\u001b[0m\n\u001b[0;31m    print(\"I am not a good print statement\"\u001b[0m\n\u001b[0m                                           ^\u001b[0m\n\u001b[0;31mSyntaxError\u001b[0m\u001b[0;31m:\u001b[0m unexpected EOF while parsing\n"
     ]
    }
   ],
   "source": [
    "# This cell should give you a syntax error showing where your print statement is erroring. \n",
    "# Try running it & experimenting by altering the other parts of the print statement!\n",
    "\n",
    "print(\"I am not a good print statement\""
   ]
  },
  {
   "cell_type": "markdown",
   "id": "ad368b8a",
   "metadata": {},
   "source": [
    "### Variables"
   ]
  },
  {
   "cell_type": "markdown",
   "id": "2aca2e97",
   "metadata": {},
   "source": [
    "Just like in math, we often need to save numbers to use for the future when coding. Python is easily able to calculate arithmetic expressions, and can even save them to *variables*, or names, like x and y in math that denote the number we are saving. Let's see an example of this below."
   ]
  },
  {
   "cell_type": "code",
   "execution_count": null,
   "id": "25f8cdcc",
   "metadata": {},
   "outputs": [],
   "source": [
    "# Here is an example of just letting Python solve an arithmetic expression.\n",
    "\n",
    "(2 * 4) + 3"
   ]
  },
  {
   "cell_type": "code",
   "execution_count": null,
   "id": "c6e21a78",
   "metadata": {},
   "outputs": [],
   "source": [
    "# Let's say we want to now save this to the variable 'x'. Then, we can do the following:\n",
    "\n",
    "x = (2 * 4) + 3"
   ]
  },
  {
   "cell_type": "markdown",
   "id": "25af1cb3",
   "metadata": {},
   "source": [
    "Notice that the cell above did not return anything! That's because we didn't *call* x, which means that we didn't specifically ask for the value of x. Instead, the statement in the cell above simply assigned x to the arithmetic expression. So then... how do we call x?"
   ]
  },
  {
   "cell_type": "code",
   "execution_count": null,
   "id": "79c0c403",
   "metadata": {},
   "outputs": [],
   "source": [
    "# This is how we call x - it will immediately print x by simply calling its name.\n",
    "\n",
    "x"
   ]
  },
  {
   "cell_type": "code",
   "execution_count": null,
   "id": "7df0e4c0",
   "metadata": {},
   "outputs": [],
   "source": [
    "# We can also manipulate x (this will not change the real value of x).\n",
    "\n",
    "x * 2"
   ]
  },
  {
   "cell_type": "code",
   "execution_count": null,
   "id": "3dc90e98",
   "metadata": {},
   "outputs": [],
   "source": [
    "# We can also assign x to its manipulated value by doing the following (which will then reassign x).\n",
    "\n",
    "x = x * 2"
   ]
  },
  {
   "cell_type": "markdown",
   "id": "bc8b8497",
   "metadata": {},
   "source": [
    "### Tables"
   ]
  },
  {
   "cell_type": "markdown",
   "id": "d9573297",
   "metadata": {},
   "source": [
    "We will also be dealing with *tables* to organize all of our data. All tables have columns and rows, which we can organize respectively according to our desired purpose. The aspects of the table such as the number of columns and the number of rows are known as *attributes* of the table."
   ]
  },
  {
   "cell_type": "markdown",
   "id": "1c770d87",
   "metadata": {},
   "source": [
    "A table's attributes can be accessed using dot notation, which means that alterations can be made to a table using periods followed by a command. For instance, [table]**.num_rows** and [table]**.num_columns** gives you back the number of rows and number of columns of a table, respectively. Here are a couple of other useful functionalities that you can apply to a table:"
   ]
  },
  {
   "cell_type": "markdown",
   "id": "eae8ad33",
   "metadata": {},
   "source": [
    "- **.num_rows** = finds number of rows in the table\n",
    "- **.num_columns** = finds number of columns in the table\n",
    "- **.with_columns(name, values)** = returns the table with the column name and the given values\n",
    "- **.sort(column name)** = arranges all the values in a column of the table in ascending order"
   ]
  },
  {
   "cell_type": "markdown",
   "id": "ab36391e",
   "metadata": {},
   "source": [
    "These are just a couple of cool functionalities; we will look at more as we approach our data and get a better grasp of what we want to compare."
   ]
  },
  {
   "cell_type": "markdown",
   "id": "c36e7cab",
   "metadata": {},
   "source": [
    "Congrats on completing the Intro to Jupyter & Python Basics portion - now, we can approach our data and begin analyzing!"
   ]
  },
  {
   "cell_type": "markdown",
   "id": "c2b59b56-daea-499a-ba80-70776e3cc9b3",
   "metadata": {},
   "source": [
    "# Introduction to the Data"
   ]
  },
  {
   "cell_type": "markdown",
   "id": "69558b6e",
   "metadata": {},
   "source": [
    "### Background to Data & Data Importing"
   ]
  },
  {
   "cell_type": "markdown",
   "id": "f9b16563",
   "metadata": {},
   "source": [
    "We will be importing two datasets: a dataset looking specifically at **states & union territories in India**, and a dataset looking at **cities in India**. Both will look at crimes in India between the years of 2017-2019 and will look at specific factors (population, total crime against women) that will be useful when we are trying to deduce inferences about gender-based violence in certain areas in India."
   ]
  },
  {
   "cell_type": "markdown",
   "id": "ef89de4f",
   "metadata": {},
   "source": [
    "(Also note that in the Indian numbering system, a *lakh* is equal to 100,000. Moreover, politically, a *union territory* is a small administrative unit like a state, but while states are self-governed, union territories are directly ruled over by the central or union government. Feel to read more at https://www.indiatoday.in/education-today/gk-current-affairs/story/what-is-the-difference-between-a-state-and-an-union-territory-1577445-2019-08-05!)"
   ]
  },
  {
   "cell_type": "markdown",
   "id": "27961b47",
   "metadata": {},
   "source": [
    "Here is our **state & union territory based dataset**. Don't worry too much about the specifics of the code, but do observe the table and its headers to familiarize yourself with the format and the significance of each column."
   ]
  },
  {
   "cell_type": "markdown",
   "id": "a3641ba2",
   "metadata": {},
   "source": [
    "What can you deduce about each column?"
   ]
  },
  {
   "cell_type": "markdown",
   "id": "31a96b48",
   "metadata": {},
   "source": [
    "*Replace this text with your response!*"
   ]
  },
  {
   "cell_type": "code",
   "execution_count": 71,
   "id": "0f366c58-965b-4bc7-ac62-ed49e9ebdaaf",
   "metadata": {},
   "outputs": [
    {
     "data": {
      "text/html": [
       "<table border=\"1\" class=\"dataframe\">\n",
       "    <thead>\n",
       "        <tr>\n",
       "            <th>State/UT</th> <th>2017 Crimes</th> <th>2018 Crimes</th> <th>2019 Crimes</th> <th>Percentage State Share to Total (2019)</th> <th>Mid-Year Projected Female Population (in lakhs) (2019)</th> <th>Rate of Total Crime Against Women (2019)</th> <th>2018-2019 GDP Per Capita ($)</th> <th>2018-2019 Unemployment Rate (%)</th> <th>2021 Literacy Rate (%)</th>\n",
       "        </tr>\n",
       "    </thead>\n",
       "    <tbody>\n",
       "        <tr>\n",
       "            <td>Andhra Pradesh    </td> <td>17909      </td> <td>16438      </td> <td>17746      </td> <td>4.4                                   </td> <td>261.4                                                 </td> <td>67.9                                    </td> <td>2480                        </td> <td>7.3                            </td> <td>67.02                 </td>\n",
       "        </tr>\n",
       "        <tr>\n",
       "            <td>Arunachal Pradesh </td> <td>337        </td> <td>368        </td> <td>317        </td> <td>0.1                                   </td> <td>7.3                                                   </td> <td>43.3                                    </td> <td>2253                        </td> <td>11.1                           </td> <td>65.38                 </td>\n",
       "        </tr>\n",
       "        <tr>\n",
       "            <td>Assam             </td> <td>23082      </td> <td>27687      </td> <td>30025      </td> <td>7.4                                   </td> <td>168.9                                                 </td> <td>177.8                                   </td> <td>1365                        </td> <td>10.7                           </td> <td>72.19                 </td>\n",
       "        </tr>\n",
       "        <tr>\n",
       "            <td>Bihar             </td> <td>14711      </td> <td>16920      </td> <td>18587      </td> <td>4.6                                   </td> <td>576.2                                                 </td> <td>32.3                                    </td> <td>659                         </td> <td>10.5                           </td> <td>61.8                  </td>\n",
       "        </tr>\n",
       "        <tr>\n",
       "            <td>Chhattisgarh      </td> <td>7996       </td> <td>8587       </td> <td>7689       </td> <td>1.9                                   </td> <td>143.8                                                 </td> <td>53.5                                    </td> <td>1555                        </td> <td>5.5                            </td> <td>70.28                 </td>\n",
       "        </tr>\n",
       "        <tr>\n",
       "            <td>Goa               </td> <td>369        </td> <td>362        </td> <td>329        </td> <td>0.1                                   </td> <td>7.6                                                   </td> <td>43.1                                    </td> <td>7029                        </td> <td>9.1                            </td> <td>88.7                  </td>\n",
       "        </tr>\n",
       "        <tr>\n",
       "            <td>Gujarat           </td> <td>8133       </td> <td>8329       </td> <td>8799       </td> <td>2.2                                   </td> <td>324.9                                                 </td> <td>27.1                                    </td> <td>3283                        </td> <td>3.2                            </td> <td>78.03                 </td>\n",
       "        </tr>\n",
       "        <tr>\n",
       "            <td>Haryana           </td> <td>11370      </td> <td>14326      </td> <td>14683      </td> <td>3.6                                   </td> <td>135.3                                                 </td> <td>108.5                                   </td> <td>3840                        </td> <td>8.7                            </td> <td>75.55                 </td>\n",
       "        </tr>\n",
       "        <tr>\n",
       "            <td>Himachal Pradesh  </td> <td>1246       </td> <td>1633       </td> <td>1636       </td> <td>0.4                                   </td> <td>36.1                                                  </td> <td>45.4                                    </td> <td>3118                        </td> <td>8.8                            </td> <td>82.8                  </td>\n",
       "        </tr>\n",
       "        <tr>\n",
       "            <td>Jammu & Kashmir   </td> <td>3129       </td> <td>3437       </td> <td>3069       </td> <td>0.8                                   </td> <td>64.2                                                  </td> <td>47.8                                    </td> <td>1636                        </td> <td>10.1                           </td> <td>67.16                 </td>\n",
       "        </tr>\n",
       "        <tr>\n",
       "            <td>Jharkhand         </td> <td>5911       </td> <td>7083       </td> <td>8760       </td> <td>2.2                                   </td> <td>183.3                                                 </td> <td>47.8                                    </td> <td>1179                        </td> <td>8.7                            </td> <td>66.41                 </td>\n",
       "        </tr>\n",
       "        <tr>\n",
       "            <td>Karnataka         </td> <td>14078      </td> <td>13514      </td> <td>13828      </td> <td>3.4                                   </td> <td>325.1                                                 </td> <td>42.5                                    </td> <td>3359                        </td> <td>5.2                            </td> <td>75.36                 </td>\n",
       "        </tr>\n",
       "        <tr>\n",
       "            <td>Kerala            </td> <td>11057      </td> <td>10461      </td> <td>11462      </td> <td>2.8                                   </td> <td>182.9                                                 </td> <td>62.7                                    </td> <td>3327                        </td> <td>9.7                            </td> <td>94                    </td>\n",
       "        </tr>\n",
       "        <tr>\n",
       "            <td>Madhya Pradesh    </td> <td>29788      </td> <td>28942      </td> <td>27560      </td> <td>6.8                                   </td> <td>399.6                                                 </td> <td>69                                      </td> <td>1461                        </td> <td>7.4                            </td> <td>69.32                 </td>\n",
       "        </tr>\n",
       "        <tr>\n",
       "            <td>Maharashtra       </td> <td>31979      </td> <td>35497      </td> <td>37144      </td> <td>9.2                                   </td> <td>588.5                                                 </td> <td>63.1                                    </td> <td>3193                        </td> <td>6.4                            </td> <td>82.34                 </td>\n",
       "        </tr>\n",
       "        <tr>\n",
       "            <td>Manipur           </td> <td>236        </td> <td>271        </td> <td>266        </td> <td>0.1                                   </td> <td>15.5                                                  </td> <td>17.2                                    </td> <td>1222                        </td> <td>9.2                            </td> <td>76.94                 </td>\n",
       "        </tr>\n",
       "        <tr>\n",
       "            <td>Meghalaya         </td> <td>567        </td> <td>571        </td> <td>558        </td> <td>0.1                                   </td> <td>16.1                                                  </td> <td>34.6                                    </td> <td>1417                        </td> <td>7.5                            </td> <td>74.43                 </td>\n",
       "        </tr>\n",
       "        <tr>\n",
       "            <td>Mizoram           </td> <td>301        </td> <td>249        </td> <td>170        </td> <td>0                                     </td> <td>5.9                                                   </td> <td>28.7                                    </td> <td>2773                        </td> <td>9.1                            </td> <td>91.33                 </td>\n",
       "        </tr>\n",
       "        <tr>\n",
       "            <td>Nagaland          </td> <td>79         </td> <td>75         </td> <td>43         </td> <td>0                                     </td> <td>10.4                                                  </td> <td>4.1                                     </td> <td>1918                        </td> <td>21.1                           </td> <td>79.55                 </td>\n",
       "        </tr>\n",
       "        <tr>\n",
       "            <td>Odisha            </td> <td>20098      </td> <td>20274      </td> <td>23183      </td> <td>5.7                                   </td> <td>223.9                                                 </td> <td>103.5                                   </td> <td>1651                        </td> <td>12.7                           </td> <td>72.87                 </td>\n",
       "        </tr>\n",
       "        <tr>\n",
       "            <td>Punjab            </td> <td>4620       </td> <td>5302       </td> <td>5886       </td> <td>1.5                                   </td> <td>141.9                                                 </td> <td>41.5                                    </td> <td>2536                        </td> <td>7                              </td> <td>75.84                 </td>\n",
       "        </tr>\n",
       "        <tr>\n",
       "            <td>Rajasthan         </td> <td>25993      </td> <td>27866      </td> <td>41550      </td> <td>10.2                                  </td> <td>376.4                                                 </td> <td>110.4                                   </td> <td>1820                        </td> <td>9.5                            </td> <td>66.11                 </td>\n",
       "        </tr>\n",
       "        <tr>\n",
       "            <td>Sikkim            </td> <td>163        </td> <td>172        </td> <td>125        </td> <td>0                                     </td> <td>3.1                                                   </td> <td>39.8                                    </td> <td>6421                        </td> <td>4.9                            </td> <td>81.42                 </td>\n",
       "        </tr>\n",
       "        <tr>\n",
       "            <td>Tamil Nadu        </td> <td>5397       </td> <td>5822       </td> <td>5934       </td> <td>1.5                                   </td> <td>379.2                                                 </td> <td>15.6                                    </td> <td>3184                        </td> <td>6.7                            </td> <td>80.09                 </td>\n",
       "        </tr>\n",
       "        <tr>\n",
       "            <td>Telangana         </td> <td>17521      </td> <td>16027      </td> <td>18394      </td> <td>4.5                                   </td> <td>185.3                                                 </td> <td>99.3                                    </td> <td>3321                        </td> <td>11.2                           </td> <td>66.54                 </td>\n",
       "        </tr>\n",
       "        <tr>\n",
       "            <td>Tripura           </td> <td>972        </td> <td>907        </td> <td>1070       </td> <td>0.3                                   </td> <td>19.7                                                  </td> <td>54.5                                    </td> <td>1851                        </td> <td>13.5                           </td> <td>87.22                 </td>\n",
       "        </tr>\n",
       "        <tr>\n",
       "            <td>Uttar Pradesh     </td> <td>56011      </td> <td>59445      </td> <td>59853      </td> <td>14.7                                  </td> <td>1081.4                                                </td> <td>55.4                                    </td> <td>1043                        </td> <td>10.6                           </td> <td>67.68                 </td>\n",
       "        </tr>\n",
       "        <tr>\n",
       "            <td>Uttarakhand       </td> <td>1944       </td> <td>2817       </td> <td>2541       </td> <td>0.6                                   </td> <td>54.6                                                  </td> <td>46.5                                    </td> <td>3250                        </td> <td>13.4                           </td> <td>78.82                 </td>\n",
       "        </tr>\n",
       "        <tr>\n",
       "            <td>West Bengal       </td> <td>30992      </td> <td>30394      </td> <td>30394      </td> <td>7.5                                   </td> <td>474.9                                                 </td> <td>64                                      </td> <td>1634                        </td> <td>4.9                            </td> <td>76.26                 </td>\n",
       "        </tr>\n",
       "        <tr>\n",
       "            <td>A & N Islands (UT)</td> <td>132        </td> <td>147        </td> <td>135        </td> <td>0                                     </td> <td>1.9                                                   </td> <td>72.2                                    </td> <td>3321                        </td> <td>12                             </td> <td>86.63                 </td>\n",
       "        </tr>\n",
       "        <tr>\n",
       "            <td>Chandigarh (UT)   </td> <td>453        </td> <td>442        </td> <td>515        </td> <td>0.1                                   </td> <td>5.4                                                   </td> <td>95.2                                    </td> <td>5297                        </td> <td>8.2                            </td> <td>86.05                 </td>\n",
       "        </tr>\n",
       "        <tr>\n",
       "            <td>D&N Haveli (UT)   </td> <td>20         </td> <td>38         </td> <td>49         </td> <td>0                                     </td> <td>2.3                                                   </td> <td>21.6                                    </td> <td>635                         </td> <td>1.8                            </td> <td>76.24                 </td>\n",
       "        </tr>\n",
       "        <tr>\n",
       "            <td>Daman & Diu (UT)  </td> <td>26         </td> <td>16         </td> <td>33         </td> <td>0                                     </td> <td>1.3                                                   </td> <td>25.2                                    </td> <td>988                         </td> <td>0                              </td> <td>87.1                  </td>\n",
       "        </tr>\n",
       "        <tr>\n",
       "            <td>Delhi (UT)        </td> <td>13076      </td> <td>13640      </td> <td>13395      </td> <td>3.3                                   </td> <td>93.1                                                  </td> <td>144                                     </td> <td>5817                        </td> <td>10.8                           </td> <td>86.21                 </td>\n",
       "        </tr>\n",
       "        <tr>\n",
       "            <td>Lakshadweep (UT)  </td> <td>6          </td> <td>11         </td> <td>38         </td> <td>0                                     </td> <td>0.3                                                   </td> <td>115.2                                   </td> <td>931                         </td> <td>28.6                           </td> <td>91.85                 </td>\n",
       "        </tr>\n",
       "        <tr>\n",
       "            <td>Puducherry (UT)   </td> <td>147        </td> <td>166        </td> <td>95         </td> <td>0                                     </td> <td>7.9                                                   </td> <td>12.1                                    </td> <td>3334                        </td> <td>6                              </td> <td>85.85                 </td>\n",
       "        </tr>\n",
       "    </tbody>\n",
       "</table>"
      ],
      "text/plain": [
       "<IPython.core.display.HTML object>"
      ]
     },
     "metadata": {},
     "output_type": "display_data"
    }
   ],
   "source": [
    "# When we reference this table later, notice that we can just call the variable states!\n",
    "\n",
    "states = Table.read_table(\"../data/State Data.csv\")\n",
    "states.show()"
   ]
  },
  {
   "cell_type": "markdown",
   "id": "3d9f5a1b",
   "metadata": {},
   "source": [
    "Here is our **city based dataset**."
   ]
  },
  {
   "cell_type": "markdown",
   "id": "04367860",
   "metadata": {},
   "source": [
    "Though the column names are quite similar in this dataset, why might it be helpful to also have city data in our analysis of gender-based violence in particular areas?"
   ]
  },
  {
   "cell_type": "markdown",
   "id": "de39f671",
   "metadata": {},
   "source": [
    "*Replace this text with your response!*"
   ]
  },
  {
   "cell_type": "code",
   "execution_count": 72,
   "id": "b688eb9f-d779-4ee3-8ec1-c8fa494f59ca",
   "metadata": {},
   "outputs": [
    {
     "data": {
      "text/html": [
       "<table border=\"1\" class=\"dataframe\">\n",
       "    <thead>\n",
       "        <tr>\n",
       "            <th>City</th> <th>2017</th> <th>2018</th> <th>2019</th> <th>Percentage City Share to Total (2019)</th> <th>Actual Population (in Lakhs) (2011)</th> <th>Rate of Total Crime Against Women\n",
       "(2019)+</th>\n",
       "        </tr>\n",
       "    </thead>\n",
       "    <tbody>\n",
       "        <tr>\n",
       "            <td>Ahmedabad\n",
       "(Gujarat)      </td> <td>1405 </td> <td>1416 </td> <td>1633 </td> <td>3.6                                  </td> <td>30                                 </td> <td>54.4                                     </td>\n",
       "        </tr>\n",
       "        <tr>\n",
       "            <td>Bengaluru\n",
       "(Karnataka)    </td> <td>3565 </td> <td>3427 </td> <td>3486 </td> <td>7.7                                  </td> <td>40.6                               </td> <td>85.9                                     </td>\n",
       "        </tr>\n",
       "        <tr>\n",
       "            <td>Chennai\n",
       "(Tamil Nadu)     </td> <td>642  </td> <td>761  </td> <td>729  </td> <td>1.6                                  </td> <td>43.1                               </td> <td>16.9                                     </td>\n",
       "        </tr>\n",
       "        <tr>\n",
       "            <td>Coimbatore\n",
       "(Tamil Nadu)  </td> <td>76   </td> <td>107  </td> <td>85   </td> <td>0.2                                  </td> <td>10.7                               </td> <td>7.9                                      </td>\n",
       "        </tr>\n",
       "        <tr>\n",
       "            <td>Delhi                    </td> <td>11542</td> <td>11724</td> <td>12902</td> <td>28.4                                 </td> <td>75.8                               </td> <td>170.3                                    </td>\n",
       "        </tr>\n",
       "        <tr>\n",
       "            <td>Ghaziabad\n",
       "(Uttar Pradesh)</td> <td>1166 </td> <td>1128 </td> <td>793  </td> <td>1.7                                  </td> <td>11                                 </td> <td>72                                       </td>\n",
       "        </tr>\n",
       "        <tr>\n",
       "            <td>Hyderabad\n",
       "(Telangana)    </td> <td>2272 </td> <td>2332 </td> <td>2755 </td> <td>6.1                                  </td> <td>37.6                               </td> <td>73.2                                     </td>\n",
       "        </tr>\n",
       "        <tr>\n",
       "            <td>Indore\n",
       "(Madhya Pradesh)  </td> <td>1349 </td> <td>1593 </td> <td>1755 </td> <td>3.9                                  </td> <td>10.4                               </td> <td>169.1                                    </td>\n",
       "        </tr>\n",
       "        <tr>\n",
       "            <td>Jaipur\n",
       "(Rajasthan)       </td> <td>1857 </td> <td>2030 </td> <td>3417 </td> <td>7.5                                  </td> <td>14.5                               </td> <td>235                                      </td>\n",
       "        </tr>\n",
       "        <tr>\n",
       "            <td>Kanpur\n",
       "(Uttar Pradesh)   </td> <td>1574 </td> <td>1574 </td> <td>1315 </td> <td>2.9                                  </td> <td>13.4                               </td> <td>98.5                                     </td>\n",
       "        </tr>\n",
       "        <tr>\n",
       "            <td>Kochi\n",
       "(Kerala)           </td> <td>535  </td> <td>537  </td> <td>492  </td> <td>1.1                                  </td> <td>10.8                               </td> <td>45.8                                     </td>\n",
       "        </tr>\n",
       "        <tr>\n",
       "            <td>Kolkata\n",
       "(West Bengal)    </td> <td>1975 </td> <td>2176 </td> <td>2176 </td> <td>4.8                                  </td> <td>67.9                               </td> <td>32                                       </td>\n",
       "        </tr>\n",
       "        <tr>\n",
       "            <td>Kozhikode\n",
       "(Kerala)       </td> <td>347  </td> <td>349  </td> <td>473  </td> <td>1                                    </td> <td>10.6                               </td> <td>44.4                                     </td>\n",
       "        </tr>\n",
       "        <tr>\n",
       "            <td>Lucknow\n",
       "(Uttar Pradesh)  </td> <td>2468 </td> <td>2736 </td> <td>2425 </td> <td>5.3                                  </td> <td>13.8                               </td> <td>175.4                                    </td>\n",
       "        </tr>\n",
       "        <tr>\n",
       "            <td>Mumbai\n",
       "(Maharashtra)     </td> <td>5453 </td> <td>6058 </td> <td>6519 </td> <td>14.3                                 </td> <td>85.2                               </td> <td>76.5                                     </td>\n",
       "        </tr>\n",
       "        <tr>\n",
       "            <td>Nagpur\n",
       "(Maharashtra)     </td> <td>1152 </td> <td>1083 </td> <td>1144 </td> <td>2.5                                  </td> <td>12.2                               </td> <td>93.6                                     </td>\n",
       "        </tr>\n",
       "        <tr>\n",
       "            <td>Patna\n",
       "(Bihar)            </td> <td>870  </td> <td>956  </td> <td>981  </td> <td>2.2                                  </td> <td>9.6                                </td> <td>102.3                                    </td>\n",
       "        </tr>\n",
       "        <tr>\n",
       "            <td>Pune\n",
       "(Maharashtra)       </td> <td>2032 </td> <td>1481 </td> <td>1390 </td> <td>3.1                                  </td> <td>23.9                               </td> <td>58.1                                     </td>\n",
       "        </tr>\n",
       "        <tr>\n",
       "            <td>Surat\n",
       "(Gujarat)          </td> <td>559  </td> <td>712  </td> <td>1015 </td> <td>2.2                                  </td> <td>19.7                               </td> <td>51.5                                     </td>\n",
       "        </tr>\n",
       "    </tbody>\n",
       "</table>"
      ],
      "text/plain": [
       "<IPython.core.display.HTML object>"
      ]
     },
     "metadata": {},
     "output_type": "display_data"
    }
   ],
   "source": [
    "# Again, we can reference this city table later using just the variable cities.\n",
    "cities = Table.read_table(\"../data/Table 3B.1_3.csv\")\n",
    "cities.show()"
   ]
  },
  {
   "cell_type": "markdown",
   "id": "f510a680",
   "metadata": {},
   "source": [
    "What differences do you see between the two tables (apart from the fact that one is based on states/union territories and one is based on cities)?"
   ]
  },
  {
   "cell_type": "markdown",
   "id": "11a129ce",
   "metadata": {},
   "source": [
    "*Replace this text with your response!*"
   ]
  },
  {
   "cell_type": "markdown",
   "id": "84d305e3",
   "metadata": {},
   "source": [
    "### Features of our Data"
   ]
  },
  {
   "cell_type": "markdown",
   "id": "f3bdddd8",
   "metadata": {},
   "source": [
    "Using some of our basic Python knowledge and one of our given datasets (specifically, the **state & union territory dataset**), let's see what baseline facts we can gain."
   ]
  },
  {
   "cell_type": "code",
   "execution_count": 73,
   "id": "d4645de9-e248-4221-8294-d2a3146fb309",
   "metadata": {},
   "outputs": [
    {
     "name": "stdout",
     "output_type": "stream",
     "text": [
      "36\n",
      "10\n"
     ]
    }
   ],
   "source": [
    "# First, let's see if we can find the number of rows and columns from our table states.\n",
    "\n",
    "print(states.num_rows)\n",
    "print(states.num_columns)"
   ]
  },
  {
   "cell_type": "markdown",
   "id": "8f4c49fe",
   "metadata": {},
   "source": [
    "What does **.num_rows** represent for this dataset? What does **.num_columns** represent?"
   ]
  },
  {
   "cell_type": "markdown",
   "id": "ed6d812b",
   "metadata": {},
   "source": [
    "*Replace this text with your response!*"
   ]
  },
  {
   "cell_type": "markdown",
   "id": "40312324",
   "metadata": {},
   "source": [
    "Now we're going to go through a couple of useful functionalities that will be helpful later when we do more complex functionalities (i.e. graphing data from one column, comparing data from 2 different columns, etc). "
   ]
  },
  {
   "cell_type": "code",
   "execution_count": 74,
   "id": "269e3472",
   "metadata": {},
   "outputs": [
    {
     "data": {
      "text/plain": [
       "('State/UT',\n",
       " '2017 Crimes',\n",
       " '2018 Crimes',\n",
       " '2019 Crimes',\n",
       " 'Percentage State Share to Total (2019)',\n",
       " 'Mid-Year Projected Female Population (in lakhs) (2019)',\n",
       " 'Rate of Total Crime Against Women (2019)',\n",
       " '2018-2019 GDP Per Capita ($)',\n",
       " '2018-2019 Unemployment Rate (%)',\n",
       " '2021 Literacy Rate (%)')"
      ]
     },
     "execution_count": 74,
     "metadata": {},
     "output_type": "execute_result"
    }
   ],
   "source": [
    "# Let's look at the column names of this datset.\n",
    "# Notice that we can do this with the following command. This produces a tuple, a form of a list, with all of the \n",
    "# column names.\n",
    "\n",
    "states.labels"
   ]
  },
  {
   "cell_type": "code",
   "execution_count": 75,
   "id": "2f69440b",
   "metadata": {},
   "outputs": [
    {
     "data": {
      "text/html": [
       "<table border=\"1\" class=\"dataframe\">\n",
       "    <thead>\n",
       "        <tr>\n",
       "            <th>State/UT</th>\n",
       "        </tr>\n",
       "    </thead>\n",
       "    <tbody>\n",
       "        <tr>\n",
       "            <td>Andhra Pradesh   </td>\n",
       "        </tr>\n",
       "        <tr>\n",
       "            <td>Arunachal Pradesh</td>\n",
       "        </tr>\n",
       "        <tr>\n",
       "            <td>Assam            </td>\n",
       "        </tr>\n",
       "        <tr>\n",
       "            <td>Bihar            </td>\n",
       "        </tr>\n",
       "        <tr>\n",
       "            <td>Chhattisgarh     </td>\n",
       "        </tr>\n",
       "        <tr>\n",
       "            <td>Goa              </td>\n",
       "        </tr>\n",
       "        <tr>\n",
       "            <td>Gujarat          </td>\n",
       "        </tr>\n",
       "        <tr>\n",
       "            <td>Haryana          </td>\n",
       "        </tr>\n",
       "        <tr>\n",
       "            <td>Himachal Pradesh </td>\n",
       "        </tr>\n",
       "        <tr>\n",
       "            <td>Jammu & Kashmir  </td>\n",
       "        </tr>\n",
       "    </tbody>\n",
       "</table>\n",
       "<p>... (26 rows omitted)</p>"
      ],
      "text/plain": [
       "State/UT\n",
       "Andhra Pradesh\n",
       "Arunachal Pradesh\n",
       "Assam\n",
       "Bihar\n",
       "Chhattisgarh\n",
       "Goa\n",
       "Gujarat\n",
       "Haryana\n",
       "Himachal Pradesh\n",
       "Jammu & Kashmir\n",
       "... (26 rows omitted)"
      ]
     },
     "execution_count": 75,
     "metadata": {},
     "output_type": "execute_result"
    }
   ],
   "source": [
    "# We can also select one of these columns and look at all of the data in that column! We will need to specify a \n",
    "# column in parentheses, like this:\n",
    "\n",
    "states.select(\"State/UT\")"
   ]
  },
  {
   "cell_type": "code",
   "execution_count": 76,
   "id": "11cadf3a",
   "metadata": {},
   "outputs": [
    {
     "data": {
      "text/plain": [
       "array(['Andhra Pradesh', 'Arunachal Pradesh', 'Assam', 'Bihar',\n",
       "       'Chhattisgarh', 'Goa', 'Gujarat', 'Haryana', 'Himachal Pradesh',\n",
       "       'Jammu & Kashmir', 'Jharkhand', 'Karnataka', 'Kerala',\n",
       "       'Madhya Pradesh', 'Maharashtra', 'Manipur', 'Meghalaya', 'Mizoram',\n",
       "       'Nagaland', 'Odisha', 'Punjab', 'Rajasthan', 'Sikkim',\n",
       "       'Tamil Nadu', 'Telangana', 'Tripura', 'Uttar Pradesh',\n",
       "       'Uttarakhand', 'West Bengal', 'A & N Islands (UT)',\n",
       "       'Chandigarh (UT)', 'D&N Haveli (UT)', 'Daman & Diu (UT)',\n",
       "       'Delhi (UT)', 'Lakshadweep (UT)', 'Puducherry (UT)'], dtype='<U18')"
      ]
     },
     "execution_count": 76,
     "metadata": {},
     "output_type": "execute_result"
    }
   ],
   "source": [
    "# If you wanted a column in array form (another type of list), you can also call .column on the table, like this:\n",
    "\n",
    "states.column(\"State/UT\")"
   ]
  },
  {
   "cell_type": "markdown",
   "id": "fbaac3d4",
   "metadata": {},
   "source": [
    "We can even see which state/union territory has the greatest and smallest rate of total crime against women in 2019 - practically instantaneously! We can even see the other attributes of the table along with this information."
   ]
  },
  {
   "cell_type": "code",
   "execution_count": 77,
   "id": "371ab87b",
   "metadata": {},
   "outputs": [
    {
     "data": {
      "text/html": [
       "<table border=\"1\" class=\"dataframe\">\n",
       "    <thead>\n",
       "        <tr>\n",
       "            <th>State/UT</th> <th>2017 Crimes</th> <th>2018 Crimes</th> <th>2019 Crimes</th> <th>Percentage State Share to Total (2019)</th> <th>Mid-Year Projected Female Population (in lakhs) (2019)</th> <th>Rate of Total Crime Against Women (2019)</th> <th>2018-2019 GDP Per Capita ($)</th> <th>2018-2019 Unemployment Rate (%)</th> <th>2021 Literacy Rate (%)</th>\n",
       "        </tr>\n",
       "    </thead>\n",
       "    <tbody>\n",
       "        <tr>\n",
       "            <td>Assam   </td> <td>23082      </td> <td>27687      </td> <td>30025      </td> <td>7.4                                   </td> <td>168.9                                                 </td> <td>177.8                                   </td> <td>1365                        </td> <td>10.7                           </td> <td>72.19                 </td>\n",
       "        </tr>\n",
       "    </tbody>\n",
       "</table>"
      ],
      "text/plain": [
       "State/UT | 2017 Crimes | 2018 Crimes | 2019 Crimes | Percentage State Share to Total (2019) | Mid-Year Projected Female Population (in lakhs) (2019) | Rate of Total Crime Against Women (2019) | 2018-2019 GDP Per Capita ($) | 2018-2019 Unemployment Rate (%) | 2021 Literacy Rate (%)\n",
       "Assam    | 23082       | 27687       | 30025       | 7.4                                    | 168.9                                                  | 177.8                                    | 1365                         | 10.7                            | 72.19"
      ]
     },
     "execution_count": 77,
     "metadata": {},
     "output_type": "execute_result"
    }
   ],
   "source": [
    "# Greatest rate of total crime against women in 2019+\n",
    "\n",
    "# Writing a variable for the column \"Rate of Total Crime against Women (2019)+\"\n",
    "total_crime = states.column(\"Rate of Total Crime Against Women (2019)\")\n",
    "\n",
    "# Using total_crime & .where to see where in the table's column the max of the column is; are.equal_to is a comparison\n",
    "# predicate to find, within a column, where a value or data point is equal to a certain number.\n",
    "states.where(total_crime, are.equal_to(max(total_crime)))"
   ]
  },
  {
   "cell_type": "code",
   "execution_count": 78,
   "id": "f0948508",
   "metadata": {},
   "outputs": [
    {
     "data": {
      "text/html": [
       "<table border=\"1\" class=\"dataframe\">\n",
       "    <thead>\n",
       "        <tr>\n",
       "            <th>State/UT</th> <th>2017 Crimes</th> <th>2018 Crimes</th> <th>2019 Crimes</th> <th>Percentage State Share to Total (2019)</th> <th>Mid-Year Projected Female Population (in lakhs) (2019)</th> <th>Rate of Total Crime Against Women (2019)</th> <th>2018-2019 GDP Per Capita ($)</th> <th>2018-2019 Unemployment Rate (%)</th> <th>2021 Literacy Rate (%)</th>\n",
       "        </tr>\n",
       "    </thead>\n",
       "    <tbody>\n",
       "        <tr>\n",
       "            <td>Nagaland</td> <td>79         </td> <td>75         </td> <td>43         </td> <td>0                                     </td> <td>10.4                                                  </td> <td>4.1                                     </td> <td>1918                        </td> <td>21.1                           </td> <td>79.55                 </td>\n",
       "        </tr>\n",
       "    </tbody>\n",
       "</table>"
      ],
      "text/plain": [
       "State/UT | 2017 Crimes | 2018 Crimes | 2019 Crimes | Percentage State Share to Total (2019) | Mid-Year Projected Female Population (in lakhs) (2019) | Rate of Total Crime Against Women (2019) | 2018-2019 GDP Per Capita ($) | 2018-2019 Unemployment Rate (%) | 2021 Literacy Rate (%)\n",
       "Nagaland | 79          | 75          | 43          | 0                                      | 10.4                                                   | 4.1                                      | 1918                         | 21.1                            | 79.55"
      ]
     },
     "execution_count": 78,
     "metadata": {},
     "output_type": "execute_result"
    }
   ],
   "source": [
    "# Lowest rate of total crime against women in 2019+\n",
    "\n",
    "total_crime = states.column(\"Rate of Total Crime Against Women (2019)\")\n",
    "\n",
    "states.where(total_crime, are.equal_to(min(total_crime)))"
   ]
  },
  {
   "cell_type": "markdown",
   "id": "8a4717d5",
   "metadata": {},
   "source": [
    "Looking at the data as a whole, what can we conclude about why the rate of total crime against women (2019)+ is higher in Assam than in Nagaland? What other attributes of the table contribute to that conclusion?"
   ]
  },
  {
   "cell_type": "markdown",
   "id": "94e9bf93",
   "metadata": {},
   "source": [
    "*Replace this text with your response!*"
   ]
  },
  {
   "cell_type": "markdown",
   "id": "0aa56c8f",
   "metadata": {},
   "source": [
    "Let's also try and create sorted tables that show the rate of total crime against women for each dataset in descending order. We can do this using the **.sort method**."
   ]
  },
  {
   "cell_type": "code",
   "execution_count": 79,
   "id": "3e8c01cd",
   "metadata": {},
   "outputs": [
    {
     "data": {
      "text/html": [
       "<table border=\"1\" class=\"dataframe\">\n",
       "    <thead>\n",
       "        <tr>\n",
       "            <th>State/UT</th> <th>2017 Crimes</th> <th>2018 Crimes</th> <th>2019 Crimes</th> <th>Percentage State Share to Total (2019)</th> <th>Mid-Year Projected Female Population (in lakhs) (2019)</th> <th>Rate of Total Crime Against Women (2019)</th> <th>2018-2019 GDP Per Capita ($)</th> <th>2018-2019 Unemployment Rate (%)</th> <th>2021 Literacy Rate (%)</th>\n",
       "        </tr>\n",
       "    </thead>\n",
       "    <tbody>\n",
       "        <tr>\n",
       "            <td>Assam             </td> <td>23082      </td> <td>27687      </td> <td>30025      </td> <td>7.4                                   </td> <td>168.9                                                 </td> <td>177.8                                   </td> <td>1365                        </td> <td>10.7                           </td> <td>72.19                 </td>\n",
       "        </tr>\n",
       "        <tr>\n",
       "            <td>Delhi (UT)        </td> <td>13076      </td> <td>13640      </td> <td>13395      </td> <td>3.3                                   </td> <td>93.1                                                  </td> <td>144                                     </td> <td>5817                        </td> <td>10.8                           </td> <td>86.21                 </td>\n",
       "        </tr>\n",
       "        <tr>\n",
       "            <td>Lakshadweep (UT)  </td> <td>6          </td> <td>11         </td> <td>38         </td> <td>0                                     </td> <td>0.3                                                   </td> <td>115.2                                   </td> <td>931                         </td> <td>28.6                           </td> <td>91.85                 </td>\n",
       "        </tr>\n",
       "        <tr>\n",
       "            <td>Rajasthan         </td> <td>25993      </td> <td>27866      </td> <td>41550      </td> <td>10.2                                  </td> <td>376.4                                                 </td> <td>110.4                                   </td> <td>1820                        </td> <td>9.5                            </td> <td>66.11                 </td>\n",
       "        </tr>\n",
       "        <tr>\n",
       "            <td>Haryana           </td> <td>11370      </td> <td>14326      </td> <td>14683      </td> <td>3.6                                   </td> <td>135.3                                                 </td> <td>108.5                                   </td> <td>3840                        </td> <td>8.7                            </td> <td>75.55                 </td>\n",
       "        </tr>\n",
       "        <tr>\n",
       "            <td>Odisha            </td> <td>20098      </td> <td>20274      </td> <td>23183      </td> <td>5.7                                   </td> <td>223.9                                                 </td> <td>103.5                                   </td> <td>1651                        </td> <td>12.7                           </td> <td>72.87                 </td>\n",
       "        </tr>\n",
       "        <tr>\n",
       "            <td>Telangana         </td> <td>17521      </td> <td>16027      </td> <td>18394      </td> <td>4.5                                   </td> <td>185.3                                                 </td> <td>99.3                                    </td> <td>3321                        </td> <td>11.2                           </td> <td>66.54                 </td>\n",
       "        </tr>\n",
       "        <tr>\n",
       "            <td>Chandigarh (UT)   </td> <td>453        </td> <td>442        </td> <td>515        </td> <td>0.1                                   </td> <td>5.4                                                   </td> <td>95.2                                    </td> <td>5297                        </td> <td>8.2                            </td> <td>86.05                 </td>\n",
       "        </tr>\n",
       "        <tr>\n",
       "            <td>A & N Islands (UT)</td> <td>132        </td> <td>147        </td> <td>135        </td> <td>0                                     </td> <td>1.9                                                   </td> <td>72.2                                    </td> <td>3321                        </td> <td>12                             </td> <td>86.63                 </td>\n",
       "        </tr>\n",
       "        <tr>\n",
       "            <td>Madhya Pradesh    </td> <td>29788      </td> <td>28942      </td> <td>27560      </td> <td>6.8                                   </td> <td>399.6                                                 </td> <td>69                                      </td> <td>1461                        </td> <td>7.4                            </td> <td>69.32                 </td>\n",
       "        </tr>\n",
       "    </tbody>\n",
       "</table>\n",
       "<p>... (26 rows omitted)</p>"
      ],
      "text/plain": [
       "State/UT           | 2017 Crimes | 2018 Crimes | 2019 Crimes | Percentage State Share to Total (2019) | Mid-Year Projected Female Population (in lakhs) (2019) | Rate of Total Crime Against Women (2019) | 2018-2019 GDP Per Capita ($) | 2018-2019 Unemployment Rate (%) | 2021 Literacy Rate (%)\n",
       "Assam              | 23082       | 27687       | 30025       | 7.4                                    | 168.9                                                  | 177.8                                    | 1365                         | 10.7                            | 72.19\n",
       "Delhi (UT)         | 13076       | 13640       | 13395       | 3.3                                    | 93.1                                                   | 144                                      | 5817                         | 10.8                            | 86.21\n",
       "Lakshadweep (UT)   | 6           | 11          | 38          | 0                                      | 0.3                                                    | 115.2                                    | 931                          | 28.6                            | 91.85\n",
       "Rajasthan          | 25993       | 27866       | 41550       | 10.2                                   | 376.4                                                  | 110.4                                    | 1820                         | 9.5                             | 66.11\n",
       "Haryana            | 11370       | 14326       | 14683       | 3.6                                    | 135.3                                                  | 108.5                                    | 3840                         | 8.7                             | 75.55\n",
       "Odisha             | 20098       | 20274       | 23183       | 5.7                                    | 223.9                                                  | 103.5                                    | 1651                         | 12.7                            | 72.87\n",
       "Telangana          | 17521       | 16027       | 18394       | 4.5                                    | 185.3                                                  | 99.3                                     | 3321                         | 11.2                            | 66.54\n",
       "Chandigarh (UT)    | 453         | 442         | 515         | 0.1                                    | 5.4                                                    | 95.2                                     | 5297                         | 8.2                             | 86.05\n",
       "A & N Islands (UT) | 132         | 147         | 135         | 0                                      | 1.9                                                    | 72.2                                     | 3321                         | 12                              | 86.63\n",
       "Madhya Pradesh     | 29788       | 28942       | 27560       | 6.8                                    | 399.6                                                  | 69                                       | 1461                         | 7.4                             | 69.32\n",
       "... (26 rows omitted)"
      ]
     },
     "execution_count": 79,
     "metadata": {},
     "output_type": "execute_result"
    }
   ],
   "source": [
    "# States/UT table with rate of total crime against women in descending order\n",
    "descending_crime_states = states.sort(\"Rate of Total Crime Against Women (2019)\", descending = True)\n",
    "descending_crime_states"
   ]
  },
  {
   "cell_type": "code",
   "execution_count": 80,
   "id": "7be082be",
   "metadata": {},
   "outputs": [
    {
     "data": {
      "text/html": [
       "<table border=\"1\" class=\"dataframe\">\n",
       "    <thead>\n",
       "        <tr>\n",
       "            <th>City</th> <th>2017</th> <th>2018</th> <th>2019</th> <th>Percentage City Share to Total (2019)</th> <th>Actual Population (in Lakhs) (2011)</th> <th>Rate of Total Crime Against Women\n",
       "(2019)+</th>\n",
       "        </tr>\n",
       "    </thead>\n",
       "    <tbody>\n",
       "        <tr>\n",
       "            <td>Jaipur\n",
       "(Rajasthan)     </td> <td>1857 </td> <td>2030 </td> <td>3417 </td> <td>7.5                                  </td> <td>14.5                               </td> <td>235                                      </td>\n",
       "        </tr>\n",
       "        <tr>\n",
       "            <td>Lucknow\n",
       "(Uttar Pradesh)</td> <td>2468 </td> <td>2736 </td> <td>2425 </td> <td>5.3                                  </td> <td>13.8                               </td> <td>175.4                                    </td>\n",
       "        </tr>\n",
       "        <tr>\n",
       "            <td>Delhi                  </td> <td>11542</td> <td>11724</td> <td>12902</td> <td>28.4                                 </td> <td>75.8                               </td> <td>170.3                                    </td>\n",
       "        </tr>\n",
       "        <tr>\n",
       "            <td>Indore\n",
       "(Madhya Pradesh)</td> <td>1349 </td> <td>1593 </td> <td>1755 </td> <td>3.9                                  </td> <td>10.4                               </td> <td>169.1                                    </td>\n",
       "        </tr>\n",
       "        <tr>\n",
       "            <td>Patna\n",
       "(Bihar)          </td> <td>870  </td> <td>956  </td> <td>981  </td> <td>2.2                                  </td> <td>9.6                                </td> <td>102.3                                    </td>\n",
       "        </tr>\n",
       "        <tr>\n",
       "            <td>Kanpur\n",
       "(Uttar Pradesh) </td> <td>1574 </td> <td>1574 </td> <td>1315 </td> <td>2.9                                  </td> <td>13.4                               </td> <td>98.5                                     </td>\n",
       "        </tr>\n",
       "        <tr>\n",
       "            <td>Nagpur\n",
       "(Maharashtra)   </td> <td>1152 </td> <td>1083 </td> <td>1144 </td> <td>2.5                                  </td> <td>12.2                               </td> <td>93.6                                     </td>\n",
       "        </tr>\n",
       "        <tr>\n",
       "            <td>Bengaluru\n",
       "(Karnataka)  </td> <td>3565 </td> <td>3427 </td> <td>3486 </td> <td>7.7                                  </td> <td>40.6                               </td> <td>85.9                                     </td>\n",
       "        </tr>\n",
       "        <tr>\n",
       "            <td>Mumbai\n",
       "(Maharashtra)   </td> <td>5453 </td> <td>6058 </td> <td>6519 </td> <td>14.3                                 </td> <td>85.2                               </td> <td>76.5                                     </td>\n",
       "        </tr>\n",
       "        <tr>\n",
       "            <td>Hyderabad\n",
       "(Telangana)  </td> <td>2272 </td> <td>2332 </td> <td>2755 </td> <td>6.1                                  </td> <td>37.6                               </td> <td>73.2                                     </td>\n",
       "        </tr>\n",
       "    </tbody>\n",
       "</table>\n",
       "<p>... (9 rows omitted)</p>"
      ],
      "text/plain": [
       "City                    | 2017  | 2018  | 2019  | Percentage City Share to Total (2019) | Actual Population (in Lakhs) (2011) | Rate of Total Crime Against Women\n",
       "(2019)+\n",
       "Jaipur\n",
       "(Rajasthan)      | 1857  | 2030  | 3417  | 7.5                                   | 14.5                                | 235\n",
       "Lucknow\n",
       "(Uttar Pradesh) | 2468  | 2736  | 2425  | 5.3                                   | 13.8                                | 175.4\n",
       "Delhi                   | 11542 | 11724 | 12902 | 28.4                                  | 75.8                                | 170.3\n",
       "Indore\n",
       "(Madhya Pradesh) | 1349  | 1593  | 1755  | 3.9                                   | 10.4                                | 169.1\n",
       "Patna\n",
       "(Bihar)           | 870   | 956   | 981   | 2.2                                   | 9.6                                 | 102.3\n",
       "Kanpur\n",
       "(Uttar Pradesh)  | 1574  | 1574  | 1315  | 2.9                                   | 13.4                                | 98.5\n",
       "Nagpur\n",
       "(Maharashtra)    | 1152  | 1083  | 1144  | 2.5                                   | 12.2                                | 93.6\n",
       "Bengaluru\n",
       "(Karnataka)   | 3565  | 3427  | 3486  | 7.7                                   | 40.6                                | 85.9\n",
       "Mumbai\n",
       "(Maharashtra)    | 5453  | 6058  | 6519  | 14.3                                  | 85.2                                | 76.5\n",
       "Hyderabad\n",
       "(Telangana)   | 2272  | 2332  | 2755  | 6.1                                   | 37.6                                | 73.2\n",
       "... (9 rows omitted)"
      ]
     },
     "execution_count": 80,
     "metadata": {},
     "output_type": "execute_result"
    }
   ],
   "source": [
    "# Cities table with rate of total crime against women in descending order\n",
    "descending_crime_cities = cities.sort(\"Rate of Total Crime Against Women\\n(2019)+\", descending = True)\n",
    "descending_crime_cities"
   ]
  },
  {
   "cell_type": "markdown",
   "id": "7afad6cb",
   "metadata": {},
   "source": [
    "### Data Cleaning & Additional Data"
   ]
  },
  {
   "cell_type": "markdown",
   "id": "3f860f16",
   "metadata": {},
   "source": [
    "While we do have a great deal of data, we thought that it would be beneficial to also add in new columns for one of our datasets - specifically, the dataset focusing on states. That way, we can compare other inequalities (in our case, literacy rates and unemployment rates) with the rate of total crime against women."
   ]
  },
  {
   "cell_type": "markdown",
   "id": "4a2a87d8",
   "metadata": {},
   "source": [
    "(You may have also noticed that there were a couple of rows in the \"States\" dataset that were showing a weird value: nan. To avoid that problem, we also data cleaned those rows in a separate dataset.)"
   ]
  },
  {
   "cell_type": "code",
   "execution_count": 81,
   "id": "509f7689",
   "metadata": {},
   "outputs": [
    {
     "data": {
      "text/html": [
       "<table border=\"1\" class=\"dataframe\">\n",
       "    <thead>\n",
       "        <tr>\n",
       "            <th>State/UT</th> <th>2017 Crimes</th> <th>2018 Crimes</th> <th>2019 Crimes</th> <th>Percentage State Share to Total (2019)</th> <th>Mid-Year Projected Female Population (in lakhs) (2019)</th> <th>Rate of Total Crime Against Women (2019)</th> <th>2018-2019 GDP Per Capita ($)</th> <th>2018-2019 Unemployment Rate (%)</th> <th>2021 Literacy Rate (%)</th>\n",
       "        </tr>\n",
       "    </thead>\n",
       "    <tbody>\n",
       "        <tr>\n",
       "            <td>Andhra Pradesh    </td> <td>17909      </td> <td>16438      </td> <td>17746      </td> <td>4.4                                   </td> <td>261.4                                                 </td> <td>67.9                                    </td> <td>2480                        </td> <td>7.3                            </td> <td>67.02                 </td>\n",
       "        </tr>\n",
       "        <tr>\n",
       "            <td>Arunachal Pradesh </td> <td>337        </td> <td>368        </td> <td>317        </td> <td>0.1                                   </td> <td>7.3                                                   </td> <td>43.3                                    </td> <td>2253                        </td> <td>11.1                           </td> <td>65.38                 </td>\n",
       "        </tr>\n",
       "        <tr>\n",
       "            <td>Assam             </td> <td>23082      </td> <td>27687      </td> <td>30025      </td> <td>7.4                                   </td> <td>168.9                                                 </td> <td>177.8                                   </td> <td>1365                        </td> <td>10.7                           </td> <td>72.19                 </td>\n",
       "        </tr>\n",
       "        <tr>\n",
       "            <td>Bihar             </td> <td>14711      </td> <td>16920      </td> <td>18587      </td> <td>4.6                                   </td> <td>576.2                                                 </td> <td>32.3                                    </td> <td>659                         </td> <td>10.5                           </td> <td>61.8                  </td>\n",
       "        </tr>\n",
       "        <tr>\n",
       "            <td>Chhattisgarh      </td> <td>7996       </td> <td>8587       </td> <td>7689       </td> <td>1.9                                   </td> <td>143.8                                                 </td> <td>53.5                                    </td> <td>1555                        </td> <td>5.5                            </td> <td>70.28                 </td>\n",
       "        </tr>\n",
       "        <tr>\n",
       "            <td>Goa               </td> <td>369        </td> <td>362        </td> <td>329        </td> <td>0.1                                   </td> <td>7.6                                                   </td> <td>43.1                                    </td> <td>7029                        </td> <td>9.1                            </td> <td>88.7                  </td>\n",
       "        </tr>\n",
       "        <tr>\n",
       "            <td>Gujarat           </td> <td>8133       </td> <td>8329       </td> <td>8799       </td> <td>2.2                                   </td> <td>324.9                                                 </td> <td>27.1                                    </td> <td>3283                        </td> <td>3.2                            </td> <td>78.03                 </td>\n",
       "        </tr>\n",
       "        <tr>\n",
       "            <td>Haryana           </td> <td>11370      </td> <td>14326      </td> <td>14683      </td> <td>3.6                                   </td> <td>135.3                                                 </td> <td>108.5                                   </td> <td>3840                        </td> <td>8.7                            </td> <td>75.55                 </td>\n",
       "        </tr>\n",
       "        <tr>\n",
       "            <td>Himachal Pradesh  </td> <td>1246       </td> <td>1633       </td> <td>1636       </td> <td>0.4                                   </td> <td>36.1                                                  </td> <td>45.4                                    </td> <td>3118                        </td> <td>8.8                            </td> <td>82.8                  </td>\n",
       "        </tr>\n",
       "        <tr>\n",
       "            <td>Jammu & Kashmir   </td> <td>3129       </td> <td>3437       </td> <td>3069       </td> <td>0.8                                   </td> <td>64.2                                                  </td> <td>47.8                                    </td> <td>1636                        </td> <td>10.1                           </td> <td>67.16                 </td>\n",
       "        </tr>\n",
       "        <tr>\n",
       "            <td>Jharkhand         </td> <td>5911       </td> <td>7083       </td> <td>8760       </td> <td>2.2                                   </td> <td>183.3                                                 </td> <td>47.8                                    </td> <td>1179                        </td> <td>8.7                            </td> <td>66.41                 </td>\n",
       "        </tr>\n",
       "        <tr>\n",
       "            <td>Karnataka         </td> <td>14078      </td> <td>13514      </td> <td>13828      </td> <td>3.4                                   </td> <td>325.1                                                 </td> <td>42.5                                    </td> <td>3359                        </td> <td>5.2                            </td> <td>75.36                 </td>\n",
       "        </tr>\n",
       "        <tr>\n",
       "            <td>Kerala            </td> <td>11057      </td> <td>10461      </td> <td>11462      </td> <td>2.8                                   </td> <td>182.9                                                 </td> <td>62.7                                    </td> <td>3327                        </td> <td>9.7                            </td> <td>94                    </td>\n",
       "        </tr>\n",
       "        <tr>\n",
       "            <td>Madhya Pradesh    </td> <td>29788      </td> <td>28942      </td> <td>27560      </td> <td>6.8                                   </td> <td>399.6                                                 </td> <td>69                                      </td> <td>1461                        </td> <td>7.4                            </td> <td>69.32                 </td>\n",
       "        </tr>\n",
       "        <tr>\n",
       "            <td>Maharashtra       </td> <td>31979      </td> <td>35497      </td> <td>37144      </td> <td>9.2                                   </td> <td>588.5                                                 </td> <td>63.1                                    </td> <td>3193                        </td> <td>6.4                            </td> <td>82.34                 </td>\n",
       "        </tr>\n",
       "        <tr>\n",
       "            <td>Manipur           </td> <td>236        </td> <td>271        </td> <td>266        </td> <td>0.1                                   </td> <td>15.5                                                  </td> <td>17.2                                    </td> <td>1222                        </td> <td>9.2                            </td> <td>76.94                 </td>\n",
       "        </tr>\n",
       "        <tr>\n",
       "            <td>Meghalaya         </td> <td>567        </td> <td>571        </td> <td>558        </td> <td>0.1                                   </td> <td>16.1                                                  </td> <td>34.6                                    </td> <td>1417                        </td> <td>7.5                            </td> <td>74.43                 </td>\n",
       "        </tr>\n",
       "        <tr>\n",
       "            <td>Mizoram           </td> <td>301        </td> <td>249        </td> <td>170        </td> <td>0                                     </td> <td>5.9                                                   </td> <td>28.7                                    </td> <td>2773                        </td> <td>9.1                            </td> <td>91.33                 </td>\n",
       "        </tr>\n",
       "        <tr>\n",
       "            <td>Nagaland          </td> <td>79         </td> <td>75         </td> <td>43         </td> <td>0                                     </td> <td>10.4                                                  </td> <td>4.1                                     </td> <td>1918                        </td> <td>21.1                           </td> <td>79.55                 </td>\n",
       "        </tr>\n",
       "        <tr>\n",
       "            <td>Odisha            </td> <td>20098      </td> <td>20274      </td> <td>23183      </td> <td>5.7                                   </td> <td>223.9                                                 </td> <td>103.5                                   </td> <td>1651                        </td> <td>12.7                           </td> <td>72.87                 </td>\n",
       "        </tr>\n",
       "        <tr>\n",
       "            <td>Punjab            </td> <td>4620       </td> <td>5302       </td> <td>5886       </td> <td>1.5                                   </td> <td>141.9                                                 </td> <td>41.5                                    </td> <td>2536                        </td> <td>7                              </td> <td>75.84                 </td>\n",
       "        </tr>\n",
       "        <tr>\n",
       "            <td>Rajasthan         </td> <td>25993      </td> <td>27866      </td> <td>41550      </td> <td>10.2                                  </td> <td>376.4                                                 </td> <td>110.4                                   </td> <td>1820                        </td> <td>9.5                            </td> <td>66.11                 </td>\n",
       "        </tr>\n",
       "        <tr>\n",
       "            <td>Sikkim            </td> <td>163        </td> <td>172        </td> <td>125        </td> <td>0                                     </td> <td>3.1                                                   </td> <td>39.8                                    </td> <td>6421                        </td> <td>4.9                            </td> <td>81.42                 </td>\n",
       "        </tr>\n",
       "        <tr>\n",
       "            <td>Tamil Nadu        </td> <td>5397       </td> <td>5822       </td> <td>5934       </td> <td>1.5                                   </td> <td>379.2                                                 </td> <td>15.6                                    </td> <td>3184                        </td> <td>6.7                            </td> <td>80.09                 </td>\n",
       "        </tr>\n",
       "        <tr>\n",
       "            <td>Telangana         </td> <td>17521      </td> <td>16027      </td> <td>18394      </td> <td>4.5                                   </td> <td>185.3                                                 </td> <td>99.3                                    </td> <td>3321                        </td> <td>11.2                           </td> <td>66.54                 </td>\n",
       "        </tr>\n",
       "        <tr>\n",
       "            <td>Tripura           </td> <td>972        </td> <td>907        </td> <td>1070       </td> <td>0.3                                   </td> <td>19.7                                                  </td> <td>54.5                                    </td> <td>1851                        </td> <td>13.5                           </td> <td>87.22                 </td>\n",
       "        </tr>\n",
       "        <tr>\n",
       "            <td>Uttar Pradesh     </td> <td>56011      </td> <td>59445      </td> <td>59853      </td> <td>14.7                                  </td> <td>1081.4                                                </td> <td>55.4                                    </td> <td>1043                        </td> <td>10.6                           </td> <td>67.68                 </td>\n",
       "        </tr>\n",
       "        <tr>\n",
       "            <td>Uttarakhand       </td> <td>1944       </td> <td>2817       </td> <td>2541       </td> <td>0.6                                   </td> <td>54.6                                                  </td> <td>46.5                                    </td> <td>3250                        </td> <td>13.4                           </td> <td>78.82                 </td>\n",
       "        </tr>\n",
       "        <tr>\n",
       "            <td>West Bengal       </td> <td>30992      </td> <td>30394      </td> <td>30394      </td> <td>7.5                                   </td> <td>474.9                                                 </td> <td>64                                      </td> <td>1634                        </td> <td>4.9                            </td> <td>76.26                 </td>\n",
       "        </tr>\n",
       "        <tr>\n",
       "            <td>A & N Islands (UT)</td> <td>132        </td> <td>147        </td> <td>135        </td> <td>0                                     </td> <td>1.9                                                   </td> <td>72.2                                    </td> <td>3321                        </td> <td>12                             </td> <td>86.63                 </td>\n",
       "        </tr>\n",
       "        <tr>\n",
       "            <td>Chandigarh (UT)   </td> <td>453        </td> <td>442        </td> <td>515        </td> <td>0.1                                   </td> <td>5.4                                                   </td> <td>95.2                                    </td> <td>5297                        </td> <td>8.2                            </td> <td>86.05                 </td>\n",
       "        </tr>\n",
       "        <tr>\n",
       "            <td>D&N Haveli (UT)   </td> <td>20         </td> <td>38         </td> <td>49         </td> <td>0                                     </td> <td>2.3                                                   </td> <td>21.6                                    </td> <td>635                         </td> <td>1.8                            </td> <td>76.24                 </td>\n",
       "        </tr>\n",
       "        <tr>\n",
       "            <td>Daman & Diu (UT)  </td> <td>26         </td> <td>16         </td> <td>33         </td> <td>0                                     </td> <td>1.3                                                   </td> <td>25.2                                    </td> <td>988                         </td> <td>0                              </td> <td>87.1                  </td>\n",
       "        </tr>\n",
       "        <tr>\n",
       "            <td>Delhi (UT)        </td> <td>13076      </td> <td>13640      </td> <td>13395      </td> <td>3.3                                   </td> <td>93.1                                                  </td> <td>144                                     </td> <td>5817                        </td> <td>10.8                           </td> <td>86.21                 </td>\n",
       "        </tr>\n",
       "        <tr>\n",
       "            <td>Lakshadweep (UT)  </td> <td>6          </td> <td>11         </td> <td>38         </td> <td>0                                     </td> <td>0.3                                                   </td> <td>115.2                                   </td> <td>931                         </td> <td>28.6                           </td> <td>91.85                 </td>\n",
       "        </tr>\n",
       "        <tr>\n",
       "            <td>Puducherry (UT)   </td> <td>147        </td> <td>166        </td> <td>95         </td> <td>0                                     </td> <td>7.9                                                   </td> <td>12.1                                    </td> <td>3334                        </td> <td>6                              </td> <td>85.85                 </td>\n",
       "        </tr>\n",
       "    </tbody>\n",
       "</table>"
      ],
      "text/plain": [
       "<IPython.core.display.HTML object>"
      ]
     },
     "metadata": {},
     "output_type": "display_data"
    }
   ],
   "source": [
    "# Here is the new state data with our new columns so that we can analyze this later!\n",
    "\n",
    "states = Table.read_table(\"https://raw.githubusercontent.com/ds-modules/global-fa21/main/data/State%20Data.csv?token=AUYFRYZSEORH4WOSLMDPCDLBMAMPI\")\n",
    "states.show()"
   ]
  },
  {
   "cell_type": "markdown",
   "id": "750ef816",
   "metadata": {},
   "source": [
    "With this information, we can now see that we will be able to compare our original columns with some new data pertaining to different areas of interest (i.e. GDP, unemployment, literacy rate)."
   ]
  },
  {
   "cell_type": "markdown",
   "id": "b658c1d2",
   "metadata": {},
   "source": [
    "# Data Analysis"
   ]
  },
  {
   "cell_type": "markdown",
   "id": "48bfb50c",
   "metadata": {},
   "source": [
    "# Introduction to Jupyter"
   ]
  },
  {
   "cell_type": "code",
   "execution_count": 82,
   "id": "52d0079a-6ca1-4cd5-8c55-036008fbca61",
   "metadata": {},
   "outputs": [],
   "source": [
    "city = pd.read_csv(r\"../data/Table 3B.1_3.csv\")"
   ]
  },
  {
   "cell_type": "code",
   "execution_count": 83,
   "id": "c2d0bc85-9baa-4d47-b84f-7cdbb12c41d2",
   "metadata": {},
   "outputs": [
    {
     "data": {
      "text/html": [
       "<div>\n",
       "<style scoped>\n",
       "    .dataframe tbody tr th:only-of-type {\n",
       "        vertical-align: middle;\n",
       "    }\n",
       "\n",
       "    .dataframe tbody tr th {\n",
       "        vertical-align: top;\n",
       "    }\n",
       "\n",
       "    .dataframe thead th {\n",
       "        text-align: right;\n",
       "    }\n",
       "</style>\n",
       "<table border=\"1\" class=\"dataframe\">\n",
       "  <thead>\n",
       "    <tr style=\"text-align: right;\">\n",
       "      <th></th>\n",
       "      <th>City</th>\n",
       "      <th>2017</th>\n",
       "      <th>2018</th>\n",
       "      <th>2019</th>\n",
       "      <th>Percentage City Share to Total (2019)</th>\n",
       "      <th>Actual Population (in Lakhs) (2011)</th>\n",
       "      <th>Rate of Total Crime Against Women\\n(2019)+</th>\n",
       "    </tr>\n",
       "  </thead>\n",
       "  <tbody>\n",
       "    <tr>\n",
       "      <th>0</th>\n",
       "      <td>Ahmedabad\\n(Gujarat)</td>\n",
       "      <td>1405</td>\n",
       "      <td>1416</td>\n",
       "      <td>1633</td>\n",
       "      <td>3.6</td>\n",
       "      <td>30.0</td>\n",
       "      <td>54.4</td>\n",
       "    </tr>\n",
       "    <tr>\n",
       "      <th>1</th>\n",
       "      <td>Bengaluru\\n(Karnataka)</td>\n",
       "      <td>3565</td>\n",
       "      <td>3427</td>\n",
       "      <td>3486</td>\n",
       "      <td>7.7</td>\n",
       "      <td>40.6</td>\n",
       "      <td>85.9</td>\n",
       "    </tr>\n",
       "    <tr>\n",
       "      <th>2</th>\n",
       "      <td>Chennai\\n(Tamil Nadu)</td>\n",
       "      <td>642</td>\n",
       "      <td>761</td>\n",
       "      <td>729</td>\n",
       "      <td>1.6</td>\n",
       "      <td>43.1</td>\n",
       "      <td>16.9</td>\n",
       "    </tr>\n",
       "    <tr>\n",
       "      <th>3</th>\n",
       "      <td>Coimbatore\\n(Tamil Nadu)</td>\n",
       "      <td>76</td>\n",
       "      <td>107</td>\n",
       "      <td>85</td>\n",
       "      <td>0.2</td>\n",
       "      <td>10.7</td>\n",
       "      <td>7.9</td>\n",
       "    </tr>\n",
       "    <tr>\n",
       "      <th>4</th>\n",
       "      <td>Delhi</td>\n",
       "      <td>11542</td>\n",
       "      <td>11724</td>\n",
       "      <td>12902</td>\n",
       "      <td>28.4</td>\n",
       "      <td>75.8</td>\n",
       "      <td>170.3</td>\n",
       "    </tr>\n",
       "    <tr>\n",
       "      <th>5</th>\n",
       "      <td>Ghaziabad\\n(Uttar Pradesh)</td>\n",
       "      <td>1166</td>\n",
       "      <td>1128</td>\n",
       "      <td>793</td>\n",
       "      <td>1.7</td>\n",
       "      <td>11.0</td>\n",
       "      <td>72.0</td>\n",
       "    </tr>\n",
       "    <tr>\n",
       "      <th>6</th>\n",
       "      <td>Hyderabad\\n(Telangana)</td>\n",
       "      <td>2272</td>\n",
       "      <td>2332</td>\n",
       "      <td>2755</td>\n",
       "      <td>6.1</td>\n",
       "      <td>37.6</td>\n",
       "      <td>73.2</td>\n",
       "    </tr>\n",
       "    <tr>\n",
       "      <th>7</th>\n",
       "      <td>Indore\\n(Madhya Pradesh)</td>\n",
       "      <td>1349</td>\n",
       "      <td>1593</td>\n",
       "      <td>1755</td>\n",
       "      <td>3.9</td>\n",
       "      <td>10.4</td>\n",
       "      <td>169.1</td>\n",
       "    </tr>\n",
       "    <tr>\n",
       "      <th>8</th>\n",
       "      <td>Jaipur\\n(Rajasthan)</td>\n",
       "      <td>1857</td>\n",
       "      <td>2030</td>\n",
       "      <td>3417</td>\n",
       "      <td>7.5</td>\n",
       "      <td>14.5</td>\n",
       "      <td>235.0</td>\n",
       "    </tr>\n",
       "    <tr>\n",
       "      <th>9</th>\n",
       "      <td>Kanpur\\n(Uttar Pradesh)</td>\n",
       "      <td>1574</td>\n",
       "      <td>1574</td>\n",
       "      <td>1315</td>\n",
       "      <td>2.9</td>\n",
       "      <td>13.4</td>\n",
       "      <td>98.5</td>\n",
       "    </tr>\n",
       "    <tr>\n",
       "      <th>10</th>\n",
       "      <td>Kochi\\n(Kerala)</td>\n",
       "      <td>535</td>\n",
       "      <td>537</td>\n",
       "      <td>492</td>\n",
       "      <td>1.1</td>\n",
       "      <td>10.8</td>\n",
       "      <td>45.8</td>\n",
       "    </tr>\n",
       "    <tr>\n",
       "      <th>11</th>\n",
       "      <td>Kolkata\\n(West Bengal)</td>\n",
       "      <td>1975</td>\n",
       "      <td>2176</td>\n",
       "      <td>2176</td>\n",
       "      <td>4.8</td>\n",
       "      <td>67.9</td>\n",
       "      <td>32.0</td>\n",
       "    </tr>\n",
       "    <tr>\n",
       "      <th>12</th>\n",
       "      <td>Kozhikode\\n(Kerala)</td>\n",
       "      <td>347</td>\n",
       "      <td>349</td>\n",
       "      <td>473</td>\n",
       "      <td>1.0</td>\n",
       "      <td>10.6</td>\n",
       "      <td>44.4</td>\n",
       "    </tr>\n",
       "    <tr>\n",
       "      <th>13</th>\n",
       "      <td>Lucknow\\n(Uttar Pradesh)</td>\n",
       "      <td>2468</td>\n",
       "      <td>2736</td>\n",
       "      <td>2425</td>\n",
       "      <td>5.3</td>\n",
       "      <td>13.8</td>\n",
       "      <td>175.4</td>\n",
       "    </tr>\n",
       "    <tr>\n",
       "      <th>14</th>\n",
       "      <td>Mumbai\\n(Maharashtra)</td>\n",
       "      <td>5453</td>\n",
       "      <td>6058</td>\n",
       "      <td>6519</td>\n",
       "      <td>14.3</td>\n",
       "      <td>85.2</td>\n",
       "      <td>76.5</td>\n",
       "    </tr>\n",
       "    <tr>\n",
       "      <th>15</th>\n",
       "      <td>Nagpur\\n(Maharashtra)</td>\n",
       "      <td>1152</td>\n",
       "      <td>1083</td>\n",
       "      <td>1144</td>\n",
       "      <td>2.5</td>\n",
       "      <td>12.2</td>\n",
       "      <td>93.6</td>\n",
       "    </tr>\n",
       "    <tr>\n",
       "      <th>16</th>\n",
       "      <td>Patna\\n(Bihar)</td>\n",
       "      <td>870</td>\n",
       "      <td>956</td>\n",
       "      <td>981</td>\n",
       "      <td>2.2</td>\n",
       "      <td>9.6</td>\n",
       "      <td>102.3</td>\n",
       "    </tr>\n",
       "    <tr>\n",
       "      <th>17</th>\n",
       "      <td>Pune\\n(Maharashtra)</td>\n",
       "      <td>2032</td>\n",
       "      <td>1481</td>\n",
       "      <td>1390</td>\n",
       "      <td>3.1</td>\n",
       "      <td>23.9</td>\n",
       "      <td>58.1</td>\n",
       "    </tr>\n",
       "    <tr>\n",
       "      <th>18</th>\n",
       "      <td>Surat\\n(Gujarat)</td>\n",
       "      <td>559</td>\n",
       "      <td>712</td>\n",
       "      <td>1015</td>\n",
       "      <td>2.2</td>\n",
       "      <td>19.7</td>\n",
       "      <td>51.5</td>\n",
       "    </tr>\n",
       "  </tbody>\n",
       "</table>\n",
       "</div>"
      ],
      "text/plain": [
       "                          City   2017   2018   2019  \\\n",
       "0         Ahmedabad\\n(Gujarat)   1405   1416   1633   \n",
       "1       Bengaluru\\n(Karnataka)   3565   3427   3486   \n",
       "2        Chennai\\n(Tamil Nadu)    642    761    729   \n",
       "3     Coimbatore\\n(Tamil Nadu)     76    107     85   \n",
       "4                        Delhi  11542  11724  12902   \n",
       "5   Ghaziabad\\n(Uttar Pradesh)   1166   1128    793   \n",
       "6       Hyderabad\\n(Telangana)   2272   2332   2755   \n",
       "7     Indore\\n(Madhya Pradesh)   1349   1593   1755   \n",
       "8          Jaipur\\n(Rajasthan)   1857   2030   3417   \n",
       "9      Kanpur\\n(Uttar Pradesh)   1574   1574   1315   \n",
       "10             Kochi\\n(Kerala)    535    537    492   \n",
       "11      Kolkata\\n(West Bengal)   1975   2176   2176   \n",
       "12         Kozhikode\\n(Kerala)    347    349    473   \n",
       "13    Lucknow\\n(Uttar Pradesh)   2468   2736   2425   \n",
       "14       Mumbai\\n(Maharashtra)   5453   6058   6519   \n",
       "15       Nagpur\\n(Maharashtra)   1152   1083   1144   \n",
       "16              Patna\\n(Bihar)    870    956    981   \n",
       "17         Pune\\n(Maharashtra)   2032   1481   1390   \n",
       "18            Surat\\n(Gujarat)    559    712   1015   \n",
       "\n",
       "    Percentage City Share to Total (2019)  \\\n",
       "0                                     3.6   \n",
       "1                                     7.7   \n",
       "2                                     1.6   \n",
       "3                                     0.2   \n",
       "4                                    28.4   \n",
       "5                                     1.7   \n",
       "6                                     6.1   \n",
       "7                                     3.9   \n",
       "8                                     7.5   \n",
       "9                                     2.9   \n",
       "10                                    1.1   \n",
       "11                                    4.8   \n",
       "12                                    1.0   \n",
       "13                                    5.3   \n",
       "14                                   14.3   \n",
       "15                                    2.5   \n",
       "16                                    2.2   \n",
       "17                                    3.1   \n",
       "18                                    2.2   \n",
       "\n",
       "    Actual Population (in Lakhs) (2011)  \\\n",
       "0                                  30.0   \n",
       "1                                  40.6   \n",
       "2                                  43.1   \n",
       "3                                  10.7   \n",
       "4                                  75.8   \n",
       "5                                  11.0   \n",
       "6                                  37.6   \n",
       "7                                  10.4   \n",
       "8                                  14.5   \n",
       "9                                  13.4   \n",
       "10                                 10.8   \n",
       "11                                 67.9   \n",
       "12                                 10.6   \n",
       "13                                 13.8   \n",
       "14                                 85.2   \n",
       "15                                 12.2   \n",
       "16                                  9.6   \n",
       "17                                 23.9   \n",
       "18                                 19.7   \n",
       "\n",
       "    Rate of Total Crime Against Women\\n(2019)+  \n",
       "0                                         54.4  \n",
       "1                                         85.9  \n",
       "2                                         16.9  \n",
       "3                                          7.9  \n",
       "4                                        170.3  \n",
       "5                                         72.0  \n",
       "6                                         73.2  \n",
       "7                                        169.1  \n",
       "8                                        235.0  \n",
       "9                                         98.5  \n",
       "10                                        45.8  \n",
       "11                                        32.0  \n",
       "12                                        44.4  \n",
       "13                                       175.4  \n",
       "14                                        76.5  \n",
       "15                                        93.6  \n",
       "16                                       102.3  \n",
       "17                                        58.1  \n",
       "18                                        51.5  "
      ]
     },
     "execution_count": 83,
     "metadata": {},
     "output_type": "execute_result"
    }
   ],
   "source": [
    "city"
   ]
  },
  {
   "cell_type": "code",
   "execution_count": 84,
   "id": "4e04f8be",
   "metadata": {},
   "outputs": [],
   "source": [
    "city.columns = ['City', '2017 Crimes', '2018 Crimes', '2019 Crimes',\n",
    "               'Percentage City Share to Total (2019)', \n",
    "               'Actual Population (in Lakhs) (2011)',\n",
    "               'Rate of Total Crime Against Women (2019)']"
   ]
  },
  {
   "cell_type": "code",
   "execution_count": 85,
   "id": "fdad415d",
   "metadata": {},
   "outputs": [
    {
     "data": {
      "text/html": [
       "<div>\n",
       "<style scoped>\n",
       "    .dataframe tbody tr th:only-of-type {\n",
       "        vertical-align: middle;\n",
       "    }\n",
       "\n",
       "    .dataframe tbody tr th {\n",
       "        vertical-align: top;\n",
       "    }\n",
       "\n",
       "    .dataframe thead th {\n",
       "        text-align: right;\n",
       "    }\n",
       "</style>\n",
       "<table border=\"1\" class=\"dataframe\">\n",
       "  <thead>\n",
       "    <tr style=\"text-align: right;\">\n",
       "      <th></th>\n",
       "      <th>City</th>\n",
       "      <th>2017 Crimes</th>\n",
       "      <th>2018 Crimes</th>\n",
       "      <th>2019 Crimes</th>\n",
       "      <th>Percentage City Share to Total (2019)</th>\n",
       "      <th>Actual Population (in Lakhs) (2011)</th>\n",
       "      <th>Rate of Total Crime Against Women (2019)</th>\n",
       "    </tr>\n",
       "  </thead>\n",
       "  <tbody>\n",
       "    <tr>\n",
       "      <th>0</th>\n",
       "      <td>Ahmedabad\\n(Gujarat)</td>\n",
       "      <td>1405</td>\n",
       "      <td>1416</td>\n",
       "      <td>1633</td>\n",
       "      <td>3.6</td>\n",
       "      <td>30.0</td>\n",
       "      <td>54.4</td>\n",
       "    </tr>\n",
       "    <tr>\n",
       "      <th>1</th>\n",
       "      <td>Bengaluru\\n(Karnataka)</td>\n",
       "      <td>3565</td>\n",
       "      <td>3427</td>\n",
       "      <td>3486</td>\n",
       "      <td>7.7</td>\n",
       "      <td>40.6</td>\n",
       "      <td>85.9</td>\n",
       "    </tr>\n",
       "    <tr>\n",
       "      <th>2</th>\n",
       "      <td>Chennai\\n(Tamil Nadu)</td>\n",
       "      <td>642</td>\n",
       "      <td>761</td>\n",
       "      <td>729</td>\n",
       "      <td>1.6</td>\n",
       "      <td>43.1</td>\n",
       "      <td>16.9</td>\n",
       "    </tr>\n",
       "    <tr>\n",
       "      <th>3</th>\n",
       "      <td>Coimbatore\\n(Tamil Nadu)</td>\n",
       "      <td>76</td>\n",
       "      <td>107</td>\n",
       "      <td>85</td>\n",
       "      <td>0.2</td>\n",
       "      <td>10.7</td>\n",
       "      <td>7.9</td>\n",
       "    </tr>\n",
       "    <tr>\n",
       "      <th>4</th>\n",
       "      <td>Delhi</td>\n",
       "      <td>11542</td>\n",
       "      <td>11724</td>\n",
       "      <td>12902</td>\n",
       "      <td>28.4</td>\n",
       "      <td>75.8</td>\n",
       "      <td>170.3</td>\n",
       "    </tr>\n",
       "    <tr>\n",
       "      <th>5</th>\n",
       "      <td>Ghaziabad\\n(Uttar Pradesh)</td>\n",
       "      <td>1166</td>\n",
       "      <td>1128</td>\n",
       "      <td>793</td>\n",
       "      <td>1.7</td>\n",
       "      <td>11.0</td>\n",
       "      <td>72.0</td>\n",
       "    </tr>\n",
       "    <tr>\n",
       "      <th>6</th>\n",
       "      <td>Hyderabad\\n(Telangana)</td>\n",
       "      <td>2272</td>\n",
       "      <td>2332</td>\n",
       "      <td>2755</td>\n",
       "      <td>6.1</td>\n",
       "      <td>37.6</td>\n",
       "      <td>73.2</td>\n",
       "    </tr>\n",
       "    <tr>\n",
       "      <th>7</th>\n",
       "      <td>Indore\\n(Madhya Pradesh)</td>\n",
       "      <td>1349</td>\n",
       "      <td>1593</td>\n",
       "      <td>1755</td>\n",
       "      <td>3.9</td>\n",
       "      <td>10.4</td>\n",
       "      <td>169.1</td>\n",
       "    </tr>\n",
       "    <tr>\n",
       "      <th>8</th>\n",
       "      <td>Jaipur\\n(Rajasthan)</td>\n",
       "      <td>1857</td>\n",
       "      <td>2030</td>\n",
       "      <td>3417</td>\n",
       "      <td>7.5</td>\n",
       "      <td>14.5</td>\n",
       "      <td>235.0</td>\n",
       "    </tr>\n",
       "    <tr>\n",
       "      <th>9</th>\n",
       "      <td>Kanpur\\n(Uttar Pradesh)</td>\n",
       "      <td>1574</td>\n",
       "      <td>1574</td>\n",
       "      <td>1315</td>\n",
       "      <td>2.9</td>\n",
       "      <td>13.4</td>\n",
       "      <td>98.5</td>\n",
       "    </tr>\n",
       "    <tr>\n",
       "      <th>10</th>\n",
       "      <td>Kochi\\n(Kerala)</td>\n",
       "      <td>535</td>\n",
       "      <td>537</td>\n",
       "      <td>492</td>\n",
       "      <td>1.1</td>\n",
       "      <td>10.8</td>\n",
       "      <td>45.8</td>\n",
       "    </tr>\n",
       "    <tr>\n",
       "      <th>11</th>\n",
       "      <td>Kolkata\\n(West Bengal)</td>\n",
       "      <td>1975</td>\n",
       "      <td>2176</td>\n",
       "      <td>2176</td>\n",
       "      <td>4.8</td>\n",
       "      <td>67.9</td>\n",
       "      <td>32.0</td>\n",
       "    </tr>\n",
       "    <tr>\n",
       "      <th>12</th>\n",
       "      <td>Kozhikode\\n(Kerala)</td>\n",
       "      <td>347</td>\n",
       "      <td>349</td>\n",
       "      <td>473</td>\n",
       "      <td>1.0</td>\n",
       "      <td>10.6</td>\n",
       "      <td>44.4</td>\n",
       "    </tr>\n",
       "    <tr>\n",
       "      <th>13</th>\n",
       "      <td>Lucknow\\n(Uttar Pradesh)</td>\n",
       "      <td>2468</td>\n",
       "      <td>2736</td>\n",
       "      <td>2425</td>\n",
       "      <td>5.3</td>\n",
       "      <td>13.8</td>\n",
       "      <td>175.4</td>\n",
       "    </tr>\n",
       "    <tr>\n",
       "      <th>14</th>\n",
       "      <td>Mumbai\\n(Maharashtra)</td>\n",
       "      <td>5453</td>\n",
       "      <td>6058</td>\n",
       "      <td>6519</td>\n",
       "      <td>14.3</td>\n",
       "      <td>85.2</td>\n",
       "      <td>76.5</td>\n",
       "    </tr>\n",
       "    <tr>\n",
       "      <th>15</th>\n",
       "      <td>Nagpur\\n(Maharashtra)</td>\n",
       "      <td>1152</td>\n",
       "      <td>1083</td>\n",
       "      <td>1144</td>\n",
       "      <td>2.5</td>\n",
       "      <td>12.2</td>\n",
       "      <td>93.6</td>\n",
       "    </tr>\n",
       "    <tr>\n",
       "      <th>16</th>\n",
       "      <td>Patna\\n(Bihar)</td>\n",
       "      <td>870</td>\n",
       "      <td>956</td>\n",
       "      <td>981</td>\n",
       "      <td>2.2</td>\n",
       "      <td>9.6</td>\n",
       "      <td>102.3</td>\n",
       "    </tr>\n",
       "    <tr>\n",
       "      <th>17</th>\n",
       "      <td>Pune\\n(Maharashtra)</td>\n",
       "      <td>2032</td>\n",
       "      <td>1481</td>\n",
       "      <td>1390</td>\n",
       "      <td>3.1</td>\n",
       "      <td>23.9</td>\n",
       "      <td>58.1</td>\n",
       "    </tr>\n",
       "    <tr>\n",
       "      <th>18</th>\n",
       "      <td>Surat\\n(Gujarat)</td>\n",
       "      <td>559</td>\n",
       "      <td>712</td>\n",
       "      <td>1015</td>\n",
       "      <td>2.2</td>\n",
       "      <td>19.7</td>\n",
       "      <td>51.5</td>\n",
       "    </tr>\n",
       "  </tbody>\n",
       "</table>\n",
       "</div>"
      ],
      "text/plain": [
       "                          City  2017 Crimes  2018 Crimes  2019 Crimes  \\\n",
       "0         Ahmedabad\\n(Gujarat)         1405         1416         1633   \n",
       "1       Bengaluru\\n(Karnataka)         3565         3427         3486   \n",
       "2        Chennai\\n(Tamil Nadu)          642          761          729   \n",
       "3     Coimbatore\\n(Tamil Nadu)           76          107           85   \n",
       "4                        Delhi        11542        11724        12902   \n",
       "5   Ghaziabad\\n(Uttar Pradesh)         1166         1128          793   \n",
       "6       Hyderabad\\n(Telangana)         2272         2332         2755   \n",
       "7     Indore\\n(Madhya Pradesh)         1349         1593         1755   \n",
       "8          Jaipur\\n(Rajasthan)         1857         2030         3417   \n",
       "9      Kanpur\\n(Uttar Pradesh)         1574         1574         1315   \n",
       "10             Kochi\\n(Kerala)          535          537          492   \n",
       "11      Kolkata\\n(West Bengal)         1975         2176         2176   \n",
       "12         Kozhikode\\n(Kerala)          347          349          473   \n",
       "13    Lucknow\\n(Uttar Pradesh)         2468         2736         2425   \n",
       "14       Mumbai\\n(Maharashtra)         5453         6058         6519   \n",
       "15       Nagpur\\n(Maharashtra)         1152         1083         1144   \n",
       "16              Patna\\n(Bihar)          870          956          981   \n",
       "17         Pune\\n(Maharashtra)         2032         1481         1390   \n",
       "18            Surat\\n(Gujarat)          559          712         1015   \n",
       "\n",
       "    Percentage City Share to Total (2019)  \\\n",
       "0                                     3.6   \n",
       "1                                     7.7   \n",
       "2                                     1.6   \n",
       "3                                     0.2   \n",
       "4                                    28.4   \n",
       "5                                     1.7   \n",
       "6                                     6.1   \n",
       "7                                     3.9   \n",
       "8                                     7.5   \n",
       "9                                     2.9   \n",
       "10                                    1.1   \n",
       "11                                    4.8   \n",
       "12                                    1.0   \n",
       "13                                    5.3   \n",
       "14                                   14.3   \n",
       "15                                    2.5   \n",
       "16                                    2.2   \n",
       "17                                    3.1   \n",
       "18                                    2.2   \n",
       "\n",
       "    Actual Population (in Lakhs) (2011)  \\\n",
       "0                                  30.0   \n",
       "1                                  40.6   \n",
       "2                                  43.1   \n",
       "3                                  10.7   \n",
       "4                                  75.8   \n",
       "5                                  11.0   \n",
       "6                                  37.6   \n",
       "7                                  10.4   \n",
       "8                                  14.5   \n",
       "9                                  13.4   \n",
       "10                                 10.8   \n",
       "11                                 67.9   \n",
       "12                                 10.6   \n",
       "13                                 13.8   \n",
       "14                                 85.2   \n",
       "15                                 12.2   \n",
       "16                                  9.6   \n",
       "17                                 23.9   \n",
       "18                                 19.7   \n",
       "\n",
       "    Rate of Total Crime Against Women (2019)  \n",
       "0                                       54.4  \n",
       "1                                       85.9  \n",
       "2                                       16.9  \n",
       "3                                        7.9  \n",
       "4                                      170.3  \n",
       "5                                       72.0  \n",
       "6                                       73.2  \n",
       "7                                      169.1  \n",
       "8                                      235.0  \n",
       "9                                       98.5  \n",
       "10                                      45.8  \n",
       "11                                      32.0  \n",
       "12                                      44.4  \n",
       "13                                     175.4  \n",
       "14                                      76.5  \n",
       "15                                      93.6  \n",
       "16                                     102.3  \n",
       "17                                      58.1  \n",
       "18                                      51.5  "
      ]
     },
     "execution_count": 85,
     "metadata": {},
     "output_type": "execute_result"
    }
   ],
   "source": [
    "city"
   ]
  },
  {
   "cell_type": "code",
   "execution_count": 86,
   "id": "33f0e844",
   "metadata": {},
   "outputs": [
    {
     "data": {
      "text/plain": [
       "0           Ahmedabad\\n(Gujarat)\n",
       "1         Bengaluru\\n(Karnataka)\n",
       "2          Chennai\\n(Tamil Nadu)\n",
       "3       Coimbatore\\n(Tamil Nadu)\n",
       "4                          Delhi\n",
       "5     Ghaziabad\\n(Uttar Pradesh)\n",
       "6         Hyderabad\\n(Telangana)\n",
       "7       Indore\\n(Madhya Pradesh)\n",
       "8            Jaipur\\n(Rajasthan)\n",
       "9        Kanpur\\n(Uttar Pradesh)\n",
       "10               Kochi\\n(Kerala)\n",
       "11        Kolkata\\n(West Bengal)\n",
       "12           Kozhikode\\n(Kerala)\n",
       "13      Lucknow\\n(Uttar Pradesh)\n",
       "14         Mumbai\\n(Maharashtra)\n",
       "15         Nagpur\\n(Maharashtra)\n",
       "16                Patna\\n(Bihar)\n",
       "17           Pune\\n(Maharashtra)\n",
       "18              Surat\\n(Gujarat)\n",
       "Name: City, dtype: object"
      ]
     },
     "execution_count": 86,
     "metadata": {},
     "output_type": "execute_result"
    }
   ],
   "source": [
    "city['City']"
   ]
  },
  {
   "cell_type": "code",
   "execution_count": 87,
   "id": "273cb9af",
   "metadata": {},
   "outputs": [],
   "source": [
    "def replace (df): \n",
    "    new = []\n",
    "    for text in df[\"City\"]:\n",
    "        new.append(text.split(\"\\n\", 1))\n",
    "        \n",
    "    return new\n",
    "    "
   ]
  },
  {
   "cell_type": "code",
   "execution_count": 88,
   "id": "00445abe",
   "metadata": {},
   "outputs": [
    {
     "data": {
      "text/plain": [
       "[['Ahmedabad', '(Gujarat)'],\n",
       " ['Bengaluru', '(Karnataka)'],\n",
       " ['Chennai', '(Tamil Nadu)'],\n",
       " ['Coimbatore', '(Tamil Nadu)'],\n",
       " ['Delhi'],\n",
       " ['Ghaziabad', '(Uttar Pradesh)'],\n",
       " ['Hyderabad', '(Telangana)'],\n",
       " ['Indore', '(Madhya Pradesh)'],\n",
       " ['Jaipur', '(Rajasthan)'],\n",
       " ['Kanpur', '(Uttar Pradesh)'],\n",
       " ['Kochi', '(Kerala)'],\n",
       " ['Kolkata', '(West Bengal)'],\n",
       " ['Kozhikode', '(Kerala)'],\n",
       " ['Lucknow', '(Uttar Pradesh)'],\n",
       " ['Mumbai', '(Maharashtra)'],\n",
       " ['Nagpur', '(Maharashtra)'],\n",
       " ['Patna', '(Bihar)'],\n",
       " ['Pune', '(Maharashtra)'],\n",
       " ['Surat', '(Gujarat)']]"
      ]
     },
     "execution_count": 88,
     "metadata": {},
     "output_type": "execute_result"
    }
   ],
   "source": [
    "new_city = replace(city)\n",
    "new_city"
   ]
  },
  {
   "cell_type": "code",
   "execution_count": 89,
   "id": "7eb50cde",
   "metadata": {},
   "outputs": [
    {
     "data": {
      "text/plain": [
       "[['Ahmedabad', '(Gujarat)'],\n",
       " ['Bengaluru', '(Karnataka)'],\n",
       " ['Chennai', '(Tamil Nadu)'],\n",
       " ['Coimbatore', '(Tamil Nadu)'],\n",
       " ['Delhi', 'Delhi'],\n",
       " ['Ghaziabad', '(Uttar Pradesh)'],\n",
       " ['Hyderabad', '(Telangana)'],\n",
       " ['Indore', '(Madhya Pradesh)'],\n",
       " ['Jaipur', '(Rajasthan)'],\n",
       " ['Kanpur', '(Uttar Pradesh)'],\n",
       " ['Kochi', '(Kerala)'],\n",
       " ['Kolkata', '(West Bengal)'],\n",
       " ['Kozhikode', '(Kerala)'],\n",
       " ['Lucknow', '(Uttar Pradesh)'],\n",
       " ['Mumbai', '(Maharashtra)'],\n",
       " ['Nagpur', '(Maharashtra)'],\n",
       " ['Patna', '(Bihar)'],\n",
       " ['Pune', '(Maharashtra)'],\n",
       " ['Surat', '(Gujarat)']]"
      ]
     },
     "execution_count": 89,
     "metadata": {},
     "output_type": "execute_result"
    }
   ],
   "source": [
    "new_city[4] = ['Delhi', 'Delhi']\n",
    "new_city"
   ]
  },
  {
   "cell_type": "code",
   "execution_count": 90,
   "id": "4d67c379-976d-4796-bf09-0d12319a6f79",
   "metadata": {},
   "outputs": [
    {
     "data": {
      "text/plain": [
       "['Ahmedabad',\n",
       " 'Bengaluru',\n",
       " 'Chennai',\n",
       " 'Coimbatore',\n",
       " 'Delhi',\n",
       " 'Ghaziabad',\n",
       " 'Hyderabad',\n",
       " 'Indore',\n",
       " 'Jaipur',\n",
       " 'Kanpur',\n",
       " 'Kochi',\n",
       " 'Kolkata',\n",
       " 'Kozhikode',\n",
       " 'Lucknow',\n",
       " 'Mumbai',\n",
       " 'Nagpur',\n",
       " 'Patna',\n",
       " 'Pune',\n",
       " 'Surat']"
      ]
     },
     "execution_count": 90,
     "metadata": {},
     "output_type": "execute_result"
    }
   ],
   "source": [
    "city_1 = []\n",
    "for i in np.arange(len(new_city)):\n",
    "    city_1.append(new_city[i][0])\n",
    "city_1"
   ]
  },
  {
   "cell_type": "code",
   "execution_count": 91,
   "id": "71e17cf0-8a44-4165-8ea4-80708c7fb022",
   "metadata": {},
   "outputs": [
    {
     "data": {
      "text/plain": [
       "['Gujarat',\n",
       " 'Karnataka',\n",
       " 'Tamil Nadu',\n",
       " 'Tamil Nadu',\n",
       " 'Delhi',\n",
       " 'Uttar Pradesh',\n",
       " 'Telangana',\n",
       " 'Madhya Pradesh',\n",
       " 'Rajasthan',\n",
       " 'Uttar Pradesh',\n",
       " 'Kerala',\n",
       " 'West Bengal',\n",
       " 'Kerala',\n",
       " 'Uttar Pradesh',\n",
       " 'Maharashtra',\n",
       " 'Maharashtra',\n",
       " 'Bihar',\n",
       " 'Maharashtra',\n",
       " 'Gujarat']"
      ]
     },
     "execution_count": 91,
     "metadata": {},
     "output_type": "execute_result"
    }
   ],
   "source": [
    "city_2 = []\n",
    "for i in np.arange(len(new_city)):\n",
    "    text = new_city[i][1].replace('(','').replace(')','')\n",
    "    city_2.append(text)\n",
    "city_2"
   ]
  },
  {
   "cell_type": "markdown",
   "id": "b1e1b352",
   "metadata": {},
   "source": [
    "# The Data"
   ]
  },
  {
   "cell_type": "code",
   "execution_count": 92,
   "id": "628c23c8",
   "metadata": {},
   "outputs": [
    {
     "data": {
      "text/html": [
       "<div>\n",
       "<style scoped>\n",
       "    .dataframe tbody tr th:only-of-type {\n",
       "        vertical-align: middle;\n",
       "    }\n",
       "\n",
       "    .dataframe tbody tr th {\n",
       "        vertical-align: top;\n",
       "    }\n",
       "\n",
       "    .dataframe thead th {\n",
       "        text-align: right;\n",
       "    }\n",
       "</style>\n",
       "<table border=\"1\" class=\"dataframe\">\n",
       "  <thead>\n",
       "    <tr style=\"text-align: right;\">\n",
       "      <th></th>\n",
       "      <th>City</th>\n",
       "      <th>State</th>\n",
       "      <th>2017 Crimes</th>\n",
       "      <th>2018 Crimes</th>\n",
       "      <th>2019 Crimes</th>\n",
       "      <th>Percentage City Share to Total (2019)</th>\n",
       "      <th>Actual Population (in Lakhs) (2011)</th>\n",
       "      <th>Rate of Total Crime Against Women (2019)</th>\n",
       "    </tr>\n",
       "  </thead>\n",
       "  <tbody>\n",
       "    <tr>\n",
       "      <th>0</th>\n",
       "      <td>Ahmedabad</td>\n",
       "      <td>Gujarat</td>\n",
       "      <td>1405</td>\n",
       "      <td>1416</td>\n",
       "      <td>1633</td>\n",
       "      <td>3.6</td>\n",
       "      <td>30.0</td>\n",
       "      <td>54.4</td>\n",
       "    </tr>\n",
       "    <tr>\n",
       "      <th>1</th>\n",
       "      <td>Bengaluru</td>\n",
       "      <td>Karnataka</td>\n",
       "      <td>3565</td>\n",
       "      <td>3427</td>\n",
       "      <td>3486</td>\n",
       "      <td>7.7</td>\n",
       "      <td>40.6</td>\n",
       "      <td>85.9</td>\n",
       "    </tr>\n",
       "    <tr>\n",
       "      <th>2</th>\n",
       "      <td>Chennai</td>\n",
       "      <td>Tamil Nadu</td>\n",
       "      <td>642</td>\n",
       "      <td>761</td>\n",
       "      <td>729</td>\n",
       "      <td>1.6</td>\n",
       "      <td>43.1</td>\n",
       "      <td>16.9</td>\n",
       "    </tr>\n",
       "    <tr>\n",
       "      <th>3</th>\n",
       "      <td>Coimbatore</td>\n",
       "      <td>Tamil Nadu</td>\n",
       "      <td>76</td>\n",
       "      <td>107</td>\n",
       "      <td>85</td>\n",
       "      <td>0.2</td>\n",
       "      <td>10.7</td>\n",
       "      <td>7.9</td>\n",
       "    </tr>\n",
       "    <tr>\n",
       "      <th>4</th>\n",
       "      <td>Delhi</td>\n",
       "      <td>Delhi</td>\n",
       "      <td>11542</td>\n",
       "      <td>11724</td>\n",
       "      <td>12902</td>\n",
       "      <td>28.4</td>\n",
       "      <td>75.8</td>\n",
       "      <td>170.3</td>\n",
       "    </tr>\n",
       "    <tr>\n",
       "      <th>5</th>\n",
       "      <td>Ghaziabad</td>\n",
       "      <td>Uttar Pradesh</td>\n",
       "      <td>1166</td>\n",
       "      <td>1128</td>\n",
       "      <td>793</td>\n",
       "      <td>1.7</td>\n",
       "      <td>11.0</td>\n",
       "      <td>72.0</td>\n",
       "    </tr>\n",
       "    <tr>\n",
       "      <th>6</th>\n",
       "      <td>Hyderabad</td>\n",
       "      <td>Telangana</td>\n",
       "      <td>2272</td>\n",
       "      <td>2332</td>\n",
       "      <td>2755</td>\n",
       "      <td>6.1</td>\n",
       "      <td>37.6</td>\n",
       "      <td>73.2</td>\n",
       "    </tr>\n",
       "    <tr>\n",
       "      <th>7</th>\n",
       "      <td>Indore</td>\n",
       "      <td>Madhya Pradesh</td>\n",
       "      <td>1349</td>\n",
       "      <td>1593</td>\n",
       "      <td>1755</td>\n",
       "      <td>3.9</td>\n",
       "      <td>10.4</td>\n",
       "      <td>169.1</td>\n",
       "    </tr>\n",
       "    <tr>\n",
       "      <th>8</th>\n",
       "      <td>Jaipur</td>\n",
       "      <td>Rajasthan</td>\n",
       "      <td>1857</td>\n",
       "      <td>2030</td>\n",
       "      <td>3417</td>\n",
       "      <td>7.5</td>\n",
       "      <td>14.5</td>\n",
       "      <td>235.0</td>\n",
       "    </tr>\n",
       "    <tr>\n",
       "      <th>9</th>\n",
       "      <td>Kanpur</td>\n",
       "      <td>Uttar Pradesh</td>\n",
       "      <td>1574</td>\n",
       "      <td>1574</td>\n",
       "      <td>1315</td>\n",
       "      <td>2.9</td>\n",
       "      <td>13.4</td>\n",
       "      <td>98.5</td>\n",
       "    </tr>\n",
       "    <tr>\n",
       "      <th>10</th>\n",
       "      <td>Kochi</td>\n",
       "      <td>Kerala</td>\n",
       "      <td>535</td>\n",
       "      <td>537</td>\n",
       "      <td>492</td>\n",
       "      <td>1.1</td>\n",
       "      <td>10.8</td>\n",
       "      <td>45.8</td>\n",
       "    </tr>\n",
       "    <tr>\n",
       "      <th>11</th>\n",
       "      <td>Kolkata</td>\n",
       "      <td>West Bengal</td>\n",
       "      <td>1975</td>\n",
       "      <td>2176</td>\n",
       "      <td>2176</td>\n",
       "      <td>4.8</td>\n",
       "      <td>67.9</td>\n",
       "      <td>32.0</td>\n",
       "    </tr>\n",
       "    <tr>\n",
       "      <th>12</th>\n",
       "      <td>Kozhikode</td>\n",
       "      <td>Kerala</td>\n",
       "      <td>347</td>\n",
       "      <td>349</td>\n",
       "      <td>473</td>\n",
       "      <td>1.0</td>\n",
       "      <td>10.6</td>\n",
       "      <td>44.4</td>\n",
       "    </tr>\n",
       "    <tr>\n",
       "      <th>13</th>\n",
       "      <td>Lucknow</td>\n",
       "      <td>Uttar Pradesh</td>\n",
       "      <td>2468</td>\n",
       "      <td>2736</td>\n",
       "      <td>2425</td>\n",
       "      <td>5.3</td>\n",
       "      <td>13.8</td>\n",
       "      <td>175.4</td>\n",
       "    </tr>\n",
       "    <tr>\n",
       "      <th>14</th>\n",
       "      <td>Mumbai</td>\n",
       "      <td>Maharashtra</td>\n",
       "      <td>5453</td>\n",
       "      <td>6058</td>\n",
       "      <td>6519</td>\n",
       "      <td>14.3</td>\n",
       "      <td>85.2</td>\n",
       "      <td>76.5</td>\n",
       "    </tr>\n",
       "    <tr>\n",
       "      <th>15</th>\n",
       "      <td>Nagpur</td>\n",
       "      <td>Maharashtra</td>\n",
       "      <td>1152</td>\n",
       "      <td>1083</td>\n",
       "      <td>1144</td>\n",
       "      <td>2.5</td>\n",
       "      <td>12.2</td>\n",
       "      <td>93.6</td>\n",
       "    </tr>\n",
       "    <tr>\n",
       "      <th>16</th>\n",
       "      <td>Patna</td>\n",
       "      <td>Bihar</td>\n",
       "      <td>870</td>\n",
       "      <td>956</td>\n",
       "      <td>981</td>\n",
       "      <td>2.2</td>\n",
       "      <td>9.6</td>\n",
       "      <td>102.3</td>\n",
       "    </tr>\n",
       "    <tr>\n",
       "      <th>17</th>\n",
       "      <td>Pune</td>\n",
       "      <td>Maharashtra</td>\n",
       "      <td>2032</td>\n",
       "      <td>1481</td>\n",
       "      <td>1390</td>\n",
       "      <td>3.1</td>\n",
       "      <td>23.9</td>\n",
       "      <td>58.1</td>\n",
       "    </tr>\n",
       "    <tr>\n",
       "      <th>18</th>\n",
       "      <td>Surat</td>\n",
       "      <td>Gujarat</td>\n",
       "      <td>559</td>\n",
       "      <td>712</td>\n",
       "      <td>1015</td>\n",
       "      <td>2.2</td>\n",
       "      <td>19.7</td>\n",
       "      <td>51.5</td>\n",
       "    </tr>\n",
       "  </tbody>\n",
       "</table>\n",
       "</div>"
      ],
      "text/plain": [
       "          City           State  2017 Crimes  2018 Crimes  2019 Crimes  \\\n",
       "0    Ahmedabad         Gujarat         1405         1416         1633   \n",
       "1    Bengaluru       Karnataka         3565         3427         3486   \n",
       "2      Chennai      Tamil Nadu          642          761          729   \n",
       "3   Coimbatore      Tamil Nadu           76          107           85   \n",
       "4        Delhi           Delhi        11542        11724        12902   \n",
       "5    Ghaziabad   Uttar Pradesh         1166         1128          793   \n",
       "6    Hyderabad       Telangana         2272         2332         2755   \n",
       "7       Indore  Madhya Pradesh         1349         1593         1755   \n",
       "8       Jaipur       Rajasthan         1857         2030         3417   \n",
       "9       Kanpur   Uttar Pradesh         1574         1574         1315   \n",
       "10       Kochi          Kerala          535          537          492   \n",
       "11     Kolkata     West Bengal         1975         2176         2176   \n",
       "12   Kozhikode          Kerala          347          349          473   \n",
       "13     Lucknow   Uttar Pradesh         2468         2736         2425   \n",
       "14      Mumbai     Maharashtra         5453         6058         6519   \n",
       "15      Nagpur     Maharashtra         1152         1083         1144   \n",
       "16       Patna           Bihar          870          956          981   \n",
       "17        Pune     Maharashtra         2032         1481         1390   \n",
       "18       Surat         Gujarat          559          712         1015   \n",
       "\n",
       "    Percentage City Share to Total (2019)  \\\n",
       "0                                     3.6   \n",
       "1                                     7.7   \n",
       "2                                     1.6   \n",
       "3                                     0.2   \n",
       "4                                    28.4   \n",
       "5                                     1.7   \n",
       "6                                     6.1   \n",
       "7                                     3.9   \n",
       "8                                     7.5   \n",
       "9                                     2.9   \n",
       "10                                    1.1   \n",
       "11                                    4.8   \n",
       "12                                    1.0   \n",
       "13                                    5.3   \n",
       "14                                   14.3   \n",
       "15                                    2.5   \n",
       "16                                    2.2   \n",
       "17                                    3.1   \n",
       "18                                    2.2   \n",
       "\n",
       "    Actual Population (in Lakhs) (2011)  \\\n",
       "0                                  30.0   \n",
       "1                                  40.6   \n",
       "2                                  43.1   \n",
       "3                                  10.7   \n",
       "4                                  75.8   \n",
       "5                                  11.0   \n",
       "6                                  37.6   \n",
       "7                                  10.4   \n",
       "8                                  14.5   \n",
       "9                                  13.4   \n",
       "10                                 10.8   \n",
       "11                                 67.9   \n",
       "12                                 10.6   \n",
       "13                                 13.8   \n",
       "14                                 85.2   \n",
       "15                                 12.2   \n",
       "16                                  9.6   \n",
       "17                                 23.9   \n",
       "18                                 19.7   \n",
       "\n",
       "    Rate of Total Crime Against Women (2019)  \n",
       "0                                       54.4  \n",
       "1                                       85.9  \n",
       "2                                       16.9  \n",
       "3                                        7.9  \n",
       "4                                      170.3  \n",
       "5                                       72.0  \n",
       "6                                       73.2  \n",
       "7                                      169.1  \n",
       "8                                      235.0  \n",
       "9                                       98.5  \n",
       "10                                      45.8  \n",
       "11                                      32.0  \n",
       "12                                      44.4  \n",
       "13                                     175.4  \n",
       "14                                      76.5  \n",
       "15                                      93.6  \n",
       "16                                     102.3  \n",
       "17                                      58.1  \n",
       "18                                      51.5  "
      ]
     },
     "execution_count": 92,
     "metadata": {},
     "output_type": "execute_result"
    }
   ],
   "source": [
    "city[\"City\"] = city_1\n",
    "city.insert(loc = 1, column = \"State\", value = city_2)\n",
    "city"
   ]
  },
  {
   "cell_type": "code",
   "execution_count": 93,
   "id": "39cda8fa",
   "metadata": {},
   "outputs": [
    {
     "data": {
      "image/png": "[encoded data removed]",
      "text/plain": [
       "<Figure size 432x288 with 1 Axes>"
      ]
     },
     "metadata": {},
     "output_type": "display_data"
    }
   ],
   "source": [
    "fig,ax = plt.subplots()\n",
    "plt.setp(ax.get_xticklabels(), rotation=90, horizontalalignment='right')\n",
    "plt.plot(city[\"City\"], city[\"2017 Crimes\"])\n",
    "plt.plot(city[\"City\"], city[\"2018 Crimes\"])\n",
    "plt.plot(city[\"City\"], city[\"2019 Crimes\"])\n",
    "\n",
    "plt.xlabel(\"City\")\n",
    "plt.ylabel(\"Crimes\")\n",
    "leg = ax.legend((\"2017 Crimes\", \"2018 Crimes\", \"2019 Crimes\"));\n"
   ]
  },
  {
   "cell_type": "code",
   "execution_count": 94,
   "id": "d4645de9-e248-4221-8294-d2a3146fb309",
   "metadata": {},
   "outputs": [
    {
     "data": {
      "text/html": [
       "<div>\n",
       "<style scoped>\n",
       "    .dataframe tbody tr th:only-of-type {\n",
       "        vertical-align: middle;\n",
       "    }\n",
       "\n",
       "    .dataframe tbody tr th {\n",
       "        vertical-align: top;\n",
       "    }\n",
       "\n",
       "    .dataframe thead th {\n",
       "        text-align: right;\n",
       "    }\n",
       "</style>\n",
       "<table border=\"1\" class=\"dataframe\">\n",
       "  <thead>\n",
       "    <tr style=\"text-align: right;\">\n",
       "      <th></th>\n",
       "      <th>City</th>\n",
       "      <th>State</th>\n",
       "      <th>2017 Crimes</th>\n",
       "      <th>2018 Crimes</th>\n",
       "      <th>2019 Crimes</th>\n",
       "      <th>Percentage City Share to Total (2019)</th>\n",
       "      <th>Actual Population (in Lakhs) (2011)</th>\n",
       "      <th>Rate of Total Crime Against Women (2019)</th>\n",
       "    </tr>\n",
       "  </thead>\n",
       "  <tbody>\n",
       "    <tr>\n",
       "      <th>0</th>\n",
       "      <td>Ahmedabad</td>\n",
       "      <td>Gujarat</td>\n",
       "      <td>1405</td>\n",
       "      <td>1416</td>\n",
       "      <td>1633</td>\n",
       "      <td>3.6</td>\n",
       "      <td>30.0</td>\n",
       "      <td>54.4</td>\n",
       "    </tr>\n",
       "    <tr>\n",
       "      <th>1</th>\n",
       "      <td>Bengaluru</td>\n",
       "      <td>Karnataka</td>\n",
       "      <td>3565</td>\n",
       "      <td>3427</td>\n",
       "      <td>3486</td>\n",
       "      <td>7.7</td>\n",
       "      <td>40.6</td>\n",
       "      <td>85.9</td>\n",
       "    </tr>\n",
       "    <tr>\n",
       "      <th>2</th>\n",
       "      <td>Chennai</td>\n",
       "      <td>Tamil Nadu</td>\n",
       "      <td>642</td>\n",
       "      <td>761</td>\n",
       "      <td>729</td>\n",
       "      <td>1.6</td>\n",
       "      <td>43.1</td>\n",
       "      <td>16.9</td>\n",
       "    </tr>\n",
       "    <tr>\n",
       "      <th>3</th>\n",
       "      <td>Coimbatore</td>\n",
       "      <td>Tamil Nadu</td>\n",
       "      <td>76</td>\n",
       "      <td>107</td>\n",
       "      <td>85</td>\n",
       "      <td>0.2</td>\n",
       "      <td>10.7</td>\n",
       "      <td>7.9</td>\n",
       "    </tr>\n",
       "    <tr>\n",
       "      <th>4</th>\n",
       "      <td>Delhi</td>\n",
       "      <td>Delhi</td>\n",
       "      <td>11542</td>\n",
       "      <td>11724</td>\n",
       "      <td>12902</td>\n",
       "      <td>28.4</td>\n",
       "      <td>75.8</td>\n",
       "      <td>170.3</td>\n",
       "    </tr>\n",
       "    <tr>\n",
       "      <th>5</th>\n",
       "      <td>Ghaziabad</td>\n",
       "      <td>Uttar Pradesh</td>\n",
       "      <td>1166</td>\n",
       "      <td>1128</td>\n",
       "      <td>793</td>\n",
       "      <td>1.7</td>\n",
       "      <td>11.0</td>\n",
       "      <td>72.0</td>\n",
       "    </tr>\n",
       "    <tr>\n",
       "      <th>6</th>\n",
       "      <td>Hyderabad</td>\n",
       "      <td>Telangana</td>\n",
       "      <td>2272</td>\n",
       "      <td>2332</td>\n",
       "      <td>2755</td>\n",
       "      <td>6.1</td>\n",
       "      <td>37.6</td>\n",
       "      <td>73.2</td>\n",
       "    </tr>\n",
       "    <tr>\n",
       "      <th>7</th>\n",
       "      <td>Indore</td>\n",
       "      <td>Madhya Pradesh</td>\n",
       "      <td>1349</td>\n",
       "      <td>1593</td>\n",
       "      <td>1755</td>\n",
       "      <td>3.9</td>\n",
       "      <td>10.4</td>\n",
       "      <td>169.1</td>\n",
       "    </tr>\n",
       "    <tr>\n",
       "      <th>8</th>\n",
       "      <td>Jaipur</td>\n",
       "      <td>Rajasthan</td>\n",
       "      <td>1857</td>\n",
       "      <td>2030</td>\n",
       "      <td>3417</td>\n",
       "      <td>7.5</td>\n",
       "      <td>14.5</td>\n",
       "      <td>235.0</td>\n",
       "    </tr>\n",
       "    <tr>\n",
       "      <th>9</th>\n",
       "      <td>Kanpur</td>\n",
       "      <td>Uttar Pradesh</td>\n",
       "      <td>1574</td>\n",
       "      <td>1574</td>\n",
       "      <td>1315</td>\n",
       "      <td>2.9</td>\n",
       "      <td>13.4</td>\n",
       "      <td>98.5</td>\n",
       "    </tr>\n",
       "    <tr>\n",
       "      <th>10</th>\n",
       "      <td>Kochi</td>\n",
       "      <td>Kerala</td>\n",
       "      <td>535</td>\n",
       "      <td>537</td>\n",
       "      <td>492</td>\n",
       "      <td>1.1</td>\n",
       "      <td>10.8</td>\n",
       "      <td>45.8</td>\n",
       "    </tr>\n",
       "    <tr>\n",
       "      <th>11</th>\n",
       "      <td>Kolkata</td>\n",
       "      <td>West Bengal</td>\n",
       "      <td>1975</td>\n",
       "      <td>2176</td>\n",
       "      <td>2176</td>\n",
       "      <td>4.8</td>\n",
       "      <td>67.9</td>\n",
       "      <td>32.0</td>\n",
       "    </tr>\n",
       "    <tr>\n",
       "      <th>12</th>\n",
       "      <td>Kozhikode</td>\n",
       "      <td>Kerala</td>\n",
       "      <td>347</td>\n",
       "      <td>349</td>\n",
       "      <td>473</td>\n",
       "      <td>1.0</td>\n",
       "      <td>10.6</td>\n",
       "      <td>44.4</td>\n",
       "    </tr>\n",
       "    <tr>\n",
       "      <th>13</th>\n",
       "      <td>Lucknow</td>\n",
       "      <td>Uttar Pradesh</td>\n",
       "      <td>2468</td>\n",
       "      <td>2736</td>\n",
       "      <td>2425</td>\n",
       "      <td>5.3</td>\n",
       "      <td>13.8</td>\n",
       "      <td>175.4</td>\n",
       "    </tr>\n",
       "    <tr>\n",
       "      <th>14</th>\n",
       "      <td>Mumbai</td>\n",
       "      <td>Maharashtra</td>\n",
       "      <td>5453</td>\n",
       "      <td>6058</td>\n",
       "      <td>6519</td>\n",
       "      <td>14.3</td>\n",
       "      <td>85.2</td>\n",
       "      <td>76.5</td>\n",
       "    </tr>\n",
       "    <tr>\n",
       "      <th>15</th>\n",
       "      <td>Nagpur</td>\n",
       "      <td>Maharashtra</td>\n",
       "      <td>1152</td>\n",
       "      <td>1083</td>\n",
       "      <td>1144</td>\n",
       "      <td>2.5</td>\n",
       "      <td>12.2</td>\n",
       "      <td>93.6</td>\n",
       "    </tr>\n",
       "    <tr>\n",
       "      <th>16</th>\n",
       "      <td>Patna</td>\n",
       "      <td>Bihar</td>\n",
       "      <td>870</td>\n",
       "      <td>956</td>\n",
       "      <td>981</td>\n",
       "      <td>2.2</td>\n",
       "      <td>9.6</td>\n",
       "      <td>102.3</td>\n",
       "    </tr>\n",
       "    <tr>\n",
       "      <th>17</th>\n",
       "      <td>Pune</td>\n",
       "      <td>Maharashtra</td>\n",
       "      <td>2032</td>\n",
       "      <td>1481</td>\n",
       "      <td>1390</td>\n",
       "      <td>3.1</td>\n",
       "      <td>23.9</td>\n",
       "      <td>58.1</td>\n",
       "    </tr>\n",
       "    <tr>\n",
       "      <th>18</th>\n",
       "      <td>Surat</td>\n",
       "      <td>Gujarat</td>\n",
       "      <td>559</td>\n",
       "      <td>712</td>\n",
       "      <td>1015</td>\n",
       "      <td>2.2</td>\n",
       "      <td>19.7</td>\n",
       "      <td>51.5</td>\n",
       "    </tr>\n",
       "  </tbody>\n",
       "</table>\n",
       "</div>"
      ],
      "text/plain": [
       "          City           State  2017 Crimes  2018 Crimes  2019 Crimes  \\\n",
       "0    Ahmedabad         Gujarat         1405         1416         1633   \n",
       "1    Bengaluru       Karnataka         3565         3427         3486   \n",
       "2      Chennai      Tamil Nadu          642          761          729   \n",
       "3   Coimbatore      Tamil Nadu           76          107           85   \n",
       "4        Delhi           Delhi        11542        11724        12902   \n",
       "5    Ghaziabad   Uttar Pradesh         1166         1128          793   \n",
       "6    Hyderabad       Telangana         2272         2332         2755   \n",
       "7       Indore  Madhya Pradesh         1349         1593         1755   \n",
       "8       Jaipur       Rajasthan         1857         2030         3417   \n",
       "9       Kanpur   Uttar Pradesh         1574         1574         1315   \n",
       "10       Kochi          Kerala          535          537          492   \n",
       "11     Kolkata     West Bengal         1975         2176         2176   \n",
       "12   Kozhikode          Kerala          347          349          473   \n",
       "13     Lucknow   Uttar Pradesh         2468         2736         2425   \n",
       "14      Mumbai     Maharashtra         5453         6058         6519   \n",
       "15      Nagpur     Maharashtra         1152         1083         1144   \n",
       "16       Patna           Bihar          870          956          981   \n",
       "17        Pune     Maharashtra         2032         1481         1390   \n",
       "18       Surat         Gujarat          559          712         1015   \n",
       "\n",
       "    Percentage City Share to Total (2019)  \\\n",
       "0                                     3.6   \n",
       "1                                     7.7   \n",
       "2                                     1.6   \n",
       "3                                     0.2   \n",
       "4                                    28.4   \n",
       "5                                     1.7   \n",
       "6                                     6.1   \n",
       "7                                     3.9   \n",
       "8                                     7.5   \n",
       "9                                     2.9   \n",
       "10                                    1.1   \n",
       "11                                    4.8   \n",
       "12                                    1.0   \n",
       "13                                    5.3   \n",
       "14                                   14.3   \n",
       "15                                    2.5   \n",
       "16                                    2.2   \n",
       "17                                    3.1   \n",
       "18                                    2.2   \n",
       "\n",
       "    Actual Population (in Lakhs) (2011)  \\\n",
       "0                                  30.0   \n",
       "1                                  40.6   \n",
       "2                                  43.1   \n",
       "3                                  10.7   \n",
       "4                                  75.8   \n",
       "5                                  11.0   \n",
       "6                                  37.6   \n",
       "7                                  10.4   \n",
       "8                                  14.5   \n",
       "9                                  13.4   \n",
       "10                                 10.8   \n",
       "11                                 67.9   \n",
       "12                                 10.6   \n",
       "13                                 13.8   \n",
       "14                                 85.2   \n",
       "15                                 12.2   \n",
       "16                                  9.6   \n",
       "17                                 23.9   \n",
       "18                                 19.7   \n",
       "\n",
       "    Rate of Total Crime Against Women (2019)  \n",
       "0                                       54.4  \n",
       "1                                       85.9  \n",
       "2                                       16.9  \n",
       "3                                        7.9  \n",
       "4                                      170.3  \n",
       "5                                       72.0  \n",
       "6                                       73.2  \n",
       "7                                      169.1  \n",
       "8                                      235.0  \n",
       "9                                       98.5  \n",
       "10                                      45.8  \n",
       "11                                      32.0  \n",
       "12                                      44.4  \n",
       "13                                     175.4  \n",
       "14                                      76.5  \n",
       "15                                      93.6  \n",
       "16                                     102.3  \n",
       "17                                      58.1  \n",
       "18                                      51.5  "
      ]
     },
     "execution_count": 94,
     "metadata": {},
     "output_type": "execute_result"
    }
   ],
   "source": [
    "city"
   ]
  },
  {
   "cell_type": "code",
   "execution_count": 95,
   "id": "4f4d00f9",
   "metadata": {},
   "outputs": [
    {
     "data": {
      "text/html": [
       "<div>\n",
       "<style scoped>\n",
       "    .dataframe tbody tr th:only-of-type {\n",
       "        vertical-align: middle;\n",
       "    }\n",
       "\n",
       "    .dataframe tbody tr th {\n",
       "        vertical-align: top;\n",
       "    }\n",
       "\n",
       "    .dataframe thead th {\n",
       "        text-align: right;\n",
       "    }\n",
       "</style>\n",
       "<table border=\"1\" class=\"dataframe\">\n",
       "  <thead>\n",
       "    <tr style=\"text-align: right;\">\n",
       "      <th></th>\n",
       "      <th>2017 Crimes</th>\n",
       "      <th>2018 Crimes</th>\n",
       "      <th>2019 Crimes</th>\n",
       "      <th>Percentage City Share to Total (2019)</th>\n",
       "      <th>Actual Population (in Lakhs) (2011)</th>\n",
       "      <th>Rate of Total Crime Against Women (2019)</th>\n",
       "    </tr>\n",
       "  </thead>\n",
       "  <tbody>\n",
       "    <tr>\n",
       "      <th>count</th>\n",
       "      <td>19.0</td>\n",
       "      <td>19.0</td>\n",
       "      <td>19.0</td>\n",
       "      <td>19.0</td>\n",
       "      <td>19.0</td>\n",
       "      <td>19.0</td>\n",
       "    </tr>\n",
       "    <tr>\n",
       "      <th>mean</th>\n",
       "      <td>2149.0</td>\n",
       "      <td>2220.0</td>\n",
       "      <td>2394.0</td>\n",
       "      <td>5.0</td>\n",
       "      <td>28.0</td>\n",
       "      <td>88.0</td>\n",
       "    </tr>\n",
       "    <tr>\n",
       "      <th>std</th>\n",
       "      <td>2598.0</td>\n",
       "      <td>2668.0</td>\n",
       "      <td>2948.0</td>\n",
       "      <td>6.0</td>\n",
       "      <td>24.0</td>\n",
       "      <td>60.0</td>\n",
       "    </tr>\n",
       "    <tr>\n",
       "      <th>min</th>\n",
       "      <td>76.0</td>\n",
       "      <td>107.0</td>\n",
       "      <td>85.0</td>\n",
       "      <td>0.0</td>\n",
       "      <td>10.0</td>\n",
       "      <td>8.0</td>\n",
       "    </tr>\n",
       "    <tr>\n",
       "      <th>25%</th>\n",
       "      <td>756.0</td>\n",
       "      <td>858.0</td>\n",
       "      <td>887.0</td>\n",
       "      <td>2.0</td>\n",
       "      <td>11.0</td>\n",
       "      <td>49.0</td>\n",
       "    </tr>\n",
       "    <tr>\n",
       "      <th>50%</th>\n",
       "      <td>1405.0</td>\n",
       "      <td>1481.0</td>\n",
       "      <td>1390.0</td>\n",
       "      <td>3.0</td>\n",
       "      <td>14.0</td>\n",
       "      <td>73.0</td>\n",
       "    </tr>\n",
       "    <tr>\n",
       "      <th>75%</th>\n",
       "      <td>2152.0</td>\n",
       "      <td>2254.0</td>\n",
       "      <td>2590.0</td>\n",
       "      <td>6.0</td>\n",
       "      <td>39.0</td>\n",
       "      <td>100.0</td>\n",
       "    </tr>\n",
       "    <tr>\n",
       "      <th>max</th>\n",
       "      <td>11542.0</td>\n",
       "      <td>11724.0</td>\n",
       "      <td>12902.0</td>\n",
       "      <td>28.0</td>\n",
       "      <td>85.0</td>\n",
       "      <td>235.0</td>\n",
       "    </tr>\n",
       "  </tbody>\n",
       "</table>\n",
       "</div>"
      ],
      "text/plain": [
       "       2017 Crimes  2018 Crimes  2019 Crimes  \\\n",
       "count         19.0         19.0         19.0   \n",
       "mean        2149.0       2220.0       2394.0   \n",
       "std         2598.0       2668.0       2948.0   \n",
       "min           76.0        107.0         85.0   \n",
       "25%          756.0        858.0        887.0   \n",
       "50%         1405.0       1481.0       1390.0   \n",
       "75%         2152.0       2254.0       2590.0   \n",
       "max        11542.0      11724.0      12902.0   \n",
       "\n",
       "       Percentage City Share to Total (2019)  \\\n",
       "count                                   19.0   \n",
       "mean                                     5.0   \n",
       "std                                      6.0   \n",
       "min                                      0.0   \n",
       "25%                                      2.0   \n",
       "50%                                      3.0   \n",
       "75%                                      6.0   \n",
       "max                                     28.0   \n",
       "\n",
       "       Actual Population (in Lakhs) (2011)  \\\n",
       "count                                 19.0   \n",
       "mean                                  28.0   \n",
       "std                                   24.0   \n",
       "min                                   10.0   \n",
       "25%                                   11.0   \n",
       "50%                                   14.0   \n",
       "75%                                   39.0   \n",
       "max                                   85.0   \n",
       "\n",
       "       Rate of Total Crime Against Women (2019)  \n",
       "count                                      19.0  \n",
       "mean                                       88.0  \n",
       "std                                        60.0  \n",
       "min                                         8.0  \n",
       "25%                                        49.0  \n",
       "50%                                        73.0  \n",
       "75%                                       100.0  \n",
       "max                                       235.0  "
      ]
     },
     "execution_count": 95,
     "metadata": {},
     "output_type": "execute_result"
    }
   ],
   "source": [
    "np.round(city.describe())"
   ]
  },
  {
   "cell_type": "code",
   "execution_count": 96,
   "id": "818e0cc8",
   "metadata": {},
   "outputs": [
    {
     "data": {
      "image/png": "[encoded data removed]",
      "text/plain": [
       "<Figure size 432x288 with 1 Axes>"
      ]
     },
     "metadata": {},
     "output_type": "display_data"
    }
   ],
   "source": [
    "import seaborn as sns\n",
    "plt.scatter(city['Actual Population (in Lakhs) (2011)'],\n",
    "            city['2019 Crimes'], marker='o');\n",
    "plt.xlabel(\"Actual Population (in Lakhs) (2011)\")\n",
    "plt.ylabel(\"2019 Crimes\");\n"
   ]
  },
  {
   "cell_type": "code",
   "execution_count": 97,
   "id": "32c89c88",
   "metadata": {},
   "outputs": [
    {
     "data": {
      "image/png": "[encoded data removed]",
      "text/plain": [
       "<Figure size 432x288 with 1 Axes>"
      ]
     },
     "metadata": {},
     "output_type": "display_data"
    }
   ],
   "source": [
    "import seaborn as sns\n",
    "sns.regplot(city['Actual Population (in Lakhs) (2011)'],\n",
    "            city['2019 Crimes']);"
   ]
  },
  {
   "cell_type": "code",
   "execution_count": 98,
   "id": "3f8956cf",
   "metadata": {},
   "outputs": [
    {
     "data": {
      "text/html": [
       "<div>\n",
       "<style scoped>\n",
       "    .dataframe tbody tr th:only-of-type {\n",
       "        vertical-align: middle;\n",
       "    }\n",
       "\n",
       "    .dataframe tbody tr th {\n",
       "        vertical-align: top;\n",
       "    }\n",
       "\n",
       "    .dataframe thead th {\n",
       "        text-align: right;\n",
       "    }\n",
       "</style>\n",
       "<table border=\"1\" class=\"dataframe\">\n",
       "  <thead>\n",
       "    <tr style=\"text-align: right;\">\n",
       "      <th></th>\n",
       "      <th>2017 Crimes</th>\n",
       "      <th>2018 Crimes</th>\n",
       "      <th>2019 Crimes</th>\n",
       "      <th>Percentage City Share to Total (2019)</th>\n",
       "      <th>Actual Population (in Lakhs) (2011)</th>\n",
       "      <th>Rate of Total Crime Against Women (2019)</th>\n",
       "    </tr>\n",
       "  </thead>\n",
       "  <tbody>\n",
       "    <tr>\n",
       "      <th>2017 Crimes</th>\n",
       "      <td>1.000000</td>\n",
       "      <td>0.996809</td>\n",
       "      <td>0.987538</td>\n",
       "      <td>0.987705</td>\n",
       "      <td>0.722937</td>\n",
       "      <td>0.409478</td>\n",
       "    </tr>\n",
       "    <tr>\n",
       "      <th>2018 Crimes</th>\n",
       "      <td>0.996809</td>\n",
       "      <td>1.000000</td>\n",
       "      <td>0.992264</td>\n",
       "      <td>0.992266</td>\n",
       "      <td>0.739848</td>\n",
       "      <td>0.421652</td>\n",
       "    </tr>\n",
       "    <tr>\n",
       "      <th>2019 Crimes</th>\n",
       "      <td>0.987538</td>\n",
       "      <td>0.992264</td>\n",
       "      <td>1.000000</td>\n",
       "      <td>0.999989</td>\n",
       "      <td>0.727271</td>\n",
       "      <td>0.464530</td>\n",
       "    </tr>\n",
       "    <tr>\n",
       "      <th>Percentage City Share to Total (2019)</th>\n",
       "      <td>0.987705</td>\n",
       "      <td>0.992266</td>\n",
       "      <td>0.999989</td>\n",
       "      <td>1.000000</td>\n",
       "      <td>0.727202</td>\n",
       "      <td>0.464363</td>\n",
       "    </tr>\n",
       "    <tr>\n",
       "      <th>Actual Population (in Lakhs) (2011)</th>\n",
       "      <td>0.722937</td>\n",
       "      <td>0.739848</td>\n",
       "      <td>0.727271</td>\n",
       "      <td>0.727202</td>\n",
       "      <td>1.000000</td>\n",
       "      <td>-0.071196</td>\n",
       "    </tr>\n",
       "    <tr>\n",
       "      <th>Rate of Total Crime Against Women (2019)</th>\n",
       "      <td>0.409478</td>\n",
       "      <td>0.421652</td>\n",
       "      <td>0.464530</td>\n",
       "      <td>0.464363</td>\n",
       "      <td>-0.071196</td>\n",
       "      <td>1.000000</td>\n",
       "    </tr>\n",
       "  </tbody>\n",
       "</table>\n",
       "</div>"
      ],
      "text/plain": [
       "                                          2017 Crimes  2018 Crimes  \\\n",
       "2017 Crimes                                  1.000000     0.996809   \n",
       "2018 Crimes                                  0.996809     1.000000   \n",
       "2019 Crimes                                  0.987538     0.992264   \n",
       "Percentage City Share to Total (2019)        0.987705     0.992266   \n",
       "Actual Population (in Lakhs) (2011)          0.722937     0.739848   \n",
       "Rate of Total Crime Against Women (2019)     0.409478     0.421652   \n",
       "\n",
       "                                          2019 Crimes  \\\n",
       "2017 Crimes                                  0.987538   \n",
       "2018 Crimes                                  0.992264   \n",
       "2019 Crimes                                  1.000000   \n",
       "Percentage City Share to Total (2019)        0.999989   \n",
       "Actual Population (in Lakhs) (2011)          0.727271   \n",
       "Rate of Total Crime Against Women (2019)     0.464530   \n",
       "\n",
       "                                          Percentage City Share to Total (2019)  \\\n",
       "2017 Crimes                                                            0.987705   \n",
       "2018 Crimes                                                            0.992266   \n",
       "2019 Crimes                                                            0.999989   \n",
       "Percentage City Share to Total (2019)                                  1.000000   \n",
       "Actual Population (in Lakhs) (2011)                                    0.727202   \n",
       "Rate of Total Crime Against Women (2019)                               0.464363   \n",
       "\n",
       "                                          Actual Population (in Lakhs) (2011)  \\\n",
       "2017 Crimes                                                          0.722937   \n",
       "2018 Crimes                                                          0.739848   \n",
       "2019 Crimes                                                          0.727271   \n",
       "Percentage City Share to Total (2019)                                0.727202   \n",
       "Actual Population (in Lakhs) (2011)                                  1.000000   \n",
       "Rate of Total Crime Against Women (2019)                            -0.071196   \n",
       "\n",
       "                                          Rate of Total Crime Against Women (2019)  \n",
       "2017 Crimes                                                               0.409478  \n",
       "2018 Crimes                                                               0.421652  \n",
       "2019 Crimes                                                               0.464530  \n",
       "Percentage City Share to Total (2019)                                     0.464363  \n",
       "Actual Population (in Lakhs) (2011)                                      -0.071196  \n",
       "Rate of Total Crime Against Women (2019)                                  1.000000  "
      ]
     },
     "execution_count": 98,
     "metadata": {},
     "output_type": "execute_result"
    }
   ],
   "source": [
    "city.corr()"
   ]
  },
  {
   "cell_type": "markdown",
   "id": "f3520fdb",
   "metadata": {},
   "source": [
    "# Introduction to Rate"
   ]
  },
  {
   "cell_type": "markdown",
   "id": "fe09face",
   "metadata": {},
   "source": [
    "Rate is used often in our daily life. When you are travelling on highways, you may see that the speed limit of some roads is 35mph. The mph is short for miles per hour. In fact, speed can be viewed as rate, that is distance travelled per unit of time. "
   ]
  },
  {
   "cell_type": "markdown",
   "id": "9f5c0088",
   "metadata": {},
   "source": [
    "Formally, rate is defined as the ratios between two related quantities in different units. Hence, speed is rate because it shows ratio between distance (miles) and time (hour). "
   ]
  },
  {
   "cell_type": "markdown",
   "id": "cd785f70",
   "metadata": {},
   "source": [
    "Hourly wage as rate: Hourly wage is the amount of dollars per hour paid to a worker. To get the total amount of dollars the worker would get, simply multiply the hourly wage"
   ]
  },
  {
   "cell_type": "markdown",
   "id": "ca51d1da",
   "metadata": {},
   "source": [
    "Price of gas as rate: The price of gas is $4.1$ dollars for the regular. It is also a rate as the ratio is between dollar amount and quanitity of gas. "
   ]
  },
  {
   "cell_type": "markdown",
   "id": "b00a64de",
   "metadata": {},
   "source": [
    "Below, the rate is visualized using plotting library of Jupyter Notebook. "
   ]
  },
  {
   "cell_type": "markdown",
   "id": "f72cc6f6",
   "metadata": {},
   "source": [
    "## Distance vs Speed"
   ]
  },
  {
   "cell_type": "markdown",
   "id": "a5d41f46",
   "metadata": {},
   "source": [
    "Derivative of $2x^3+x+3$ is  $6x^2+1$. And we use derivative of displacement (distance in both directions) to represent velocity (speed in both directions). "
   ]
  },
  {
   "cell_type": "code",
   "execution_count": 99,
   "id": "bdbabf92",
   "metadata": {},
   "outputs": [
    {
     "data": {
      "image/png": "[encoded data removed]",
      "text/plain": [
       "<Figure size 432x288 with 1 Axes>"
      ]
     },
     "metadata": {},
     "output_type": "display_data"
    }
   ],
   "source": [
    "# importing the library\n",
    "import matplotlib.pyplot as plt\n",
    "from scipy.misc import derivative\n",
    "import numpy as np\n",
    "  \n",
    "# defining the function\n",
    "def function(x):\n",
    "    return 2*x*x*x+x+3\n",
    "  \n",
    "# calculating its derivative\n",
    "def deriv(x):\n",
    "    return derivative(function, x)\n",
    "  \n",
    "# defininf x-axis intervals\n",
    "y = np.linspace(-6, 6)\n",
    "  \n",
    "# plotting the function\n",
    "plt.plot(y, function(y), color='purple', label='Displacement')\n",
    "  \n",
    "# plotting its derivative\n",
    "plt.plot(y, deriv(y), color='green', label='Velocity')\n",
    "  \n",
    "# formatting\n",
    "plt.legend(loc='lower right')\n",
    "plt.grid(True)"
   ]
  },
  {
   "cell_type": "markdown",
   "id": "577c0e35",
   "metadata": {},
   "source": [
    "The purple curve represents displacement (distance in both directions) and the green curve represents velocity (speed in both directions). Here, rate is a measure of change. "
   ]
  },
  {
   "cell_type": "markdown",
   "id": "8dc1648c",
   "metadata": {},
   "source": [
    "# State Data"
   ]
  },
  {
   "cell_type": "markdown",
   "id": "fc9e0bf4",
   "metadata": {},
   "source": [
    "Our dataset is mainly made up of crimes against women in each state/union territory in India from the year 2017 to 2019, along with some potential features that could give insight on comparisons between features and number of incidents in an area. For the \"2018-2019 GDP Per Capita ($)\" column, there is no data available for D&N Haveli, Daman & Diu, and Lakshadweep. So we used 2003-2004 GDP per capita for these three union territories instead."
   ]
  },
  {
   "cell_type": "code",
   "execution_count": 100,
   "id": "06a21703",
   "metadata": {},
   "outputs": [
    {
     "data": {
      "text/html": [
       "<table border=\"1\" class=\"dataframe\">\n",
       "    <thead>\n",
       "        <tr>\n",
       "            <th>State/UT</th> <th>2017 Crimes</th> <th>2018 Crimes</th> <th>2019 Crimes</th> <th>Percentage State Share to Total (2019)</th> <th>Mid-Year Projected Female Population (in lakhs) (2019)</th> <th>Rate of Total Crime Against Women (2019)</th> <th>2018-2019 GDP Per Capita ($)</th> <th>2018-2019 Unemployment Rate (%)</th> <th>2021 Literacy Rate (%)</th>\n",
       "        </tr>\n",
       "    </thead>\n",
       "    <tbody>\n",
       "        <tr>\n",
       "            <td>Andhra Pradesh    </td> <td>17909      </td> <td>16438      </td> <td>17746      </td> <td>4.4                                   </td> <td>261.4                                                 </td> <td>67.9                                    </td> <td>2480                        </td> <td>7.3                            </td> <td>67.02                 </td>\n",
       "        </tr>\n",
       "        <tr>\n",
       "            <td>Arunachal Pradesh </td> <td>337        </td> <td>368        </td> <td>317        </td> <td>0.1                                   </td> <td>7.3                                                   </td> <td>43.3                                    </td> <td>2253                        </td> <td>11.1                           </td> <td>65.38                 </td>\n",
       "        </tr>\n",
       "        <tr>\n",
       "            <td>Assam             </td> <td>23082      </td> <td>27687      </td> <td>30025      </td> <td>7.4                                   </td> <td>168.9                                                 </td> <td>177.8                                   </td> <td>1365                        </td> <td>10.7                           </td> <td>72.19                 </td>\n",
       "        </tr>\n",
       "        <tr>\n",
       "            <td>Bihar             </td> <td>14711      </td> <td>16920      </td> <td>18587      </td> <td>4.6                                   </td> <td>576.2                                                 </td> <td>32.3                                    </td> <td>659                         </td> <td>10.5                           </td> <td>61.8                  </td>\n",
       "        </tr>\n",
       "        <tr>\n",
       "            <td>Chhattisgarh      </td> <td>7996       </td> <td>8587       </td> <td>7689       </td> <td>1.9                                   </td> <td>143.8                                                 </td> <td>53.5                                    </td> <td>1555                        </td> <td>5.5                            </td> <td>70.28                 </td>\n",
       "        </tr>\n",
       "        <tr>\n",
       "            <td>Goa               </td> <td>369        </td> <td>362        </td> <td>329        </td> <td>0.1                                   </td> <td>7.6                                                   </td> <td>43.1                                    </td> <td>7029                        </td> <td>9.1                            </td> <td>88.7                  </td>\n",
       "        </tr>\n",
       "        <tr>\n",
       "            <td>Gujarat           </td> <td>8133       </td> <td>8329       </td> <td>8799       </td> <td>2.2                                   </td> <td>324.9                                                 </td> <td>27.1                                    </td> <td>3283                        </td> <td>3.2                            </td> <td>78.03                 </td>\n",
       "        </tr>\n",
       "        <tr>\n",
       "            <td>Haryana           </td> <td>11370      </td> <td>14326      </td> <td>14683      </td> <td>3.6                                   </td> <td>135.3                                                 </td> <td>108.5                                   </td> <td>3840                        </td> <td>8.7                            </td> <td>75.55                 </td>\n",
       "        </tr>\n",
       "        <tr>\n",
       "            <td>Himachal Pradesh  </td> <td>1246       </td> <td>1633       </td> <td>1636       </td> <td>0.4                                   </td> <td>36.1                                                  </td> <td>45.4                                    </td> <td>3118                        </td> <td>8.8                            </td> <td>82.8                  </td>\n",
       "        </tr>\n",
       "        <tr>\n",
       "            <td>Jammu & Kashmir   </td> <td>3129       </td> <td>3437       </td> <td>3069       </td> <td>0.8                                   </td> <td>64.2                                                  </td> <td>47.8                                    </td> <td>1636                        </td> <td>10.1                           </td> <td>67.16                 </td>\n",
       "        </tr>\n",
       "        <tr>\n",
       "            <td>Jharkhand         </td> <td>5911       </td> <td>7083       </td> <td>8760       </td> <td>2.2                                   </td> <td>183.3                                                 </td> <td>47.8                                    </td> <td>1179                        </td> <td>8.7                            </td> <td>66.41                 </td>\n",
       "        </tr>\n",
       "        <tr>\n",
       "            <td>Karnataka         </td> <td>14078      </td> <td>13514      </td> <td>13828      </td> <td>3.4                                   </td> <td>325.1                                                 </td> <td>42.5                                    </td> <td>3359                        </td> <td>5.2                            </td> <td>75.36                 </td>\n",
       "        </tr>\n",
       "        <tr>\n",
       "            <td>Kerala            </td> <td>11057      </td> <td>10461      </td> <td>11462      </td> <td>2.8                                   </td> <td>182.9                                                 </td> <td>62.7                                    </td> <td>3327                        </td> <td>9.7                            </td> <td>94                    </td>\n",
       "        </tr>\n",
       "        <tr>\n",
       "            <td>Madhya Pradesh    </td> <td>29788      </td> <td>28942      </td> <td>27560      </td> <td>6.8                                   </td> <td>399.6                                                 </td> <td>69                                      </td> <td>1461                        </td> <td>7.4                            </td> <td>69.32                 </td>\n",
       "        </tr>\n",
       "        <tr>\n",
       "            <td>Maharashtra       </td> <td>31979      </td> <td>35497      </td> <td>37144      </td> <td>9.2                                   </td> <td>588.5                                                 </td> <td>63.1                                    </td> <td>3193                        </td> <td>6.4                            </td> <td>82.34                 </td>\n",
       "        </tr>\n",
       "        <tr>\n",
       "            <td>Manipur           </td> <td>236        </td> <td>271        </td> <td>266        </td> <td>0.1                                   </td> <td>15.5                                                  </td> <td>17.2                                    </td> <td>1222                        </td> <td>9.2                            </td> <td>76.94                 </td>\n",
       "        </tr>\n",
       "        <tr>\n",
       "            <td>Meghalaya         </td> <td>567        </td> <td>571        </td> <td>558        </td> <td>0.1                                   </td> <td>16.1                                                  </td> <td>34.6                                    </td> <td>1417                        </td> <td>7.5                            </td> <td>74.43                 </td>\n",
       "        </tr>\n",
       "        <tr>\n",
       "            <td>Mizoram           </td> <td>301        </td> <td>249        </td> <td>170        </td> <td>0                                     </td> <td>5.9                                                   </td> <td>28.7                                    </td> <td>2773                        </td> <td>9.1                            </td> <td>91.33                 </td>\n",
       "        </tr>\n",
       "        <tr>\n",
       "            <td>Nagaland          </td> <td>79         </td> <td>75         </td> <td>43         </td> <td>0                                     </td> <td>10.4                                                  </td> <td>4.1                                     </td> <td>1918                        </td> <td>21.1                           </td> <td>79.55                 </td>\n",
       "        </tr>\n",
       "        <tr>\n",
       "            <td>Odisha            </td> <td>20098      </td> <td>20274      </td> <td>23183      </td> <td>5.7                                   </td> <td>223.9                                                 </td> <td>103.5                                   </td> <td>1651                        </td> <td>12.7                           </td> <td>72.87                 </td>\n",
       "        </tr>\n",
       "        <tr>\n",
       "            <td>Punjab            </td> <td>4620       </td> <td>5302       </td> <td>5886       </td> <td>1.5                                   </td> <td>141.9                                                 </td> <td>41.5                                    </td> <td>2536                        </td> <td>7                              </td> <td>75.84                 </td>\n",
       "        </tr>\n",
       "        <tr>\n",
       "            <td>Rajasthan         </td> <td>25993      </td> <td>27866      </td> <td>41550      </td> <td>10.2                                  </td> <td>376.4                                                 </td> <td>110.4                                   </td> <td>1820                        </td> <td>9.5                            </td> <td>66.11                 </td>\n",
       "        </tr>\n",
       "        <tr>\n",
       "            <td>Sikkim            </td> <td>163        </td> <td>172        </td> <td>125        </td> <td>0                                     </td> <td>3.1                                                   </td> <td>39.8                                    </td> <td>6421                        </td> <td>4.9                            </td> <td>81.42                 </td>\n",
       "        </tr>\n",
       "        <tr>\n",
       "            <td>Tamil Nadu        </td> <td>5397       </td> <td>5822       </td> <td>5934       </td> <td>1.5                                   </td> <td>379.2                                                 </td> <td>15.6                                    </td> <td>3184                        </td> <td>6.7                            </td> <td>80.09                 </td>\n",
       "        </tr>\n",
       "        <tr>\n",
       "            <td>Telangana         </td> <td>17521      </td> <td>16027      </td> <td>18394      </td> <td>4.5                                   </td> <td>185.3                                                 </td> <td>99.3                                    </td> <td>3321                        </td> <td>11.2                           </td> <td>66.54                 </td>\n",
       "        </tr>\n",
       "        <tr>\n",
       "            <td>Tripura           </td> <td>972        </td> <td>907        </td> <td>1070       </td> <td>0.3                                   </td> <td>19.7                                                  </td> <td>54.5                                    </td> <td>1851                        </td> <td>13.5                           </td> <td>87.22                 </td>\n",
       "        </tr>\n",
       "        <tr>\n",
       "            <td>Uttar Pradesh     </td> <td>56011      </td> <td>59445      </td> <td>59853      </td> <td>14.7                                  </td> <td>1081.4                                                </td> <td>55.4                                    </td> <td>1043                        </td> <td>10.6                           </td> <td>67.68                 </td>\n",
       "        </tr>\n",
       "        <tr>\n",
       "            <td>Uttarakhand       </td> <td>1944       </td> <td>2817       </td> <td>2541       </td> <td>0.6                                   </td> <td>54.6                                                  </td> <td>46.5                                    </td> <td>3250                        </td> <td>13.4                           </td> <td>78.82                 </td>\n",
       "        </tr>\n",
       "        <tr>\n",
       "            <td>West Bengal       </td> <td>30992      </td> <td>30394      </td> <td>30394      </td> <td>7.5                                   </td> <td>474.9                                                 </td> <td>64                                      </td> <td>1634                        </td> <td>4.9                            </td> <td>76.26                 </td>\n",
       "        </tr>\n",
       "        <tr>\n",
       "            <td>A & N Islands (UT)</td> <td>132        </td> <td>147        </td> <td>135        </td> <td>0                                     </td> <td>1.9                                                   </td> <td>72.2                                    </td> <td>3321                        </td> <td>12                             </td> <td>86.63                 </td>\n",
       "        </tr>\n",
       "        <tr>\n",
       "            <td>Chandigarh (UT)   </td> <td>453        </td> <td>442        </td> <td>515        </td> <td>0.1                                   </td> <td>5.4                                                   </td> <td>95.2                                    </td> <td>5297                        </td> <td>8.2                            </td> <td>86.05                 </td>\n",
       "        </tr>\n",
       "        <tr>\n",
       "            <td>D&N Haveli (UT)   </td> <td>20         </td> <td>38         </td> <td>49         </td> <td>0                                     </td> <td>2.3                                                   </td> <td>21.6                                    </td> <td>635                         </td> <td>1.8                            </td> <td>76.24                 </td>\n",
       "        </tr>\n",
       "        <tr>\n",
       "            <td>Daman & Diu (UT)  </td> <td>26         </td> <td>16         </td> <td>33         </td> <td>0                                     </td> <td>1.3                                                   </td> <td>25.2                                    </td> <td>988                         </td> <td>0                              </td> <td>87.1                  </td>\n",
       "        </tr>\n",
       "        <tr>\n",
       "            <td>Delhi (UT)        </td> <td>13076      </td> <td>13640      </td> <td>13395      </td> <td>3.3                                   </td> <td>93.1                                                  </td> <td>144                                     </td> <td>5817                        </td> <td>10.8                           </td> <td>86.21                 </td>\n",
       "        </tr>\n",
       "        <tr>\n",
       "            <td>Lakshadweep (UT)  </td> <td>6          </td> <td>11         </td> <td>38         </td> <td>0                                     </td> <td>0.3                                                   </td> <td>115.2                                   </td> <td>931                         </td> <td>28.6                           </td> <td>91.85                 </td>\n",
       "        </tr>\n",
       "        <tr>\n",
       "            <td>Puducherry (UT)   </td> <td>147        </td> <td>166        </td> <td>95         </td> <td>0                                     </td> <td>7.9                                                   </td> <td>12.1                                    </td> <td>3334                        </td> <td>6                              </td> <td>85.85                 </td>\n",
       "        </tr>\n",
       "    </tbody>\n",
       "</table>"
      ],
      "text/plain": [
       "<IPython.core.display.HTML object>"
      ]
     },
     "metadata": {},
     "output_type": "display_data"
    }
   ],
   "source": [
    "state = Table.read_table(\"../data/State Data.csv\")\n",
    "state.show()"
   ]
  },
  {
   "cell_type": "markdown",
   "id": "ef4178a1",
   "metadata": {},
   "source": [
    "When processing a new data set, it is a good idea to play around with the data and try to explore its basic statistics. To start it's good to think about what the total number of crimes against women is for year 2017, 2018, and 2019, respectively."
   ]
  },
  {
   "cell_type": "code",
   "execution_count": 101,
   "id": "95c163a7",
   "metadata": {},
   "outputs": [
    {
     "data": {
      "text/plain": [
       "359849.0"
      ]
     },
     "execution_count": 101,
     "metadata": {},
     "output_type": "execute_result"
    }
   ],
   "source": [
    "total_crime_2017 = np.sum(state.column(\"2017 Crimes\"))\n",
    "total_crime_2017"
   ]
  },
  {
   "cell_type": "code",
   "execution_count": 102,
   "id": "4865fb0d",
   "metadata": {},
   "outputs": [
    {
     "data": {
      "text/plain": [
       "378236.0"
      ]
     },
     "execution_count": 102,
     "metadata": {},
     "output_type": "execute_result"
    }
   ],
   "source": [
    "total_crime_2018 = np.sum(state.column(\"2018 Crimes\"))\n",
    "total_crime_2018"
   ]
  },
  {
   "cell_type": "code",
   "execution_count": 103,
   "id": "04cc659e",
   "metadata": {},
   "outputs": [
    {
     "data": {
      "text/plain": [
       "405861.0"
      ]
     },
     "execution_count": 103,
     "metadata": {},
     "output_type": "execute_result"
    }
   ],
   "source": [
    "total_crime_2019 = np.sum(state.column(\"2019 Crimes\"))\n",
    "total_crime_2019"
   ]
  },
  {
   "cell_type": "code",
   "execution_count": 104,
   "id": "941e96a7",
   "metadata": {},
   "outputs": [
    {
     "data": {
      "image/png": "[encoded data removed]",
      "text/plain": [
       "<Figure size 432x432 with 1 Axes>"
      ]
     },
     "metadata": {},
     "output_type": "display_data"
    }
   ],
   "source": [
    "total_crime_tbl = Table().with_columns(\"Year\", make_array(2017, 2018, 2019), \"Total Crimes\", make_array(total_crime_2017, total_crime_2018, total_crime_2019))\n",
    "total_crime_tbl.plot(0, 1)\n",
    "plots.xticks([2017, 2018, 2019])\n",
    "plots.title(\"Total Crimes Against Women in India over Time\"); # This semicolon is here for style purposes"
   ]
  },
  {
   "cell_type": "markdown",
   "id": "b966220d",
   "metadata": {},
   "source": [
    "What trend do you notice from the line graph above?"
   ]
  },
  {
   "cell_type": "code",
   "execution_count": 105,
   "id": "93ad0483",
   "metadata": {},
   "outputs": [
    {
     "data": {
      "text/plain": [
       "381315.3333333333"
      ]
     },
     "execution_count": 105,
     "metadata": {},
     "output_type": "execute_result"
    }
   ],
   "source": [
    "average_crime = np.average(total_crime_tbl.column(\"Total Crimes\"))\n",
    "average_crime"
   ]
  },
  {
   "cell_type": "markdown",
   "id": "e669aebe",
   "metadata": {},
   "source": [
    "The total number of crimes in each year is around 381315."
   ]
  },
  {
   "cell_type": "code",
   "execution_count": 106,
   "id": "8cc2f09f",
   "metadata": {},
   "outputs": [
    {
     "data": {
      "image/png": "[encoded data removed]",
      "text/plain": [
       "<Figure size 432x288 with 1 Axes>"
      ]
     },
     "metadata": {},
     "output_type": "display_data"
    }
   ],
   "source": [
    "plots.plot(state.column(\"State/UT\"), state.column(\"2017 Crimes\"))\n",
    "plots.plot(state.column(\"State/UT\"), state.column(\"2018 Crimes\"))\n",
    "plots.plot(state.column(\"State/UT\"), state.column(\"2019 Crimes\"))\n",
    "\n",
    "plots.xlabel(\"State/UT\")\n",
    "plots.ylabel(\"Crimes\")\n",
    "plots.xticks(rotation=90)\n",
    "plots.legend((\"2017 Crimes\", \"2018 Crimes\", \"2019 Crimes\"))\n",
    "plots.tick_params(axis='x', which='major', labelsize=10);"
   ]
  },
  {
   "cell_type": "markdown",
   "id": "9d7a12f8",
   "metadata": {},
   "source": [
    "## Correlation"
   ]
  },
  {
   "cell_type": "markdown",
   "id": "1e399172",
   "metadata": {},
   "source": [
    "- Denotes a linear association between two variables\n",
    "- The correlation coefficient quantitatively measures the strength as well as the direction of the linear relationship between two variables.\n",
    "- The correlation coefficient is denoted as r, a number between -1 and 1.\n",
    "    - Strength: how clustered the scatter plot is around a straight line. If the plot is highly clustered, the absolute value of r is closer to 1.\n",
    "    - Direction: if y increases as x increases, r is positive. If y decreases as x increases, r is negative."
   ]
  },
  {
   "cell_type": "markdown",
   "id": "29ac7f51",
   "metadata": {},
   "source": [
    "## Standard Units"
   ]
  },
  {
   "cell_type": "markdown",
   "id": "4914a899",
   "metadata": {},
   "source": [
    "- Allows us to quantify the relationship between two variables on different scales\n",
    "- Converting to Standard Units\n",
    "    - variable_su = (variable - mean) / SD"
   ]
  },
  {
   "cell_type": "markdown",
   "id": "cfdf71e4",
   "metadata": {},
   "source": [
    "## A Formula for r"
   ]
  },
  {
   "cell_type": "markdown",
   "id": "a7fc3497",
   "metadata": {},
   "source": [
    "- The average of the product of x and y, when both variables are measured in standard units.\n",
    "- r = 1 if the scatter diagram is a perfect straight line sloping upwards, and r = -1 if the scatter diagram is a perfect straight line sloping downwards."
   ]
  },
  {
   "cell_type": "code",
   "execution_count": 107,
   "id": "b9c56b3c",
   "metadata": {},
   "outputs": [],
   "source": [
    "def standard_units(num_array):\n",
    "    arr_mean = np.mean(num_array)\n",
    "    arr_sd = np.std(num_array)\n",
    "    return (num_array - arr_mean) / arr_sd"
   ]
  },
  {
   "cell_type": "code",
   "execution_count": 108,
   "id": "7c1dbf19",
   "metadata": {},
   "outputs": [],
   "source": [
    "def correlation(tbl, x, y):\n",
    "    su_x = standard_units(tbl.column(x))\n",
    "    su_y = standard_units(tbl.column(y))\n",
    "    return np.mean(su_x * su_y)"
   ]
  },
  {
   "cell_type": "code",
   "execution_count": 109,
   "id": "4d85c81c",
   "metadata": {},
   "outputs": [
    {
     "data": {
      "image/png": "[encoded data removed]",
      "text/plain": [
       "<Figure size 360x360 with 1 Axes>"
      ]
     },
     "metadata": {},
     "output_type": "display_data"
    }
   ],
   "source": [
    "state.scatter(\"Mid-Year Projected Female Population (in lakhs) (2019)\", \"Rate of Total Crime Against Women (2019)\")\n",
    "plots.xlabel(\"Projected Female Population\")\n",
    "plots.ylabel(\"Rate of Total Crime Against Women\")\n",
    "plots.title(\"Crime Rate vs. Projected Population in 2019\");"
   ]
  },
  {
   "cell_type": "code",
   "execution_count": 110,
   "id": "2f448156",
   "metadata": {},
   "outputs": [
    {
     "data": {
      "text/plain": [
       "0.06612365000343531"
      ]
     },
     "execution_count": 110,
     "metadata": {},
     "output_type": "execute_result"
    }
   ],
   "source": [
    "correlation(state, \"Mid-Year Projected Female Population (in lakhs) (2019)\", \"Rate of Total Crime Against Women (2019)\")"
   ]
  },
  {
   "cell_type": "markdown",
   "id": "a8ba9a49",
   "metadata": {},
   "source": [
    "Based on the correlation coefficient, is there a strong linear relationship between the two variables? Does this conclusion align with what you see from the scatter plot?"
   ]
  },
  {
   "cell_type": "code",
   "execution_count": 111,
   "id": "cf99a1fa",
   "metadata": {},
   "outputs": [
    {
     "data": {
      "image/png": "[encoded data removed]",
      "text/plain": [
       "<Figure size 360x360 with 1 Axes>"
      ]
     },
     "metadata": {},
     "output_type": "display_data"
    }
   ],
   "source": [
    "state.scatter(\"2021 Literacy Rate (%)\", \"Rate of Total Crime Against Women (2019)\")\n",
    "plots.xlabel(\"Literacy Rate\")\n",
    "plots.ylabel(\"Rate of Total Crime Against Women\")\n",
    "plots.title(\"Crime Rate vs. Literacy Rate\");"
   ]
  },
  {
   "cell_type": "code",
   "execution_count": 112,
   "id": "487d4e2a",
   "metadata": {},
   "outputs": [
    {
     "data": {
      "text/plain": [
       "-0.06109025081180771"
      ]
     },
     "execution_count": 112,
     "metadata": {},
     "output_type": "execute_result"
    }
   ],
   "source": [
    "correlation(state, \"2021 Literacy Rate (%)\", \"Rate of Total Crime Against Women (2019)\")"
   ]
  },
  {
   "cell_type": "markdown",
   "id": "45f4d783",
   "metadata": {},
   "source": [
    "What is the direction of the scatter plot? Explain your result based on the correlation coefficient and what you observe from the graph."
   ]
  },
  {
   "cell_type": "code",
   "execution_count": 113,
   "id": "a1b71b6b",
   "metadata": {},
   "outputs": [
    {
     "data": {
      "image/png": "[encoded data removed]",
      "text/plain": [
       "<Figure size 360x360 with 1 Axes>"
      ]
     },
     "metadata": {},
     "output_type": "display_data"
    }
   ],
   "source": [
    "state.scatter(\"2019 Crimes\", \"Rate of Total Crime Against Women (2019)\")\n",
    "plots.xlabel(\"Crime Number\")\n",
    "plots.ylabel(\"Rate of Total Crime Against Women\")\n",
    "plots.title(\"Crime Rate vs. Crime Number in 2019\");"
   ]
  },
  {
   "cell_type": "code",
   "execution_count": 114,
   "id": "3c5868cc",
   "metadata": {},
   "outputs": [
    {
     "data": {
      "text/plain": [
       "0.42269941512655435"
      ]
     },
     "execution_count": 114,
     "metadata": {},
     "output_type": "execute_result"
    }
   ],
   "source": [
    "correlation(state, \"2019 Crimes\", \"Rate of Total Crime Against Women (2019)\")"
   ]
  },
  {
   "cell_type": "markdown",
   "id": "73ab2579",
   "metadata": {},
   "source": [
    "What pattern do you notice from the above scatter plot? Please describe the relationship between variables on the x-axis and y-axis. Are there any outliers in the graph?"
   ]
  },
  {
   "cell_type": "code",
   "execution_count": 115,
   "id": "12afed06",
   "metadata": {},
   "outputs": [
    {
     "data": {
      "image/png": "[encoded data removed]",
      "text/plain": [
       "<Figure size 360x360 with 1 Axes>"
      ]
     },
     "metadata": {},
     "output_type": "display_data"
    }
   ],
   "source": [
    "state.scatter(\"2018-2019 Unemployment Rate (%)\", \"Rate of Total Crime Against Women (2019)\")\n",
    "plots.xlabel(\"Unemployment Rate\")\n",
    "plots.ylabel(\"Rate of Total Crime Against Women\")\n",
    "plots.title(\"Crime Rate vs. Unemployment Rate in 2019\");"
   ]
  },
  {
   "cell_type": "code",
   "execution_count": 116,
   "id": "06c51151",
   "metadata": {},
   "outputs": [
    {
     "data": {
      "text/plain": [
       "0.30715997339690637"
      ]
     },
     "execution_count": 116,
     "metadata": {},
     "output_type": "execute_result"
    }
   ],
   "source": [
    "correlation(state, \"2018-2019 Unemployment Rate (%)\", \"Rate of Total Crime Against Women (2019)\")"
   ]
  },
  {
   "cell_type": "markdown",
   "id": "73087bdf",
   "metadata": {},
   "source": [
    "Can you identify which states/union territories correspond to the outliers in the above graph? What are potential reasons for why they exist?"
   ]
  }
 ],
 "metadata": {
  "kernelspec": {
   "display_name": "Python 3",
   "language": "python",
   "name": "python3"
  },
  "language_info": {
   "codemirror_mode": {
    "name": "ipython",
    "version": 3
   },
   "file_extension": ".py",
   "mimetype": "text/x-python",
   "name": "python",
   "nbconvert_exporter": "python",
   "pygments_lexer": "ipython3",
   "version": "3.8.8"
  }
 },
 "nbformat": 4,
 "nbformat_minor": 5
}
