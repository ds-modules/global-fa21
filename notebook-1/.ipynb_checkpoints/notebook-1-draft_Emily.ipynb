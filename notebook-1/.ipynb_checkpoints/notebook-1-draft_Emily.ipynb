version https://git-lfs.github.com/spec/v1
oid sha256:9eef679f0974c3eff1c6220ee7ea743df0a689155c9a21c41d13b860f107e869
size 639967
