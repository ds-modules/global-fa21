{
 "cells": [
  {
   "cell_type": "markdown",
   "id": "041c2f61-986d-4c60-9319-2f7d039ae398",
   "metadata": {},
   "source": [
    "# Introduction to Jupyter"
   ]
  },
  {
   "cell_type": "markdown",
   "id": "9fb7391e",
   "metadata": {},
   "source": [
    "Welcome to the Jupyter Notebook, an interactive and web-based notebook that is used in data science to document and visualize data!"
   ]
  },
  {
   "cell_type": "markdown",
   "id": "aa77e881",
   "metadata": {},
   "source": [
    "As you can see, the Jupyter notebook supports regular text as well as code. Each *cell* or chunk of text can either take on the form of code or regular text. "
   ]
  },
  {
   "cell_type": "markdown",
   "id": "5921b231",
   "metadata": {},
   "source": [
    "The way that we determine the type of the cell is by clicking \"Cell,\" located at the top of your screen, and then clicking \"Cell Type.\" From there you will see an arrow that offers the options of changing the current cell you are working in to **Markdown** (which is just regular English) or **Code**. "
   ]
  },
  {
   "cell_type": "markdown",
   "id": "950cc5d7",
   "metadata": {},
   "source": [
    "Make sure to choose accordingly depending on your different tasks later down the road; cells can only support the type that they were assigned (for example, a **Markdown** type cell will not run code)."
   ]
  },
  {
   "cell_type": "markdown",
   "id": "de46c4e0",
   "metadata": {},
   "source": [
    "### The Code Cell"
   ]
  },
  {
   "cell_type": "markdown",
   "id": "5f9fe952",
   "metadata": {},
   "source": [
    "We can run cells that contain code by clicking the rectangle and either:"
   ]
  },
  {
   "cell_type": "markdown",
   "id": "47f48743",
   "metadata": {},
   "source": [
    "- Clicking \"Shift\" + \"Return\" on the keyboard\n",
    "- Pressing the \"Run\" button from the array of options at the top of the screen\n",
    "- Clicking \"Cell\" in the top array of options and choosing from the array of run options that will best suit your needs"
   ]
  },
  {
   "cell_type": "markdown",
   "id": "02e38bfb",
   "metadata": {},
   "source": [
    "Let's try looking at a **Code** cell now, as so far, we've only been looking at **Markdown** cells! You can try running it as well using any of the strategies listed above."
   ]
  },
  {
   "cell_type": "code",
   "execution_count": 1,
   "id": "4dbc8096",
   "metadata": {},
   "outputs": [
    {
     "name": "stdout",
     "output_type": "stream",
     "text": [
      "Hello World!\n"
     ]
    }
   ],
   "source": [
    "print('Hello World!')"
   ]
  },
  {
   "cell_type": "markdown",
   "id": "ea0e191d",
   "metadata": {},
   "source": [
    "You should notice that the cell shows an asterisk - * - as it is processing your request. Afterwards, once it runs, then the \"In [   ]:\" portion should contain a number in its brackets, indicating numerically which run it is (the number starts at 1, your first run of a code cell)."
   ]
  },
  {
   "cell_type": "markdown",
   "id": "af812677",
   "metadata": {},
   "source": [
    "Within a code cell, you can also write regular language without any consequences on your code! The way to do this is by writing *comments*, indicated by a # before your commentary on the code. See the code cell below for an example:"
   ]
  },
  {
   "cell_type": "code",
   "execution_count": 3,
   "id": "755ffa4e",
   "metadata": {},
   "outputs": [
    {
     "name": "stdout",
     "output_type": "stream",
     "text": [
      "pizza\n"
     ]
    }
   ],
   "source": [
    "# This is a comment. It will have no effect on anything I do later on! Watch:\n",
    "# print('pineapple')\n",
    "\n",
    "print('pizza')"
   ]
  },
  {
   "cell_type": "markdown",
   "id": "ba6bbbca",
   "metadata": {},
   "source": [
    "Notice that you can also ADD, CUT and MODIFY cells!"
   ]
  },
  {
   "cell_type": "markdown",
   "id": "3f956b31",
   "metadata": {},
   "source": [
    "- To ADD: press \"Insert\" at the top of the screen and feel free to insert cells below or above the currently selected cell\n",
    "- To CUT: select any cell you want to delete by clicking once and then pressing the scissor icon on the top left\n",
    "- To MODIFY: double click the desired cell"
   ]
  },
  {
   "cell_type": "markdown",
   "id": "0189c558",
   "metadata": {},
   "source": [
    "You can play with these functionalities with the recent code cell! You can also undo actions by using Ctrl + Z."
   ]
  },
  {
   "cell_type": "markdown",
   "id": "ed683478",
   "metadata": {},
   "source": [
    "Make sure to save often! You can do that with the following choices:"
   ]
  },
  {
   "cell_type": "markdown",
   "id": "79b135fd",
   "metadata": {},
   "source": [
    "- Using Ctrl + S\n",
    "- Saving with the icon in the very left at the top symbol banner\n",
    "- Selecting 'File' then 'Save and Checkpoint'"
   ]
  },
  {
   "cell_type": "markdown",
   "id": "43cb4ef0",
   "metadata": {},
   "source": [
    "### Getting Started"
   ]
  },
  {
   "cell_type": "markdown",
   "id": "4fc104c9",
   "metadata": {},
   "source": [
    "In data science, we are able to manipulate our data using Python *libraries*, which are basically big collections of commands we can use based off of the coding language Python. We have imported some below so that we can easily visualize and analyze our data later on."
   ]
  },
  {
   "cell_type": "code",
   "execution_count": null,
   "id": "eb84914c",
   "metadata": {},
   "outputs": [],
   "source": [
    "import pandas as pd \n",
    "import numpy as np"
   ]
  },
  {
   "cell_type": "markdown",
   "id": "82852723",
   "metadata": {},
   "source": [
    "These libraries differ in the sense that some of them are aimed for visualization, some better suited for statistics, and some are better suited for other purposes! The point is that we want to import all of these different tools for ourselves so that we can have it ready when we are dealing with our data later on."
   ]
  },
  {
   "cell_type": "markdown",
   "id": "d3c956e3",
   "metadata": {},
   "source": [
    "# Python Basics"
   ]
  },
  {
   "cell_type": "markdown",
   "id": "d35abf15",
   "metadata": {},
   "source": [
    "*Python* is a programming language, so it allows for us to communicate with the computer! Python has a specific syntax and a set of common practices, just like any other language. Before we dive into our data, let's go over some of these basic functionalities in Python that you will be using in this lesson."
   ]
  },
  {
   "cell_type": "markdown",
   "id": "452b5e28",
   "metadata": {},
   "source": [
    "### Print Statements"
   ]
  },
  {
   "cell_type": "markdown",
   "id": "4fcfb027",
   "metadata": {},
   "source": [
    "For the computer to physically print out words, we are able to use the print statement. Using the command **print()**, we can print anything we want the computer to say. It's also important that we write the words we want to print in quotes. See below for an example:"
   ]
  },
  {
   "cell_type": "code",
   "execution_count": 11,
   "id": "d1666192",
   "metadata": {},
   "outputs": [
    {
     "name": "stdout",
     "output_type": "stream",
     "text": [
      "I am a good print statement.\n"
     ]
    }
   ],
   "source": [
    "print(\"I am a good print statement.\")"
   ]
  },
  {
   "cell_type": "markdown",
   "id": "7b48853b",
   "metadata": {},
   "source": [
    "Python is a relatively sensitive language, which means that changing the cases in a statement or even forgetting a parentheses or quote can result in a *syntax error*. However, usually you can deduce what is wrong with your code by Python's response."
   ]
  },
  {
   "cell_type": "code",
   "execution_count": 3,
   "id": "25cc29ba",
   "metadata": {},
   "outputs": [
    {
     "ename": "SyntaxError",
     "evalue": "unexpected EOF while parsing (<ipython-input-3-4162a6566d05>, line 4)",
     "output_type": "error",
     "traceback": [
      "\u001b[0;36m  File \u001b[0;32m\"<ipython-input-3-4162a6566d05>\"\u001b[0;36m, line \u001b[0;32m4\u001b[0m\n\u001b[0;31m    print(\"I am not a good print statement\"\u001b[0m\n\u001b[0m                                           ^\u001b[0m\n\u001b[0;31mSyntaxError\u001b[0m\u001b[0;31m:\u001b[0m unexpected EOF while parsing\n"
     ]
    }
   ],
   "source": [
    "# This cell should give you a syntax error showing where your print statement is erroring. \n",
    "# Try running it & experimenting by altering the other parts of the print statement!\n",
    "\n",
    "print(\"I am not a good print statement\""
   ]
  },
  {
   "cell_type": "markdown",
   "id": "ad368b8a",
   "metadata": {},
   "source": [
    "### Variables"
   ]
  },
  {
   "cell_type": "markdown",
   "id": "2aca2e97",
   "metadata": {},
   "source": [
    "Just like in math, we often need to save numbers to use for the future when coding. Python is easily able to calculate arithmetic expressions, and can even save them to *variables*, or names, like x and y in math that denote the number we are saving. Let's see an example of this below."
   ]
  },
  {
   "cell_type": "code",
   "execution_count": 4,
   "id": "25f8cdcc",
   "metadata": {},
   "outputs": [
    {
     "data": {
      "text/plain": [
       "11"
      ]
     },
     "execution_count": 4,
     "metadata": {},
     "output_type": "execute_result"
    }
   ],
   "source": [
    "# Here is an example of just letting Python solve an arithmetic expression.\n",
    "\n",
    "(2 * 4) + 3"
   ]
  },
  {
   "cell_type": "code",
   "execution_count": 5,
   "id": "c6e21a78",
   "metadata": {},
   "outputs": [],
   "source": [
    "# Let's say we want to now save this to the variable 'x'. Then, we can do the following:\n",
    "\n",
    "x = (2 * 4) + 3"
   ]
  },
  {
   "cell_type": "markdown",
   "id": "25af1cb3",
   "metadata": {},
   "source": [
    "Notice that the cell above did not return anything! That's because we didn't *call* x, which means that we didn't specifically ask for the value of x. Instead, the statement in the cell above simply assigned x to the arithmetic expression. So then... how do we call x?"
   ]
  },
  {
   "cell_type": "code",
   "execution_count": 7,
   "id": "79c0c403",
   "metadata": {},
   "outputs": [
    {
     "data": {
      "text/plain": [
       "11"
      ]
     },
     "execution_count": 7,
     "metadata": {},
     "output_type": "execute_result"
    }
   ],
   "source": [
    "# This is how we call x - it will immediately print x by simply calling its name.\n",
    "\n",
    "x"
   ]
  },
  {
   "cell_type": "code",
   "execution_count": 8,
   "id": "7df0e4c0",
   "metadata": {},
   "outputs": [
    {
     "data": {
      "text/plain": [
       "22"
      ]
     },
     "execution_count": 8,
     "metadata": {},
     "output_type": "execute_result"
    }
   ],
   "source": [
    "# We can also manipulate x (this will not change the real value of x).\n",
    "\n",
    "x * 2"
   ]
  },
  {
   "cell_type": "code",
   "execution_count": 9,
   "id": "3dc90e98",
   "metadata": {},
   "outputs": [],
   "source": [
    "# We can also assign x to its manipulated value by doing the following (which will then reassign x).\n",
    "\n",
    "x = x * 2"
   ]
  },
  {
   "cell_type": "markdown",
   "id": "bc8b8497",
   "metadata": {},
   "source": [
    "### Tables"
   ]
  },
  {
   "cell_type": "markdown",
   "id": "d9573297",
   "metadata": {},
   "source": [
    "We will also be dealing with *tables* to organize all of our data."
   ]
  },
  {
   "cell_type": "markdown",
   "id": "c2b59b56-daea-499a-ba80-70776e3cc9b3",
   "metadata": {},
   "source": [
    "# The Data"
   ]
  },
  {
   "cell_type": "code",
   "execution_count": null,
   "id": "0f366c58-965b-4bc7-ac62-ed49e9ebdaaf",
   "metadata": {},
   "outputs": [],
   "source": []
  },
  {
   "cell_type": "code",
   "execution_count": null,
   "id": "b688eb9f-d779-4ee3-8ec1-c8fa494f59ca",
   "metadata": {},
   "outputs": [],
   "source": []
  },
  {
   "cell_type": "code",
   "execution_count": null,
   "id": "f2c656cf-f2dd-401f-ba34-fcf67ecac2b9",
   "metadata": {},
   "outputs": [],
   "source": []
  },
  {
   "cell_type": "code",
   "execution_count": null,
   "id": "7e1d6600-4dfb-4c19-99fa-fce1e46c749c",
   "metadata": {},
   "outputs": [],
   "source": []
  },
  {
   "cell_type": "code",
   "execution_count": null,
   "id": "d4645de9-e248-4221-8294-d2a3146fb309",
   "metadata": {},
   "outputs": [],
   "source": []
  }
 ],
 "metadata": {
  "kernelspec": {
   "display_name": "Python 3",
   "language": "python",
   "name": "python3"
  },
  "language_info": {
   "codemirror_mode": {
    "name": "ipython",
    "version": 3
   },
   "file_extension": ".py",
   "mimetype": "text/x-python",
   "name": "python",
   "nbconvert_exporter": "python",
   "pygments_lexer": "ipython3",
   "version": "3.8.8"
  }
 },
 "nbformat": 4,
 "nbformat_minor": 5
}
