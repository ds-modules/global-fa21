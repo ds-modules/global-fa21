{
 "cells": [
  {
   "cell_type": "code",
   "execution_count": 1,
   "id": "42f7ea01",
   "metadata": {},
   "outputs": [],
   "source": [
    "# Don't change this cell; just run it. \n",
    "import numpy as np\n",
    "from datascience import *\n",
    "\n",
    "# These lines do some fancy plotting magic.\\n\",\n",
    "import matplotlib\n",
    "%matplotlib inline\n",
    "import matplotlib.pyplot as plots\n",
    "plots.style.use('fivethirtyeight')"
   ]
  },
  {
   "cell_type": "code",
   "execution_count": 2,
   "id": "06a21703",
   "metadata": {},
   "outputs": [
    {
     "data": {
      "text/html": [
       "<table border=\"1\" class=\"dataframe\">\n",
       "    <thead>\n",
       "        <tr>\n",
       "            <th>State/UT</th> <th>2017</th> <th>2018</th> <th>2019</th> <th>Percentage State Share\n",
       "To All-India (2019)</th> <th>Mid-Year Projected Female\n",
       "Population (in lakhs) (2019)</th> <th>Rate of Total Crime against Women (2019)+</th>\n",
       "        </tr>\n",
       "    </thead>\n",
       "    <tbody>\n",
       "        <tr>\n",
       "            <td>Andhra Pradesh    </td> <td>17909</td> <td>16438</td> <td>17746</td> <td>4.4                                       </td> <td>261.4                                                 </td> <td>67.9                                     </td>\n",
       "        </tr>\n",
       "        <tr>\n",
       "            <td>Arunachal Pradesh </td> <td>337  </td> <td>368  </td> <td>317  </td> <td>0.1                                       </td> <td>7.3                                                   </td> <td>43.3                                     </td>\n",
       "        </tr>\n",
       "        <tr>\n",
       "            <td>Assam             </td> <td>23082</td> <td>27687</td> <td>30025</td> <td>7.4                                       </td> <td>168.9                                                 </td> <td>177.8                                    </td>\n",
       "        </tr>\n",
       "        <tr>\n",
       "            <td>Bihar             </td> <td>14711</td> <td>16920</td> <td>18587</td> <td>4.6                                       </td> <td>576.2                                                 </td> <td>32.3                                     </td>\n",
       "        </tr>\n",
       "        <tr>\n",
       "            <td>Chhattisgarh      </td> <td>7996 </td> <td>8587 </td> <td>7689 </td> <td>1.9                                       </td> <td>143.8                                                 </td> <td>53.5                                     </td>\n",
       "        </tr>\n",
       "        <tr>\n",
       "            <td>Goa               </td> <td>369  </td> <td>362  </td> <td>329  </td> <td>0.1                                       </td> <td>7.6                                                   </td> <td>43.1                                     </td>\n",
       "        </tr>\n",
       "        <tr>\n",
       "            <td>Gujarat           </td> <td>8133 </td> <td>8329 </td> <td>8799 </td> <td>2.2                                       </td> <td>324.9                                                 </td> <td>27.1                                     </td>\n",
       "        </tr>\n",
       "        <tr>\n",
       "            <td>Haryana           </td> <td>11370</td> <td>14326</td> <td>14683</td> <td>3.6                                       </td> <td>135.3                                                 </td> <td>108.5                                    </td>\n",
       "        </tr>\n",
       "        <tr>\n",
       "            <td>Himachal Pradesh  </td> <td>1246 </td> <td>1633 </td> <td>1636 </td> <td>0.4                                       </td> <td>36.1                                                  </td> <td>45.4                                     </td>\n",
       "        </tr>\n",
       "        <tr>\n",
       "            <td>Jammu & Kashmir   </td> <td>3129 </td> <td>3437 </td> <td>3069 </td> <td>0.8                                       </td> <td>64.2                                                  </td> <td>47.8                                     </td>\n",
       "        </tr>\n",
       "        <tr>\n",
       "            <td>Jharkhand         </td> <td>5911 </td> <td>7083 </td> <td>8760 </td> <td>2.2                                       </td> <td>183.3                                                 </td> <td>47.8                                     </td>\n",
       "        </tr>\n",
       "        <tr>\n",
       "            <td>Karnataka         </td> <td>14078</td> <td>13514</td> <td>13828</td> <td>3.4                                       </td> <td>325.1                                                 </td> <td>42.5                                     </td>\n",
       "        </tr>\n",
       "        <tr>\n",
       "            <td>Kerala            </td> <td>11057</td> <td>10461</td> <td>11462</td> <td>2.8                                       </td> <td>182.9                                                 </td> <td>62.7                                     </td>\n",
       "        </tr>\n",
       "        <tr>\n",
       "            <td>Madhya Pradesh    </td> <td>29788</td> <td>28942</td> <td>27560</td> <td>6.8                                       </td> <td>399.6                                                 </td> <td>69                                       </td>\n",
       "        </tr>\n",
       "        <tr>\n",
       "            <td>Maharashtra       </td> <td>31979</td> <td>35497</td> <td>37144</td> <td>9.2                                       </td> <td>588.5                                                 </td> <td>63.1                                     </td>\n",
       "        </tr>\n",
       "        <tr>\n",
       "            <td>Manipur           </td> <td>236  </td> <td>271  </td> <td>266  </td> <td>0.1                                       </td> <td>15.5                                                  </td> <td>17.2                                     </td>\n",
       "        </tr>\n",
       "        <tr>\n",
       "            <td>Meghalaya         </td> <td>567  </td> <td>571  </td> <td>558  </td> <td>0.1                                       </td> <td>16.1                                                  </td> <td>34.6                                     </td>\n",
       "        </tr>\n",
       "        <tr>\n",
       "            <td>Mizoram           </td> <td>301  </td> <td>249  </td> <td>170  </td> <td>0                                         </td> <td>5.9                                                   </td> <td>28.7                                     </td>\n",
       "        </tr>\n",
       "        <tr>\n",
       "            <td>Nagaland          </td> <td>79   </td> <td>75   </td> <td>43   </td> <td>0                                         </td> <td>10.4                                                  </td> <td>4.1                                      </td>\n",
       "        </tr>\n",
       "        <tr>\n",
       "            <td>Odisha            </td> <td>20098</td> <td>20274</td> <td>23183</td> <td>5.7                                       </td> <td>223.9                                                 </td> <td>103.5                                    </td>\n",
       "        </tr>\n",
       "        <tr>\n",
       "            <td>Punjab            </td> <td>4620 </td> <td>5302 </td> <td>5886 </td> <td>1.5                                       </td> <td>141.9                                                 </td> <td>41.5                                     </td>\n",
       "        </tr>\n",
       "        <tr>\n",
       "            <td>Rajasthan         </td> <td>25993</td> <td>27866</td> <td>41550</td> <td>10.2                                      </td> <td>376.4                                                 </td> <td>110.4                                    </td>\n",
       "        </tr>\n",
       "        <tr>\n",
       "            <td>Sikkim            </td> <td>163  </td> <td>172  </td> <td>125  </td> <td>0                                         </td> <td>3.1                                                   </td> <td>39.8                                     </td>\n",
       "        </tr>\n",
       "        <tr>\n",
       "            <td>Tamil Nadu        </td> <td>5397 </td> <td>5822 </td> <td>5934 </td> <td>1.5                                       </td> <td>379.2                                                 </td> <td>15.6                                     </td>\n",
       "        </tr>\n",
       "        <tr>\n",
       "            <td>Telangana         </td> <td>17521</td> <td>16027</td> <td>18394</td> <td>4.5                                       </td> <td>185.3                                                 </td> <td>99.3                                     </td>\n",
       "        </tr>\n",
       "        <tr>\n",
       "            <td>Tripura           </td> <td>972  </td> <td>907  </td> <td>1070 </td> <td>0.3                                       </td> <td>19.7                                                  </td> <td>54.5                                     </td>\n",
       "        </tr>\n",
       "        <tr>\n",
       "            <td>Uttar Pradesh     </td> <td>56011</td> <td>59445</td> <td>59853</td> <td>14.7                                      </td> <td>1081.4                                                </td> <td>55.4                                     </td>\n",
       "        </tr>\n",
       "        <tr>\n",
       "            <td>Uttarakhand       </td> <td>1944 </td> <td>2817 </td> <td>2541 </td> <td>0.6                                       </td> <td>54.6                                                  </td> <td>46.5                                     </td>\n",
       "        </tr>\n",
       "        <tr>\n",
       "            <td>West Bengal       </td> <td>30992</td> <td>30394</td> <td>30394</td> <td>7.5                                       </td> <td>474.9                                                 </td> <td>64                                       </td>\n",
       "        </tr>\n",
       "        <tr>\n",
       "            <td>A & N Islands (UT)</td> <td>132  </td> <td>147  </td> <td>135  </td> <td>0                                         </td> <td>1.9                                                   </td> <td>72.2                                     </td>\n",
       "        </tr>\n",
       "        <tr>\n",
       "            <td>Chandigarh (UT)   </td> <td>453  </td> <td>442  </td> <td>515  </td> <td>0.1                                       </td> <td>5.4                                                   </td> <td>95.2                                     </td>\n",
       "        </tr>\n",
       "        <tr>\n",
       "            <td>D&N Haveli (UT)   </td> <td>20   </td> <td>38   </td> <td>49   </td> <td>0                                         </td> <td>2.3                                                   </td> <td>21.6                                     </td>\n",
       "        </tr>\n",
       "        <tr>\n",
       "            <td>Daman & Diu (UT)  </td> <td>26   </td> <td>16   </td> <td>33   </td> <td>0                                         </td> <td>1.3                                                   </td> <td>25.2                                     </td>\n",
       "        </tr>\n",
       "        <tr>\n",
       "            <td>Delhi (UT)        </td> <td>13076</td> <td>13640</td> <td>13395</td> <td>3.3                                       </td> <td>93.1                                                  </td> <td>144                                      </td>\n",
       "        </tr>\n",
       "        <tr>\n",
       "            <td>Lakshadweep (UT)  </td> <td>6    </td> <td>11   </td> <td>38   </td> <td>0                                         </td> <td>0.3                                                   </td> <td>115.2                                    </td>\n",
       "        </tr>\n",
       "        <tr>\n",
       "            <td>Puducherry (UT)   </td> <td>147  </td> <td>166  </td> <td>95   </td> <td>0                                         </td> <td>7.9                                                   </td> <td>12.1                                     </td>\n",
       "        </tr>\n",
       "    </tbody>\n",
       "</table>"
      ],
      "text/plain": [
       "<IPython.core.display.HTML object>"
      ]
     },
     "metadata": {},
     "output_type": "display_data"
    }
   ],
   "source": [
    "state = Table.read_table(\"https://raw.githubusercontent.com/ds-modules/global-fa21/main/data/Table%203A.1_2.csv?token=AQZN7P2Q3J4PN2E77UEZRPLBJTFTQ\")\n",
    "state = state.take(np.arange(36))\n",
    "state.show()"
   ]
  },
  {
   "cell_type": "code",
   "execution_count": 3,
   "id": "d32639ca",
   "metadata": {},
   "outputs": [
    {
     "data": {
      "text/html": [
       "<table border=\"1\" class=\"dataframe\">\n",
       "    <thead>\n",
       "        <tr>\n",
       "            <th>State/UT</th> <th>2019 GDP Per Capita ($)</th> <th>2018-2019 Unemployment Rate (%)</th>\n",
       "        </tr>\n",
       "    </thead>\n",
       "    <tbody>\n",
       "        <tr>\n",
       "            <td>Andhra Pradesh    </td> <td>2480                   </td> <td>7.3                            </td>\n",
       "        </tr>\n",
       "        <tr>\n",
       "            <td>Arunachal Pradesh </td> <td>2253                   </td> <td>11.1                           </td>\n",
       "        </tr>\n",
       "        <tr>\n",
       "            <td>Assam             </td> <td>1365                   </td> <td>10.7                           </td>\n",
       "        </tr>\n",
       "        <tr>\n",
       "            <td>Bihar             </td> <td>659                    </td> <td>10.5                           </td>\n",
       "        </tr>\n",
       "        <tr>\n",
       "            <td>Chhattisgarh      </td> <td>1555                   </td> <td>5.5                            </td>\n",
       "        </tr>\n",
       "        <tr>\n",
       "            <td>Goa               </td> <td>7029                   </td> <td>9.1                            </td>\n",
       "        </tr>\n",
       "        <tr>\n",
       "            <td>Gujarat           </td> <td>3283                   </td> <td>3.2                            </td>\n",
       "        </tr>\n",
       "        <tr>\n",
       "            <td>Haryana           </td> <td>3840                   </td> <td>8.7                            </td>\n",
       "        </tr>\n",
       "        <tr>\n",
       "            <td>Himachal Pradesh  </td> <td>3118                   </td> <td>8.8                            </td>\n",
       "        </tr>\n",
       "        <tr>\n",
       "            <td>Jammu & Kashmir   </td> <td>1636                   </td> <td>10.1                           </td>\n",
       "        </tr>\n",
       "        <tr>\n",
       "            <td>Jharkhand         </td> <td>1179                   </td> <td>8.7                            </td>\n",
       "        </tr>\n",
       "        <tr>\n",
       "            <td>Karnataka         </td> <td>3359                   </td> <td>5.2                            </td>\n",
       "        </tr>\n",
       "        <tr>\n",
       "            <td>Kerala            </td> <td>3327                   </td> <td>9.7                            </td>\n",
       "        </tr>\n",
       "        <tr>\n",
       "            <td>Madhya Pradesh    </td> <td>1461                   </td> <td>7.4                            </td>\n",
       "        </tr>\n",
       "        <tr>\n",
       "            <td>Maharashtra       </td> <td>3193                   </td> <td>6.4                            </td>\n",
       "        </tr>\n",
       "        <tr>\n",
       "            <td>Manipur           </td> <td>1222                   </td> <td>9.2                            </td>\n",
       "        </tr>\n",
       "        <tr>\n",
       "            <td>Meghalaya         </td> <td>1417                   </td> <td>7.5                            </td>\n",
       "        </tr>\n",
       "        <tr>\n",
       "            <td>Mizoram           </td> <td>2773                   </td> <td>9.1                            </td>\n",
       "        </tr>\n",
       "        <tr>\n",
       "            <td>Nagaland          </td> <td>1918                   </td> <td>21.1                           </td>\n",
       "        </tr>\n",
       "        <tr>\n",
       "            <td>Odisha            </td> <td>1651                   </td> <td>12.7                           </td>\n",
       "        </tr>\n",
       "        <tr>\n",
       "            <td>Punjab            </td> <td>2536                   </td> <td>7                              </td>\n",
       "        </tr>\n",
       "        <tr>\n",
       "            <td>Rajasthan         </td> <td>1820                   </td> <td>9.5                            </td>\n",
       "        </tr>\n",
       "        <tr>\n",
       "            <td>Sikkim            </td> <td>6421                   </td> <td>4.9                            </td>\n",
       "        </tr>\n",
       "        <tr>\n",
       "            <td>Tamil Nadu        </td> <td>3184                   </td> <td>6.7                            </td>\n",
       "        </tr>\n",
       "        <tr>\n",
       "            <td>Telangana         </td> <td>3321                   </td> <td>11.2                           </td>\n",
       "        </tr>\n",
       "        <tr>\n",
       "            <td>Tripura           </td> <td>1851                   </td> <td>13.5                           </td>\n",
       "        </tr>\n",
       "        <tr>\n",
       "            <td>Uttar Pradesh     </td> <td>1043                   </td> <td>10.6                           </td>\n",
       "        </tr>\n",
       "        <tr>\n",
       "            <td>Uttarakhand       </td> <td>3250                   </td> <td>13.4                           </td>\n",
       "        </tr>\n",
       "        <tr>\n",
       "            <td>West Bengal       </td> <td>1634                   </td> <td>4.9                            </td>\n",
       "        </tr>\n",
       "        <tr>\n",
       "            <td>A & N Islands (UT)</td> <td>3321                   </td> <td>12                             </td>\n",
       "        </tr>\n",
       "        <tr>\n",
       "            <td>Chandigarh (UT)   </td> <td>5297                   </td> <td>8.2                            </td>\n",
       "        </tr>\n",
       "        <tr>\n",
       "            <td>D&N Haveli (UT)   </td> <td>NA                     </td> <td>1.8                            </td>\n",
       "        </tr>\n",
       "        <tr>\n",
       "            <td>Daman & Diu (UT)  </td> <td>NA                     </td> <td>0                              </td>\n",
       "        </tr>\n",
       "        <tr>\n",
       "            <td>Delhi (UT)        </td> <td>5817                   </td> <td>10.8                           </td>\n",
       "        </tr>\n",
       "        <tr>\n",
       "            <td>Lakshadweep (UT)  </td> <td>NA                     </td> <td>28.6                           </td>\n",
       "        </tr>\n",
       "        <tr>\n",
       "            <td>Puducherry (UT)   </td> <td>3334                   </td> <td>6                              </td>\n",
       "        </tr>\n",
       "    </tbody>\n",
       "</table>"
      ],
      "text/plain": [
       "<IPython.core.display.HTML object>"
      ]
     },
     "metadata": {},
     "output_type": "display_data"
    }
   ],
   "source": [
    "additional_data = Table().with_columns(\"State/UT\", state.column(\"State/UT\"), \"2019 GDP Per Capita ($)\", make_array(2480, 2253, 1365, 659, 1555, 7029, 3283, 3840, 3118, 1636, 1179, 3359, 3327, 1461, 3193, 1222, 1417, 2773, 1918, 1651, 2536, 1820, 6421, 3184, 3321, 1851, 1043, 3250, 1634, 3321, 5297, 'NA', 'NA', 5817, 'NA', 3334))\n",
    "additional_data = additional_data.with_column(\"2018-2019 Unemployment Rate (%)\", make_array(7.3, 11.1, 10.7, 10.5, 5.5, 9.1, 3.2, 8.7, 8.8, 10.1, 8.7, 5.2, 9.7, 7.4, 6.4, 9.2, 7.5, 9.1, 21.1, 12.7, 7, 9.5, 4.9, 6.7, 11.2, 13.5, 10.6, 13.4, 4.9, 12, 8.2, 1.8, 0, 10.8, 28.6, 6))\n",
    "additional_data.show()\n",
    "#literacy rate"
   ]
  },
  {
   "cell_type": "code",
   "execution_count": 4,
   "id": "f9a5c670",
   "metadata": {},
   "outputs": [
    {
     "data": {
      "text/html": [
       "<table border=\"1\" class=\"dataframe\">\n",
       "    <thead>\n",
       "        <tr>\n",
       "            <th>State/UT</th> <th>2017</th> <th>2018</th> <th>2019</th> <th>Percentage State Share\n",
       "To All-India (2019)</th> <th>Mid-Year Projected Female\n",
       "Population (in lakhs) (2019)</th> <th>Rate of Total Crime against Women (2019)+</th> <th>2019 GDP Per Capita ($)</th> <th>2018-2019 Unemployment Rate (%)</th>\n",
       "        </tr>\n",
       "    </thead>\n",
       "    <tbody>\n",
       "        <tr>\n",
       "            <td>A & N Islands (UT)</td> <td>132  </td> <td>147  </td> <td>135  </td> <td>0                                         </td> <td>1.9                                                   </td> <td>72.2                                     </td> <td>3321                   </td> <td>12                             </td>\n",
       "        </tr>\n",
       "        <tr>\n",
       "            <td>Andhra Pradesh    </td> <td>17909</td> <td>16438</td> <td>17746</td> <td>4.4                                       </td> <td>261.4                                                 </td> <td>67.9                                     </td> <td>2480                   </td> <td>7.3                            </td>\n",
       "        </tr>\n",
       "        <tr>\n",
       "            <td>Arunachal Pradesh </td> <td>337  </td> <td>368  </td> <td>317  </td> <td>0.1                                       </td> <td>7.3                                                   </td> <td>43.3                                     </td> <td>2253                   </td> <td>11.1                           </td>\n",
       "        </tr>\n",
       "        <tr>\n",
       "            <td>Assam             </td> <td>23082</td> <td>27687</td> <td>30025</td> <td>7.4                                       </td> <td>168.9                                                 </td> <td>177.8                                    </td> <td>1365                   </td> <td>10.7                           </td>\n",
       "        </tr>\n",
       "        <tr>\n",
       "            <td>Bihar             </td> <td>14711</td> <td>16920</td> <td>18587</td> <td>4.6                                       </td> <td>576.2                                                 </td> <td>32.3                                     </td> <td>659                    </td> <td>10.5                           </td>\n",
       "        </tr>\n",
       "        <tr>\n",
       "            <td>Chandigarh (UT)   </td> <td>453  </td> <td>442  </td> <td>515  </td> <td>0.1                                       </td> <td>5.4                                                   </td> <td>95.2                                     </td> <td>5297                   </td> <td>8.2                            </td>\n",
       "        </tr>\n",
       "        <tr>\n",
       "            <td>Chhattisgarh      </td> <td>7996 </td> <td>8587 </td> <td>7689 </td> <td>1.9                                       </td> <td>143.8                                                 </td> <td>53.5                                     </td> <td>1555                   </td> <td>5.5                            </td>\n",
       "        </tr>\n",
       "        <tr>\n",
       "            <td>D&N Haveli (UT)   </td> <td>20   </td> <td>38   </td> <td>49   </td> <td>0                                         </td> <td>2.3                                                   </td> <td>21.6                                     </td> <td>NA                     </td> <td>1.8                            </td>\n",
       "        </tr>\n",
       "        <tr>\n",
       "            <td>Daman & Diu (UT)  </td> <td>26   </td> <td>16   </td> <td>33   </td> <td>0                                         </td> <td>1.3                                                   </td> <td>25.2                                     </td> <td>NA                     </td> <td>0                              </td>\n",
       "        </tr>\n",
       "        <tr>\n",
       "            <td>Delhi (UT)        </td> <td>13076</td> <td>13640</td> <td>13395</td> <td>3.3                                       </td> <td>93.1                                                  </td> <td>144                                      </td> <td>5817                   </td> <td>10.8                           </td>\n",
       "        </tr>\n",
       "    </tbody>\n",
       "</table>\n",
       "<p>... (26 rows omitted)</p>"
      ],
      "text/plain": [
       "State/UT           | 2017  | 2018  | 2019  | Percentage State Share\n",
       "To All-India (2019) | Mid-Year Projected Female\n",
       "Population (in lakhs) (2019) | Rate of Total Crime against Women (2019)+ | 2019 GDP Per Capita ($) | 2018-2019 Unemployment Rate (%)\n",
       "A & N Islands (UT) | 132   | 147   | 135   | 0                                          | 1.9                                                    | 72.2                                      | 3321                    | 12\n",
       "Andhra Pradesh     | 17909 | 16438 | 17746 | 4.4                                        | 261.4                                                  | 67.9                                      | 2480                    | 7.3\n",
       "Arunachal Pradesh  | 337   | 368   | 317   | 0.1                                        | 7.3                                                    | 43.3                                      | 2253                    | 11.1\n",
       "Assam              | 23082 | 27687 | 30025 | 7.4                                        | 168.9                                                  | 177.8                                     | 1365                    | 10.7\n",
       "Bihar              | 14711 | 16920 | 18587 | 4.6                                        | 576.2                                                  | 32.3                                      | 659                     | 10.5\n",
       "Chandigarh (UT)    | 453   | 442   | 515   | 0.1                                        | 5.4                                                    | 95.2                                      | 5297                    | 8.2\n",
       "Chhattisgarh       | 7996  | 8587  | 7689  | 1.9                                        | 143.8                                                  | 53.5                                      | 1555                    | 5.5\n",
       "D&N Haveli (UT)    | 20    | 38    | 49    | 0                                          | 2.3                                                    | 21.6                                      | NA                      | 1.8\n",
       "Daman & Diu (UT)   | 26    | 16    | 33    | 0                                          | 1.3                                                    | 25.2                                      | NA                      | 0\n",
       "Delhi (UT)         | 13076 | 13640 | 13395 | 3.3                                        | 93.1                                                   | 144                                       | 5817                    | 10.8\n",
       "... (26 rows omitted)"
      ]
     },
     "execution_count": 4,
     "metadata": {},
     "output_type": "execute_result"
    }
   ],
   "source": [
    "#merge two datasets by state\n",
    "india = state.join(\"State/UT\", additional_data)\n",
    "india"
   ]
  },
  {
   "cell_type": "code",
   "execution_count": 5,
   "id": "b9c56b3c",
   "metadata": {},
   "outputs": [],
   "source": [
    "def standard_units(num_array):\n",
    "    arr_mean = np.mean(num_array)\n",
    "    arr_sd = np.std(num_array)\n",
    "    return (num_array - arr_mean) / arr_sd"
   ]
  },
  {
   "cell_type": "code",
   "execution_count": 6,
   "id": "7c1dbf19",
   "metadata": {},
   "outputs": [],
   "source": [
    "def correlation(tbl, x, y):\n",
    "    su_x = standard_units(tbl.column(x))\n",
    "    su_y = standard_units(tbl.column(y))\n",
    "    return np.mean(su_x * su_y)"
   ]
  },
  {
   "cell_type": "code",
   "execution_count": 7,
   "id": "6d36e369",
   "metadata": {},
   "outputs": [
    {
     "ename": "ValueError",
     "evalue": "label \"Mid-Year Projected Female Population (in lakhs) (2019)\" not in labels ('State/UT', '2017', '2018', '2019', 'Percentage State Share\\nTo All-India (2019)', 'Mid-Year Projected Female\\nPopulation (in lakhs) (2019)', 'Rate of Total Crime against Women (2019)+', '2019 GDP Per Capita ($)', '2018-2019 Unemployment Rate (%)')",
     "output_type": "error",
     "traceback": [
      "\u001b[0;31m---------------------------------------------------------------------------\u001b[0m",
      "\u001b[0;31mValueError\u001b[0m                                Traceback (most recent call last)",
      "\u001b[0;32m<ipython-input-7-4ac4bc7a9ad9>\u001b[0m in \u001b[0;36m<module>\u001b[0;34m\u001b[0m\n\u001b[0;32m----> 1\u001b[0;31m \u001b[0mindia\u001b[0m\u001b[0;34m.\u001b[0m\u001b[0mscatter\u001b[0m\u001b[0;34m(\u001b[0m\u001b[0;34m\"Mid-Year Projected Female Population (in lakhs) (2019)\"\u001b[0m\u001b[0;34m,\u001b[0m \u001b[0;34m\"Rate of Total Crime against Women (2019)+\"\u001b[0m\u001b[0;34m)\u001b[0m\u001b[0;34m\u001b[0m\u001b[0;34m\u001b[0m\u001b[0m\n\u001b[0m",
      "\u001b[0;32m~/opt/anaconda3/lib/python3.8/site-packages/datascience/tables.py\u001b[0m in \u001b[0;36mscatter\u001b[0;34m(self, column_for_x, select, overlay, fit_line, group, labels, sizes, width, height, s, **vargs)\u001b[0m\n\u001b[1;32m   3401\u001b[0m         \u001b[0moptions\u001b[0m\u001b[0;34m.\u001b[0m\u001b[0mupdate\u001b[0m\u001b[0;34m(\u001b[0m\u001b[0mvargs\u001b[0m\u001b[0;34m)\u001b[0m\u001b[0;34m\u001b[0m\u001b[0;34m\u001b[0m\u001b[0m\n\u001b[1;32m   3402\u001b[0m \u001b[0;34m\u001b[0m\u001b[0m\n\u001b[0;32m-> 3403\u001b[0;31m         \u001b[0mx_data\u001b[0m\u001b[0;34m,\u001b[0m \u001b[0my_labels\u001b[0m \u001b[0;34m=\u001b[0m  \u001b[0mself\u001b[0m\u001b[0;34m.\u001b[0m\u001b[0m_split_column_and_labels\u001b[0m\u001b[0;34m(\u001b[0m\u001b[0mcolumn_for_x\u001b[0m\u001b[0;34m)\u001b[0m\u001b[0;34m\u001b[0m\u001b[0;34m\u001b[0m\u001b[0m\n\u001b[0m\u001b[1;32m   3404\u001b[0m         \u001b[0;32mif\u001b[0m \u001b[0;34m\"colors\"\u001b[0m \u001b[0;32min\u001b[0m \u001b[0mvargs\u001b[0m \u001b[0;32mand\u001b[0m \u001b[0mvargs\u001b[0m\u001b[0;34m[\u001b[0m\u001b[0;34m\"colors\"\u001b[0m\u001b[0;34m]\u001b[0m\u001b[0;34m:\u001b[0m\u001b[0;34m\u001b[0m\u001b[0;34m\u001b[0m\u001b[0m\n\u001b[1;32m   3405\u001b[0m             \u001b[0mwarnings\u001b[0m\u001b[0;34m.\u001b[0m\u001b[0mwarn\u001b[0m\u001b[0;34m(\u001b[0m\u001b[0;34m\"scatter(colors=x) has been removed. Use scatter(group=x)\"\u001b[0m\u001b[0;34m,\u001b[0m \u001b[0mFutureWarning\u001b[0m\u001b[0;34m)\u001b[0m\u001b[0;34m\u001b[0m\u001b[0;34m\u001b[0m\u001b[0m\n",
      "\u001b[0;32m~/opt/anaconda3/lib/python3.8/site-packages/datascience/tables.py\u001b[0m in \u001b[0;36m_split_column_and_labels\u001b[0;34m(self, column_or_label)\u001b[0m\n\u001b[1;32m   4054\u001b[0m             \u001b[0;32mreturn\u001b[0m \u001b[0mcolumns\u001b[0m \u001b[0;34m+\u001b[0m \u001b[0;34m(\u001b[0m\u001b[0mlabels\u001b[0m\u001b[0;34m,\u001b[0m\u001b[0;34m)\u001b[0m\u001b[0;34m\u001b[0m\u001b[0;34m\u001b[0m\u001b[0m\n\u001b[1;32m   4055\u001b[0m \u001b[0;34m\u001b[0m\u001b[0m\n\u001b[0;32m-> 4056\u001b[0;31m         \u001b[0mcolumn\u001b[0m \u001b[0;34m=\u001b[0m \u001b[0;32mNone\u001b[0m \u001b[0;32mif\u001b[0m \u001b[0mcolumn_or_label\u001b[0m \u001b[0;32mis\u001b[0m \u001b[0;32mNone\u001b[0m \u001b[0;32melse\u001b[0m \u001b[0mself\u001b[0m\u001b[0;34m.\u001b[0m\u001b[0m_get_column\u001b[0m\u001b[0;34m(\u001b[0m\u001b[0mcolumn_or_label\u001b[0m\u001b[0;34m)\u001b[0m\u001b[0;34m\u001b[0m\u001b[0;34m\u001b[0m\u001b[0m\n\u001b[0m\u001b[1;32m   4057\u001b[0m         \u001b[0mlabels\u001b[0m \u001b[0;34m=\u001b[0m \u001b[0;34m[\u001b[0m\u001b[0mlabel\u001b[0m \u001b[0;32mfor\u001b[0m \u001b[0mi\u001b[0m\u001b[0;34m,\u001b[0m \u001b[0mlabel\u001b[0m \u001b[0;32min\u001b[0m \u001b[0menumerate\u001b[0m\u001b[0;34m(\u001b[0m\u001b[0mself\u001b[0m\u001b[0;34m.\u001b[0m\u001b[0mlabels\u001b[0m\u001b[0;34m)\u001b[0m \u001b[0;32mif\u001b[0m \u001b[0mcolumn_or_label\u001b[0m \u001b[0;32mnot\u001b[0m \u001b[0;32min\u001b[0m \u001b[0;34m(\u001b[0m\u001b[0mi\u001b[0m\u001b[0;34m,\u001b[0m \u001b[0mlabel\u001b[0m\u001b[0;34m)\u001b[0m\u001b[0;34m]\u001b[0m\u001b[0;34m\u001b[0m\u001b[0;34m\u001b[0m\u001b[0m\n\u001b[1;32m   4058\u001b[0m         \u001b[0;32mreturn\u001b[0m \u001b[0mcolumn\u001b[0m\u001b[0;34m,\u001b[0m \u001b[0mlabels\u001b[0m\u001b[0;34m\u001b[0m\u001b[0;34m\u001b[0m\u001b[0m\n",
      "\u001b[0;32m~/opt/anaconda3/lib/python3.8/site-packages/datascience/tables.py\u001b[0m in \u001b[0;36m_get_column\u001b[0;34m(self, column_or_label)\u001b[0m\n\u001b[1;32m   1995\u001b[0m             \u001b[0;32mreturn\u001b[0m \u001b[0mself\u001b[0m\u001b[0;34m[\u001b[0m\u001b[0mc\u001b[0m\u001b[0;34m]\u001b[0m\u001b[0;34m\u001b[0m\u001b[0;34m\u001b[0m\u001b[0m\n\u001b[1;32m   1996\u001b[0m         \u001b[0;32melif\u001b[0m \u001b[0misinstance\u001b[0m\u001b[0;34m(\u001b[0m\u001b[0mc\u001b[0m\u001b[0;34m,\u001b[0m \u001b[0mstr\u001b[0m\u001b[0;34m)\u001b[0m\u001b[0;34m:\u001b[0m\u001b[0;34m\u001b[0m\u001b[0;34m\u001b[0m\u001b[0m\n\u001b[0;32m-> 1997\u001b[0;31m             \u001b[0;32mraise\u001b[0m \u001b[0mValueError\u001b[0m\u001b[0;34m(\u001b[0m\u001b[0;34m'label \"{}\" not in labels {}'\u001b[0m\u001b[0;34m.\u001b[0m\u001b[0mformat\u001b[0m\u001b[0;34m(\u001b[0m\u001b[0mc\u001b[0m\u001b[0;34m,\u001b[0m \u001b[0mself\u001b[0m\u001b[0;34m.\u001b[0m\u001b[0mlabels\u001b[0m\u001b[0;34m)\u001b[0m\u001b[0;34m)\u001b[0m\u001b[0;34m\u001b[0m\u001b[0;34m\u001b[0m\u001b[0m\n\u001b[0m\u001b[1;32m   1998\u001b[0m         \u001b[0;32melse\u001b[0m\u001b[0;34m:\u001b[0m\u001b[0;34m\u001b[0m\u001b[0;34m\u001b[0m\u001b[0m\n\u001b[1;32m   1999\u001b[0m             \u001b[0;32massert\u001b[0m \u001b[0mlen\u001b[0m\u001b[0;34m(\u001b[0m\u001b[0mc\u001b[0m\u001b[0;34m)\u001b[0m \u001b[0;34m==\u001b[0m \u001b[0mself\u001b[0m\u001b[0;34m.\u001b[0m\u001b[0mnum_rows\u001b[0m\u001b[0;34m,\u001b[0m \u001b[0;34m'column length mismatch'\u001b[0m\u001b[0;34m\u001b[0m\u001b[0;34m\u001b[0m\u001b[0m\n",
      "\u001b[0;31mValueError\u001b[0m: label \"Mid-Year Projected Female Population (in lakhs) (2019)\" not in labels ('State/UT', '2017', '2018', '2019', 'Percentage State Share\\nTo All-India (2019)', 'Mid-Year Projected Female\\nPopulation (in lakhs) (2019)', 'Rate of Total Crime against Women (2019)+', '2019 GDP Per Capita ($)', '2018-2019 Unemployment Rate (%)')"
     ]
    }
   ],
   "source": [
    "india.scatter(\"Mid-Year Projected Female Population (in lakhs) (2019)\", \"Rate of Total Crime against Women (2019)+\")"
   ]
  },
  {
   "cell_type": "code",
   "execution_count": 8,
   "id": "4d85c81c",
   "metadata": {},
   "outputs": [
    {
     "data": {
      "image/png": "[encoded data removed]",
      "text/plain": [
       "<Figure size 360x360 with 1 Axes>"
      ]
     },
     "metadata": {},
     "output_type": "display_data"
    }
   ],
   "source": [
    "india.scatter(\"Mid-Year Projected Female\\nPopulation (in lakhs) (2019)\", \"Rate of Total Crime against Women (2019)+\")"
   ]
  },
  {
   "cell_type": "code",
   "execution_count": 9,
   "id": "2f448156",
   "metadata": {},
   "outputs": [
    {
     "data": {
      "text/plain": [
       "0.06612365000343529"
      ]
     },
     "execution_count": 9,
     "metadata": {},
     "output_type": "execute_result"
    }
   ],
   "source": [
    "correlation(india, \"Mid-Year Projected Female\\nPopulation (in lakhs) (2019)\", \"Rate of Total Crime against Women (2019)+\")"
   ]
  },
  {
   "cell_type": "code",
   "execution_count": 10,
   "id": "12afed06",
   "metadata": {},
   "outputs": [
    {
     "data": {
      "image/png": "[encoded data removed]",
      "text/plain": [
       "<Figure size 360x360 with 1 Axes>"
      ]
     },
     "metadata": {},
     "output_type": "display_data"
    }
   ],
   "source": [
    "india.scatter(\"2018-2019 Unemployment Rate (%)\", \"Rate of Total Crime against Women (2019)+\")\n",
    "#outliers"
   ]
  },
  {
   "cell_type": "code",
   "execution_count": 11,
   "id": "06c51151",
   "metadata": {},
   "outputs": [
    {
     "data": {
      "text/plain": [
       "0.3071599733969064"
      ]
     },
     "execution_count": 11,
     "metadata": {},
     "output_type": "execute_result"
    }
   ],
   "source": [
    "correlation(india, \"2018-2019 Unemployment Rate (%)\", \"Rate of Total Crime against Women (2019)+\")"
   ]
  },
  {
   "cell_type": "code",
   "execution_count": 12,
   "id": "c8525262",
   "metadata": {},
   "outputs": [
    {
     "data": {
      "text/html": [
       "<table border=\"1\" class=\"dataframe\">\n",
       "    <thead>\n",
       "        <tr>\n",
       "            <th>State/UT</th> <th>2017</th> <th>2018</th> <th>2019</th> <th>Percentage State Share\n",
       "To All-India (2019)</th> <th>Mid-Year Projected Female\n",
       "Population (in lakhs) (2019)</th> <th>Rate of Total Crime against Women (2019)+</th> <th>2019 GDP Per Capita ($)</th> <th>2018-2019 Unemployment Rate (%)</th>\n",
       "        </tr>\n",
       "    </thead>\n",
       "    <tbody>\n",
       "        <tr>\n",
       "            <td>A & N Islands (UT)</td> <td>132  </td> <td>147  </td> <td>135  </td> <td>0                                         </td> <td>1.9                                                   </td> <td>72.2                                     </td> <td>3321                   </td> <td>12                             </td>\n",
       "        </tr>\n",
       "        <tr>\n",
       "            <td>Andhra Pradesh    </td> <td>17909</td> <td>16438</td> <td>17746</td> <td>4.4                                       </td> <td>261.4                                                 </td> <td>67.9                                     </td> <td>2480                   </td> <td>7.3                            </td>\n",
       "        </tr>\n",
       "        <tr>\n",
       "            <td>Arunachal Pradesh </td> <td>337  </td> <td>368  </td> <td>317  </td> <td>0.1                                       </td> <td>7.3                                                   </td> <td>43.3                                     </td> <td>2253                   </td> <td>11.1                           </td>\n",
       "        </tr>\n",
       "        <tr>\n",
       "            <td>Assam             </td> <td>23082</td> <td>27687</td> <td>30025</td> <td>7.4                                       </td> <td>168.9                                                 </td> <td>177.8                                    </td> <td>1365                   </td> <td>10.7                           </td>\n",
       "        </tr>\n",
       "        <tr>\n",
       "            <td>Bihar             </td> <td>14711</td> <td>16920</td> <td>18587</td> <td>4.6                                       </td> <td>576.2                                                 </td> <td>32.3                                     </td> <td>659                    </td> <td>10.5                           </td>\n",
       "        </tr>\n",
       "        <tr>\n",
       "            <td>Chandigarh (UT)   </td> <td>453  </td> <td>442  </td> <td>515  </td> <td>0.1                                       </td> <td>5.4                                                   </td> <td>95.2                                     </td> <td>5297                   </td> <td>8.2                            </td>\n",
       "        </tr>\n",
       "        <tr>\n",
       "            <td>Chhattisgarh      </td> <td>7996 </td> <td>8587 </td> <td>7689 </td> <td>1.9                                       </td> <td>143.8                                                 </td> <td>53.5                                     </td> <td>1555                   </td> <td>5.5                            </td>\n",
       "        </tr>\n",
       "        <tr>\n",
       "            <td>Delhi (UT)        </td> <td>13076</td> <td>13640</td> <td>13395</td> <td>3.3                                       </td> <td>93.1                                                  </td> <td>144                                      </td> <td>5817                   </td> <td>10.8                           </td>\n",
       "        </tr>\n",
       "        <tr>\n",
       "            <td>Goa               </td> <td>369  </td> <td>362  </td> <td>329  </td> <td>0.1                                       </td> <td>7.6                                                   </td> <td>43.1                                     </td> <td>7029                   </td> <td>9.1                            </td>\n",
       "        </tr>\n",
       "        <tr>\n",
       "            <td>Gujarat           </td> <td>8133 </td> <td>8329 </td> <td>8799 </td> <td>2.2                                       </td> <td>324.9                                                 </td> <td>27.1                                     </td> <td>3283                   </td> <td>3.2                            </td>\n",
       "        </tr>\n",
       "    </tbody>\n",
       "</table>\n",
       "<p>... (23 rows omitted)</p>"
      ],
      "text/plain": [
       "State/UT           | 2017  | 2018  | 2019  | Percentage State Share\n",
       "To All-India (2019) | Mid-Year Projected Female\n",
       "Population (in lakhs) (2019) | Rate of Total Crime against Women (2019)+ | 2019 GDP Per Capita ($) | 2018-2019 Unemployment Rate (%)\n",
       "A & N Islands (UT) | 132   | 147   | 135   | 0                                          | 1.9                                                    | 72.2                                      | 3321                    | 12\n",
       "Andhra Pradesh     | 17909 | 16438 | 17746 | 4.4                                        | 261.4                                                  | 67.9                                      | 2480                    | 7.3\n",
       "Arunachal Pradesh  | 337   | 368   | 317   | 0.1                                        | 7.3                                                    | 43.3                                      | 2253                    | 11.1\n",
       "Assam              | 23082 | 27687 | 30025 | 7.4                                        | 168.9                                                  | 177.8                                     | 1365                    | 10.7\n",
       "Bihar              | 14711 | 16920 | 18587 | 4.6                                        | 576.2                                                  | 32.3                                      | 659                     | 10.5\n",
       "Chandigarh (UT)    | 453   | 442   | 515   | 0.1                                        | 5.4                                                    | 95.2                                      | 5297                    | 8.2\n",
       "Chhattisgarh       | 7996  | 8587  | 7689  | 1.9                                        | 143.8                                                  | 53.5                                      | 1555                    | 5.5\n",
       "Delhi (UT)         | 13076 | 13640 | 13395 | 3.3                                        | 93.1                                                   | 144                                       | 5817                    | 10.8\n",
       "Goa                | 369   | 362   | 329   | 0.1                                        | 7.6                                                    | 43.1                                      | 7029                    | 9.1\n",
       "Gujarat            | 8133  | 8329  | 8799  | 2.2                                        | 324.9                                                  | 27.1                                      | 3283                    | 3.2\n",
       "... (23 rows omitted)"
      ]
     },
     "execution_count": 12,
     "metadata": {},
     "output_type": "execute_result"
    }
   ],
   "source": [
    "india_1 = india.where(\"2019 GDP Per Capita ($)\", are.not_equal_to(\"NA\"))\n",
    "india_1"
   ]
  },
  {
   "cell_type": "code",
   "execution_count": 13,
   "id": "6a664027",
   "metadata": {},
   "outputs": [
    {
     "data": {
      "text/plain": [
       "9.197222222222221"
      ]
     },
     "execution_count": 13,
     "metadata": {},
     "output_type": "execute_result"
    }
   ],
   "source": [
    "#summary statistics\n",
    "np.average(india.column(\"2018-2019 Unemployment Rate (%)\"))"
   ]
  },
  {
   "cell_type": "code",
   "execution_count": 14,
   "id": "2136ce86",
   "metadata": {},
   "outputs": [
    {
     "data": {
      "text/plain": [
       "4.927445028224348"
      ]
     },
     "execution_count": 14,
     "metadata": {},
     "output_type": "execute_result"
    }
   ],
   "source": [
    "np.std(india.column(\"2018-2019 Unemployment Rate (%)\"))"
   ]
  },
  {
   "cell_type": "code",
   "execution_count": 15,
   "id": "a7a137ac",
   "metadata": {},
   "outputs": [
    {
     "data": {
      "text/plain": [
       "28.6"
      ]
     },
     "execution_count": 15,
     "metadata": {},
     "output_type": "execute_result"
    }
   ],
   "source": [
    "max(india.column(\"2018-2019 Unemployment Rate (%)\"))"
   ]
  },
  {
   "cell_type": "code",
   "execution_count": 16,
   "id": "20ff1b6a",
   "metadata": {},
   "outputs": [
    {
     "data": {
      "text/plain": [
       "0.0"
      ]
     },
     "execution_count": 16,
     "metadata": {},
     "output_type": "execute_result"
    }
   ],
   "source": [
    "min(india.column(\"2018-2019 Unemployment Rate (%)\"))"
   ]
  },
  {
   "cell_type": "code",
   "execution_count": 17,
   "id": "1c92aa25",
   "metadata": {},
   "outputs": [
    {
     "data": {
      "text/plain": [
       "9.197222222222221"
      ]
     },
     "execution_count": 17,
     "metadata": {},
     "output_type": "execute_result"
    }
   ],
   "source": [
    "np.median(np.average(india.column(\"2018-2019 Unemployment Rate (%)\")))"
   ]
  },
  {
   "cell_type": "code",
   "execution_count": 18,
   "id": "60a8305c",
   "metadata": {},
   "outputs": [],
   "source": [
    "#widgets"
   ]
  }
 ],
 "metadata": {
  "kernelspec": {
   "display_name": "Python 3",
   "language": "python",
   "name": "python3"
  },
  "language_info": {
   "codemirror_mode": {
    "name": "ipython",
    "version": 3
   },
   "file_extension": ".py",
   "mimetype": "text/x-python",
   "name": "python",
   "nbconvert_exporter": "python",
   "pygments_lexer": "ipython3",
   "version": "3.8.8"
  }
 },
 "nbformat": 4,
 "nbformat_minor": 5
}
