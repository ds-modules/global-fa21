version https://git-lfs.github.com/spec/v1
oid sha256:effe3c8a86b32e83c9dddf19f5f6f8b9d185f009292d6da27a7db292dfe6d24a
size 27733563
