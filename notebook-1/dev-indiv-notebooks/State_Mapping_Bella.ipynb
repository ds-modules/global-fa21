version https://git-lfs.github.com/spec/v1
oid sha256:76f92261c06b15b9bd0ea9bc4361132e21638454c898ea3db5eb6659cbb581b3
size 27688092
