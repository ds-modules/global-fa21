version https://git-lfs.github.com/spec/v1
oid sha256:1900840298285eb8f04293ecc5cb8914f4ba9c1eb353ee936cbc416fad57b9d1
size 27714253
