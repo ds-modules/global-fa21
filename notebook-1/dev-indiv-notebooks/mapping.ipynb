{
 "cells": [
  {
   "cell_type": "code",
   "execution_count": 1,
   "id": "eba9dfab",
   "metadata": {},
   "outputs": [
    {
     "name": "stdout",
     "output_type": "stream",
     "text": [
      "Requirement already satisfied: folium in /opt/anaconda3/lib/python3.8/site-packages (0.12.1)\n",
      "Requirement already satisfied: branca>=0.3.0 in /opt/anaconda3/lib/python3.8/site-packages (from folium) (0.4.2)\n",
      "Requirement already satisfied: requests in /opt/anaconda3/lib/python3.8/site-packages (from folium) (2.25.1)\n",
      "Requirement already satisfied: numpy in /opt/anaconda3/lib/python3.8/site-packages (from folium) (1.20.1)\n",
      "Requirement already satisfied: jinja2>=2.9 in /opt/anaconda3/lib/python3.8/site-packages (from folium) (2.11.3)\n",
      "Requirement already satisfied: MarkupSafe>=0.23 in /opt/anaconda3/lib/python3.8/site-packages (from jinja2>=2.9->folium) (1.1.1)\n",
      "Requirement already satisfied: urllib3<1.27,>=1.21.1 in /opt/anaconda3/lib/python3.8/site-packages (from requests->folium) (1.26.4)\n",
      "Requirement already satisfied: idna<3,>=2.5 in /opt/anaconda3/lib/python3.8/site-packages (from requests->folium) (2.10)\n",
      "Requirement already satisfied: chardet<5,>=3.0.2 in /opt/anaconda3/lib/python3.8/site-packages (from requests->folium) (4.0.0)\n",
      "Requirement already satisfied: certifi>=2017.4.17 in /opt/anaconda3/lib/python3.8/site-packages (from requests->folium) (2020.12.5)\n",
      "Note: you may need to restart the kernel to use updated packages.\n"
     ]
    }
   ],
   "source": [
    "pip install folium "
   ]
  },
  {
   "cell_type": "code",
   "execution_count": 48,
   "id": "ecfccbb8",
   "metadata": {},
   "outputs": [],
   "source": [
    "import folium\n",
    "import pandas as pd \n",
    "import numpy as np\n",
    "from datascience import *\n",
    "import json"
   ]
  },
  {
   "cell_type": "code",
   "execution_count": 20,
   "id": "63628d5a",
   "metadata": {},
   "outputs": [
    {
     "data": {
      "text/html": [
       "<table border=\"1\" class=\"dataframe\">\n",
       "    <thead>\n",
       "        <tr>\n",
       "            <th>City</th> <th>2017</th> <th>2018</th> <th>2019</th> <th>Percentage City Share to Total (2019)</th> <th>Actual Population (in Lakhs) (2011)</th> <th>Rate of Total Crime Against Women\n",
       "(2019)+</th>\n",
       "        </tr>\n",
       "    </thead>\n",
       "    <tbody>\n",
       "        <tr>\n",
       "            <td>Ahmedabad\n",
       "(Gujarat)      </td> <td>1405 </td> <td>1416 </td> <td>1633 </td> <td>3.6                                  </td> <td>30                                 </td> <td>54.4                                     </td>\n",
       "        </tr>\n",
       "        <tr>\n",
       "            <td>Bengaluru\n",
       "(Karnataka)    </td> <td>3565 </td> <td>3427 </td> <td>3486 </td> <td>7.7                                  </td> <td>40.6                               </td> <td>85.9                                     </td>\n",
       "        </tr>\n",
       "        <tr>\n",
       "            <td>Chennai\n",
       "(Tamil Nadu)     </td> <td>642  </td> <td>761  </td> <td>729  </td> <td>1.6                                  </td> <td>43.1                               </td> <td>16.9                                     </td>\n",
       "        </tr>\n",
       "        <tr>\n",
       "            <td>Coimbatore\n",
       "(Tamil Nadu)  </td> <td>76   </td> <td>107  </td> <td>85   </td> <td>0.2                                  </td> <td>10.7                               </td> <td>7.9                                      </td>\n",
       "        </tr>\n",
       "        <tr>\n",
       "            <td>Delhi                    </td> <td>11542</td> <td>11724</td> <td>12902</td> <td>28.4                                 </td> <td>75.8                               </td> <td>170.3                                    </td>\n",
       "        </tr>\n",
       "        <tr>\n",
       "            <td>Ghaziabad\n",
       "(Uttar Pradesh)</td> <td>1166 </td> <td>1128 </td> <td>793  </td> <td>1.7                                  </td> <td>11                                 </td> <td>72                                       </td>\n",
       "        </tr>\n",
       "        <tr>\n",
       "            <td>Hyderabad\n",
       "(Telangana)    </td> <td>2272 </td> <td>2332 </td> <td>2755 </td> <td>6.1                                  </td> <td>37.6                               </td> <td>73.2                                     </td>\n",
       "        </tr>\n",
       "        <tr>\n",
       "            <td>Indore\n",
       "(Madhya Pradesh)  </td> <td>1349 </td> <td>1593 </td> <td>1755 </td> <td>3.9                                  </td> <td>10.4                               </td> <td>169.1                                    </td>\n",
       "        </tr>\n",
       "        <tr>\n",
       "            <td>Jaipur\n",
       "(Rajasthan)       </td> <td>1857 </td> <td>2030 </td> <td>3417 </td> <td>7.5                                  </td> <td>14.5                               </td> <td>235                                      </td>\n",
       "        </tr>\n",
       "        <tr>\n",
       "            <td>Kanpur\n",
       "(Uttar Pradesh)   </td> <td>1574 </td> <td>1574 </td> <td>1315 </td> <td>2.9                                  </td> <td>13.4                               </td> <td>98.5                                     </td>\n",
       "        </tr>\n",
       "    </tbody>\n",
       "</table>\n",
       "<p>... (9 rows omitted)</p>"
      ],
      "text/plain": [
       "City                      | 2017  | 2018  | 2019  | Percentage City Share to Total (2019) | Actual Population (in Lakhs) (2011) | Rate of Total Crime Against Women\n",
       "(2019)+\n",
       "Ahmedabad\n",
       "(Gujarat)       | 1405  | 1416  | 1633  | 3.6                                   | 30                                  | 54.4\n",
       "Bengaluru\n",
       "(Karnataka)     | 3565  | 3427  | 3486  | 7.7                                   | 40.6                                | 85.9\n",
       "Chennai\n",
       "(Tamil Nadu)      | 642   | 761   | 729   | 1.6                                   | 43.1                                | 16.9\n",
       "Coimbatore\n",
       "(Tamil Nadu)   | 76    | 107   | 85    | 0.2                                   | 10.7                                | 7.9\n",
       "Delhi                     | 11542 | 11724 | 12902 | 28.4                                  | 75.8                                | 170.3\n",
       "Ghaziabad\n",
       "(Uttar Pradesh) | 1166  | 1128  | 793   | 1.7                                   | 11                                  | 72\n",
       "Hyderabad\n",
       "(Telangana)     | 2272  | 2332  | 2755  | 6.1                                   | 37.6                                | 73.2\n",
       "Indore\n",
       "(Madhya Pradesh)   | 1349  | 1593  | 1755  | 3.9                                   | 10.4                                | 169.1\n",
       "Jaipur\n",
       "(Rajasthan)        | 1857  | 2030  | 3417  | 7.5                                   | 14.5                                | 235\n",
       "Kanpur\n",
       "(Uttar Pradesh)    | 1574  | 1574  | 1315  | 2.9                                   | 13.4                                | 98.5\n",
       "... (9 rows omitted)"
      ]
     },
     "execution_count": 20,
     "metadata": {},
     "output_type": "execute_result"
    }
   ],
   "source": [
    "cities_data = Table.read_table(\"/Users/bellachang/Desktop/DATA 198/global-fa21/data/Table 3B.1_3.csv\")\n",
    "cities_data"
   ]
  },
  {
   "cell_type": "code",
   "execution_count": 25,
   "id": "e9fa4b0f",
   "metadata": {},
   "outputs": [
    {
     "data": {
      "text/html": [
       "<div style=\"width:100%;\"><div style=\"position:relative;width:100%;height:0;padding-bottom:60%;\"><span style=\"color:#565656\">Make this Notebook Trusted to load map: File -> Trust Notebook</span><iframe src=\"about:blank\" style=\"position:absolute;width:100%;height:100%;left:0;top:0;border:none !important;\" data-html=%3C%21DOCTYPE%20html%3E%0A%3Chead%3E%20%20%20%20%0A%20%20%20%20%3Cmeta%20http-equiv%3D%22content-type%22%20content%3D%22text/html%3B%20charset%3DUTF-8%22%20/%3E%0A%20%20%20%20%0A%20%20%20%20%20%20%20%20%3Cscript%3E%0A%20%20%20%20%20%20%20%20%20%20%20%20L_NO_TOUCH%20%3D%20false%3B%0A%20%20%20%20%20%20%20%20%20%20%20%20L_DISABLE_3D%20%3D%20false%3B%0A%20%20%20%20%20%20%20%20%3C/script%3E%0A%20%20%20%20%0A%20%20%20%20%3Cstyle%3Ehtml%2C%20body%20%7Bwidth%3A%20100%25%3Bheight%3A%20100%25%3Bmargin%3A%200%3Bpadding%3A%200%3B%7D%3C/style%3E%0A%20%20%20%20%3Cstyle%3E%23map%20%7Bposition%3Aabsolute%3Btop%3A0%3Bbottom%3A0%3Bright%3A0%3Bleft%3A0%3B%7D%3C/style%3E%0A%20%20%20%20%3Cscript%20src%3D%22https%3A//cdn.jsdelivr.net/npm/leaflet%401.6.0/dist/leaflet.js%22%3E%3C/script%3E%0A%20%20%20%20%3Cscript%20src%3D%22https%3A//code.jquery.com/jquery-1.12.4.min.js%22%3E%3C/script%3E%0A%20%20%20%20%3Cscript%20src%3D%22https%3A//maxcdn.bootstrapcdn.com/bootstrap/3.2.0/js/bootstrap.min.js%22%3E%3C/script%3E%0A%20%20%20%20%3Cscript%20src%3D%22https%3A//cdnjs.cloudflare.com/ajax/libs/Leaflet.awesome-markers/2.0.2/leaflet.awesome-markers.js%22%3E%3C/script%3E%0A%20%20%20%20%3Clink%20rel%3D%22stylesheet%22%20href%3D%22https%3A//cdn.jsdelivr.net/npm/leaflet%401.6.0/dist/leaflet.css%22/%3E%0A%20%20%20%20%3Clink%20rel%3D%22stylesheet%22%20href%3D%22https%3A//maxcdn.bootstrapcdn.com/bootstrap/3.2.0/css/bootstrap.min.css%22/%3E%0A%20%20%20%20%3Clink%20rel%3D%22stylesheet%22%20href%3D%22https%3A//maxcdn.bootstrapcdn.com/bootstrap/3.2.0/css/bootstrap-theme.min.css%22/%3E%0A%20%20%20%20%3Clink%20rel%3D%22stylesheet%22%20href%3D%22https%3A//maxcdn.bootstrapcdn.com/font-awesome/4.6.3/css/font-awesome.min.css%22/%3E%0A%20%20%20%20%3Clink%20rel%3D%22stylesheet%22%20href%3D%22https%3A//cdnjs.cloudflare.com/ajax/libs/Leaflet.awesome-markers/2.0.2/leaflet.awesome-markers.css%22/%3E%0A%20%20%20%20%3Clink%20rel%3D%22stylesheet%22%20href%3D%22https%3A//cdn.jsdelivr.net/gh/python-visualization/folium/folium/templates/leaflet.awesome.rotate.min.css%22/%3E%0A%20%20%20%20%0A%20%20%20%20%20%20%20%20%20%20%20%20%3Cmeta%20name%3D%22viewport%22%20content%3D%22width%3Ddevice-width%2C%0A%20%20%20%20%20%20%20%20%20%20%20%20%20%20%20%20initial-scale%3D1.0%2C%20maximum-scale%3D1.0%2C%20user-scalable%3Dno%22%20/%3E%0A%20%20%20%20%20%20%20%20%20%20%20%20%3Cstyle%3E%0A%20%20%20%20%20%20%20%20%20%20%20%20%20%20%20%20%23map_8ff7652919ed4d208ac77357beeadcdb%20%7B%0A%20%20%20%20%20%20%20%20%20%20%20%20%20%20%20%20%20%20%20%20position%3A%20relative%3B%0A%20%20%20%20%20%20%20%20%20%20%20%20%20%20%20%20%20%20%20%20width%3A%20100.0%25%3B%0A%20%20%20%20%20%20%20%20%20%20%20%20%20%20%20%20%20%20%20%20height%3A%20100.0%25%3B%0A%20%20%20%20%20%20%20%20%20%20%20%20%20%20%20%20%20%20%20%20left%3A%200.0%25%3B%0A%20%20%20%20%20%20%20%20%20%20%20%20%20%20%20%20%20%20%20%20top%3A%200.0%25%3B%0A%20%20%20%20%20%20%20%20%20%20%20%20%20%20%20%20%7D%0A%20%20%20%20%20%20%20%20%20%20%20%20%3C/style%3E%0A%20%20%20%20%20%20%20%20%0A%3C/head%3E%0A%3Cbody%3E%20%20%20%20%0A%20%20%20%20%0A%20%20%20%20%20%20%20%20%20%20%20%20%3Cdiv%20class%3D%22folium-map%22%20id%3D%22map_8ff7652919ed4d208ac77357beeadcdb%22%20%3E%3C/div%3E%0A%20%20%20%20%20%20%20%20%0A%3C/body%3E%0A%3Cscript%3E%20%20%20%20%0A%20%20%20%20%0A%20%20%20%20%20%20%20%20%20%20%20%20var%20map_8ff7652919ed4d208ac77357beeadcdb%20%3D%20L.map%28%0A%20%20%20%20%20%20%20%20%20%20%20%20%20%20%20%20%22map_8ff7652919ed4d208ac77357beeadcdb%22%2C%0A%20%20%20%20%20%20%20%20%20%20%20%20%20%20%20%20%7B%0A%20%20%20%20%20%20%20%20%20%20%20%20%20%20%20%20%20%20%20%20center%3A%20%5B28.7041%2C%2077.1025%5D%2C%0A%20%20%20%20%20%20%20%20%20%20%20%20%20%20%20%20%20%20%20%20crs%3A%20L.CRS.EPSG3857%2C%0A%20%20%20%20%20%20%20%20%20%20%20%20%20%20%20%20%20%20%20%20zoom%3A%2010%2C%0A%20%20%20%20%20%20%20%20%20%20%20%20%20%20%20%20%20%20%20%20zoomControl%3A%20true%2C%0A%20%20%20%20%20%20%20%20%20%20%20%20%20%20%20%20%20%20%20%20preferCanvas%3A%20false%2C%0A%20%20%20%20%20%20%20%20%20%20%20%20%20%20%20%20%7D%0A%20%20%20%20%20%20%20%20%20%20%20%20%29%3B%0A%0A%20%20%20%20%20%20%20%20%20%20%20%20%0A%0A%20%20%20%20%20%20%20%20%0A%20%20%20%20%0A%20%20%20%20%20%20%20%20%20%20%20%20var%20tile_layer_00415d0372e24e4a888a303598ff6fb3%20%3D%20L.tileLayer%28%0A%20%20%20%20%20%20%20%20%20%20%20%20%20%20%20%20%22https%3A//%7Bs%7D.tile.openstreetmap.org/%7Bz%7D/%7Bx%7D/%7By%7D.png%22%2C%0A%20%20%20%20%20%20%20%20%20%20%20%20%20%20%20%20%7B%22attribution%22%3A%20%22Data%20by%20%5Cu0026copy%3B%20%5Cu003ca%20href%3D%5C%22http%3A//openstreetmap.org%5C%22%5Cu003eOpenStreetMap%5Cu003c/a%5Cu003e%2C%20under%20%5Cu003ca%20href%3D%5C%22http%3A//www.openstreetmap.org/copyright%5C%22%5Cu003eODbL%5Cu003c/a%5Cu003e.%22%2C%20%22detectRetina%22%3A%20false%2C%20%22maxNativeZoom%22%3A%2018%2C%20%22maxZoom%22%3A%2018%2C%20%22minZoom%22%3A%200%2C%20%22noWrap%22%3A%20false%2C%20%22opacity%22%3A%201%2C%20%22subdomains%22%3A%20%22abc%22%2C%20%22tms%22%3A%20false%7D%0A%20%20%20%20%20%20%20%20%20%20%20%20%29.addTo%28map_8ff7652919ed4d208ac77357beeadcdb%29%3B%0A%20%20%20%20%20%20%20%20%0A%3C/script%3E onload=\"this.contentDocument.open();this.contentDocument.write(    decodeURIComponent(this.getAttribute('data-html')));this.contentDocument.close();\" allowfullscreen webkitallowfullscreen mozallowfullscreen></iframe></div></div>"
      ],
      "text/plain": [
       "<folium.folium.Map at 0x7ff3636ccd90>"
      ]
     },
     "execution_count": 25,
     "metadata": {},
     "output_type": "execute_result"
    }
   ],
   "source": [
    "delhi_longitude = 28.7041\n",
    "delhi_latitude = 77.1025\n",
    "\n",
    "delhi_map = folium.Map(location=[delhi_longitude, delhi_latitude])\n",
    "delhi_map"
   ]
  },
  {
   "cell_type": "code",
   "execution_count": 24,
   "id": "f29d65b1",
   "metadata": {
    "scrolled": true
   },
   "outputs": [
    {
     "data": {
      "text/html": [
       "<div style=\"width:100%;\"><div style=\"position:relative;width:100%;height:0;padding-bottom:60%;\"><span style=\"color:#565656\">Make this Notebook Trusted to load map: File -> Trust Notebook</span><iframe src=\"about:blank\" style=\"position:absolute;width:100%;height:100%;left:0;top:0;border:none !important;\" data-html=%3C%21DOCTYPE%20html%3E%0A%3Chead%3E%20%20%20%20%0A%20%20%20%20%3Cmeta%20http-equiv%3D%22content-type%22%20content%3D%22text/html%3B%20charset%3DUTF-8%22%20/%3E%0A%20%20%20%20%0A%20%20%20%20%20%20%20%20%3Cscript%3E%0A%20%20%20%20%20%20%20%20%20%20%20%20L_NO_TOUCH%20%3D%20false%3B%0A%20%20%20%20%20%20%20%20%20%20%20%20L_DISABLE_3D%20%3D%20false%3B%0A%20%20%20%20%20%20%20%20%3C/script%3E%0A%20%20%20%20%0A%20%20%20%20%3Cstyle%3Ehtml%2C%20body%20%7Bwidth%3A%20100%25%3Bheight%3A%20100%25%3Bmargin%3A%200%3Bpadding%3A%200%3B%7D%3C/style%3E%0A%20%20%20%20%3Cstyle%3E%23map%20%7Bposition%3Aabsolute%3Btop%3A0%3Bbottom%3A0%3Bright%3A0%3Bleft%3A0%3B%7D%3C/style%3E%0A%20%20%20%20%3Cscript%20src%3D%22https%3A//cdn.jsdelivr.net/npm/leaflet%401.6.0/dist/leaflet.js%22%3E%3C/script%3E%0A%20%20%20%20%3Cscript%20src%3D%22https%3A//code.jquery.com/jquery-1.12.4.min.js%22%3E%3C/script%3E%0A%20%20%20%20%3Cscript%20src%3D%22https%3A//maxcdn.bootstrapcdn.com/bootstrap/3.2.0/js/bootstrap.min.js%22%3E%3C/script%3E%0A%20%20%20%20%3Cscript%20src%3D%22https%3A//cdnjs.cloudflare.com/ajax/libs/Leaflet.awesome-markers/2.0.2/leaflet.awesome-markers.js%22%3E%3C/script%3E%0A%20%20%20%20%3Clink%20rel%3D%22stylesheet%22%20href%3D%22https%3A//cdn.jsdelivr.net/npm/leaflet%401.6.0/dist/leaflet.css%22/%3E%0A%20%20%20%20%3Clink%20rel%3D%22stylesheet%22%20href%3D%22https%3A//maxcdn.bootstrapcdn.com/bootstrap/3.2.0/css/bootstrap.min.css%22/%3E%0A%20%20%20%20%3Clink%20rel%3D%22stylesheet%22%20href%3D%22https%3A//maxcdn.bootstrapcdn.com/bootstrap/3.2.0/css/bootstrap-theme.min.css%22/%3E%0A%20%20%20%20%3Clink%20rel%3D%22stylesheet%22%20href%3D%22https%3A//maxcdn.bootstrapcdn.com/font-awesome/4.6.3/css/font-awesome.min.css%22/%3E%0A%20%20%20%20%3Clink%20rel%3D%22stylesheet%22%20href%3D%22https%3A//cdnjs.cloudflare.com/ajax/libs/Leaflet.awesome-markers/2.0.2/leaflet.awesome-markers.css%22/%3E%0A%20%20%20%20%3Clink%20rel%3D%22stylesheet%22%20href%3D%22https%3A//cdn.jsdelivr.net/gh/python-visualization/folium/folium/templates/leaflet.awesome.rotate.min.css%22/%3E%0A%20%20%20%20%0A%20%20%20%20%20%20%20%20%20%20%20%20%3Cmeta%20name%3D%22viewport%22%20content%3D%22width%3Ddevice-width%2C%0A%20%20%20%20%20%20%20%20%20%20%20%20%20%20%20%20initial-scale%3D1.0%2C%20maximum-scale%3D1.0%2C%20user-scalable%3Dno%22%20/%3E%0A%20%20%20%20%20%20%20%20%20%20%20%20%3Cstyle%3E%0A%20%20%20%20%20%20%20%20%20%20%20%20%20%20%20%20%23map_90a37cce56114164a840ec5cf9a08514%20%7B%0A%20%20%20%20%20%20%20%20%20%20%20%20%20%20%20%20%20%20%20%20position%3A%20relative%3B%0A%20%20%20%20%20%20%20%20%20%20%20%20%20%20%20%20%20%20%20%20width%3A%20100.0%25%3B%0A%20%20%20%20%20%20%20%20%20%20%20%20%20%20%20%20%20%20%20%20height%3A%20100.0%25%3B%0A%20%20%20%20%20%20%20%20%20%20%20%20%20%20%20%20%20%20%20%20left%3A%200.0%25%3B%0A%20%20%20%20%20%20%20%20%20%20%20%20%20%20%20%20%20%20%20%20top%3A%200.0%25%3B%0A%20%20%20%20%20%20%20%20%20%20%20%20%20%20%20%20%7D%0A%20%20%20%20%20%20%20%20%20%20%20%20%3C/style%3E%0A%20%20%20%20%20%20%20%20%0A%3C/head%3E%0A%3Cbody%3E%20%20%20%20%0A%20%20%20%20%0A%20%20%20%20%20%20%20%20%20%20%20%20%3Cdiv%20class%3D%22folium-map%22%20id%3D%22map_90a37cce56114164a840ec5cf9a08514%22%20%3E%3C/div%3E%0A%20%20%20%20%20%20%20%20%0A%3C/body%3E%0A%3Cscript%3E%20%20%20%20%0A%20%20%20%20%0A%20%20%20%20%20%20%20%20%20%20%20%20var%20map_90a37cce56114164a840ec5cf9a08514%20%3D%20L.map%28%0A%20%20%20%20%20%20%20%20%20%20%20%20%20%20%20%20%22map_90a37cce56114164a840ec5cf9a08514%22%2C%0A%20%20%20%20%20%20%20%20%20%20%20%20%20%20%20%20%7B%0A%20%20%20%20%20%20%20%20%20%20%20%20%20%20%20%20%20%20%20%20center%3A%20%5B20.5937%2C%2078.9629%5D%2C%0A%20%20%20%20%20%20%20%20%20%20%20%20%20%20%20%20%20%20%20%20crs%3A%20L.CRS.EPSG3857%2C%0A%20%20%20%20%20%20%20%20%20%20%20%20%20%20%20%20%20%20%20%20zoom%3A%2010%2C%0A%20%20%20%20%20%20%20%20%20%20%20%20%20%20%20%20%20%20%20%20zoomControl%3A%20true%2C%0A%20%20%20%20%20%20%20%20%20%20%20%20%20%20%20%20%20%20%20%20preferCanvas%3A%20false%2C%0A%20%20%20%20%20%20%20%20%20%20%20%20%20%20%20%20%7D%0A%20%20%20%20%20%20%20%20%20%20%20%20%29%3B%0A%0A%20%20%20%20%20%20%20%20%20%20%20%20%0A%0A%20%20%20%20%20%20%20%20%0A%20%20%20%20%0A%20%20%20%20%20%20%20%20%20%20%20%20var%20tile_layer_d36a8b41dfbb498b855845d4a3459faa%20%3D%20L.tileLayer%28%0A%20%20%20%20%20%20%20%20%20%20%20%20%20%20%20%20%22https%3A//%7Bs%7D.tile.openstreetmap.org/%7Bz%7D/%7Bx%7D/%7By%7D.png%22%2C%0A%20%20%20%20%20%20%20%20%20%20%20%20%20%20%20%20%7B%22attribution%22%3A%20%22Data%20by%20%5Cu0026copy%3B%20%5Cu003ca%20href%3D%5C%22http%3A//openstreetmap.org%5C%22%5Cu003eOpenStreetMap%5Cu003c/a%5Cu003e%2C%20under%20%5Cu003ca%20href%3D%5C%22http%3A//www.openstreetmap.org/copyright%5C%22%5Cu003eODbL%5Cu003c/a%5Cu003e.%22%2C%20%22detectRetina%22%3A%20false%2C%20%22maxNativeZoom%22%3A%2018%2C%20%22maxZoom%22%3A%2018%2C%20%22minZoom%22%3A%200%2C%20%22noWrap%22%3A%20false%2C%20%22opacity%22%3A%201%2C%20%22subdomains%22%3A%20%22abc%22%2C%20%22tms%22%3A%20false%7D%0A%20%20%20%20%20%20%20%20%20%20%20%20%29.addTo%28map_90a37cce56114164a840ec5cf9a08514%29%3B%0A%20%20%20%20%20%20%20%20%0A%3C/script%3E onload=\"this.contentDocument.open();this.contentDocument.write(    decodeURIComponent(this.getAttribute('data-html')));this.contentDocument.close();\" allowfullscreen webkitallowfullscreen mozallowfullscreen></iframe></div></div>"
      ],
      "text/plain": [
       "<folium.folium.Map at 0x7ff3636cc430>"
      ]
     },
     "execution_count": 24,
     "metadata": {},
     "output_type": "execute_result"
    }
   ],
   "source": [
    "india_longitude = 20.5937\n",
    "india_latitude = 78.9629\n",
    "\n",
    "india_map = folium.Map(location=[india_longitude, india_latitude])\n",
    "india_map"
   ]
  },
  {
   "cell_type": "code",
   "execution_count": 28,
   "id": "5a52329e",
   "metadata": {},
   "outputs": [
    {
     "data": {
      "text/html": [
       "<table border=\"1\" class=\"dataframe\">\n",
       "    <thead>\n",
       "        <tr>\n",
       "            <th>City</th> <th>Latitude (N)</th> <th>Longitude (E)</th>\n",
       "        </tr>\n",
       "    </thead>\n",
       "    <tbody>\n",
       "        <tr>\n",
       "            <td>Ahmedabad\n",
       "(Gujarat)      </td> <td>23.0225     </td> <td>72.5714      </td>\n",
       "        </tr>\n",
       "        <tr>\n",
       "            <td>Bengaluru\n",
       "(Karnataka)    </td> <td>12.9716     </td> <td>77.5946      </td>\n",
       "        </tr>\n",
       "        <tr>\n",
       "            <td>Chennai\n",
       "(Tamil Nadu)     </td> <td>13.0827     </td> <td>80.2707      </td>\n",
       "        </tr>\n",
       "        <tr>\n",
       "            <td>Coimbatore\n",
       "(Tamil Nadu)  </td> <td>11.0168     </td> <td>76.9558      </td>\n",
       "        </tr>\n",
       "        <tr>\n",
       "            <td>Delhi                    </td> <td>28.7041     </td> <td>77.1025      </td>\n",
       "        </tr>\n",
       "        <tr>\n",
       "            <td>Ghaziabad\n",
       "(Uttar Pradesh)</td> <td>28.6692     </td> <td>77.4538      </td>\n",
       "        </tr>\n",
       "        <tr>\n",
       "            <td>Hyderabad\n",
       "(Telangana)    </td> <td>17.385      </td> <td>78.4867      </td>\n",
       "        </tr>\n",
       "        <tr>\n",
       "            <td>Indore\n",
       "(Madhya Pradesh)  </td> <td>22.7196     </td> <td>75.8577      </td>\n",
       "        </tr>\n",
       "        <tr>\n",
       "            <td>Jaipur\n",
       "(Rajasthan)       </td> <td>26.9124     </td> <td>75.7873      </td>\n",
       "        </tr>\n",
       "        <tr>\n",
       "            <td>Kanpur\n",
       "(Uttar Pradesh)   </td> <td>26.4499     </td> <td>80.3319      </td>\n",
       "        </tr>\n",
       "    </tbody>\n",
       "</table>\n",
       "<p>... (9 rows omitted)</p>"
      ],
      "text/plain": [
       "City                      | Latitude (N) | Longitude (E)\n",
       "Ahmedabad\n",
       "(Gujarat)       | 23.0225      | 72.5714\n",
       "Bengaluru\n",
       "(Karnataka)     | 12.9716      | 77.5946\n",
       "Chennai\n",
       "(Tamil Nadu)      | 13.0827      | 80.2707\n",
       "Coimbatore\n",
       "(Tamil Nadu)   | 11.0168      | 76.9558\n",
       "Delhi                     | 28.7041      | 77.1025\n",
       "Ghaziabad\n",
       "(Uttar Pradesh) | 28.6692      | 77.4538\n",
       "Hyderabad\n",
       "(Telangana)     | 17.385       | 78.4867\n",
       "Indore\n",
       "(Madhya Pradesh)   | 22.7196      | 75.8577\n",
       "Jaipur\n",
       "(Rajasthan)        | 26.9124      | 75.7873\n",
       "Kanpur\n",
       "(Uttar Pradesh)    | 26.4499      | 80.3319\n",
       "... (9 rows omitted)"
      ]
     },
     "execution_count": 28,
     "metadata": {},
     "output_type": "execute_result"
    }
   ],
   "source": [
    "cities_locations = Table.read_table(\"/Users/bellachang/Desktop/DATA 198/global-fa21/data/Cities Location.csv\")\n",
    "cities_locations"
   ]
  },
  {
   "cell_type": "code",
   "execution_count": null,
   "id": "88001ec7",
   "metadata": {},
   "outputs": [],
   "source": [
    "data_url = (\n",
    "    \"https://github.com/ds-modules/global-fa21/tree/main/data\"\n",
    ")\n"
   ]
  }
 ],
 "metadata": {
  "kernelspec": {
   "display_name": "Python 3",
   "language": "python",
   "name": "python3"
  },
  "language_info": {
   "codemirror_mode": {
    "name": "ipython",
    "version": 3
   },
   "file_extension": ".py",
   "mimetype": "text/x-python",
   "name": "python",
   "nbconvert_exporter": "python",
   "pygments_lexer": "ipython3",
   "version": "3.8.8"
  }
 },
 "nbformat": 4,
 "nbformat_minor": 5
}
