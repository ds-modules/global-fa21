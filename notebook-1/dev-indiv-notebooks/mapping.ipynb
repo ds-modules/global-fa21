{
 "cells": [
  {
   "cell_type": "code",
   "execution_count": null,
   "id": "1079a4ef",
   "metadata": {},
   "outputs": [],
   "source": [
    "pip install folium"
   ]
  },
  {
   "cell_type": "code",
   "execution_count": null,
   "id": "df81e16c",
   "metadata": {},
   "outputs": [],
   "source": [
    "pip install geopandas"
   ]
  },
  {
   "cell_type": "code",
   "execution_count": 1,
   "id": "ecfccbb8",
   "metadata": {},
   "outputs": [],
   "source": [
    "import folium\n",
    "import pandas as pd \n",
    "import numpy as np\n",
    "from datascience import *\n",
    "import json\n",
    "import geopandas"
   ]
  },
  {
   "cell_type": "code",
   "execution_count": 3,
   "id": "63628d5a",
   "metadata": {},
   "outputs": [
    {
     "data": {
      "text/html": [
       "<table border=\"1\" class=\"dataframe\">\n",
       "    <thead>\n",
       "        <tr>\n",
       "            <th>City</th> <th>2017</th> <th>2018</th> <th>2019</th> <th>Percentage City Share to Total (2019)</th> <th>Actual Population (in Lakhs) (2011)</th> <th>Rate of Total Crime Against Women\n",
       "(2019)+</th>\n",
       "        </tr>\n",
       "    </thead>\n",
       "    <tbody>\n",
       "        <tr>\n",
       "            <td>Ahmedabad\n",
       "(Gujarat)      </td> <td>1405 </td> <td>1416 </td> <td>1633 </td> <td>3.6                                  </td> <td>30                                 </td> <td>54.4                                     </td>\n",
       "        </tr>\n",
       "        <tr>\n",
       "            <td>Bengaluru\n",
       "(Karnataka)    </td> <td>3565 </td> <td>3427 </td> <td>3486 </td> <td>7.7                                  </td> <td>40.6                               </td> <td>85.9                                     </td>\n",
       "        </tr>\n",
       "        <tr>\n",
       "            <td>Chennai\n",
       "(Tamil Nadu)     </td> <td>642  </td> <td>761  </td> <td>729  </td> <td>1.6                                  </td> <td>43.1                               </td> <td>16.9                                     </td>\n",
       "        </tr>\n",
       "        <tr>\n",
       "            <td>Coimbatore\n",
       "(Tamil Nadu)  </td> <td>76   </td> <td>107  </td> <td>85   </td> <td>0.2                                  </td> <td>10.7                               </td> <td>7.9                                      </td>\n",
       "        </tr>\n",
       "        <tr>\n",
       "            <td>Delhi                    </td> <td>11542</td> <td>11724</td> <td>12902</td> <td>28.4                                 </td> <td>75.8                               </td> <td>170.3                                    </td>\n",
       "        </tr>\n",
       "        <tr>\n",
       "            <td>Ghaziabad\n",
       "(Uttar Pradesh)</td> <td>1166 </td> <td>1128 </td> <td>793  </td> <td>1.7                                  </td> <td>11                                 </td> <td>72                                       </td>\n",
       "        </tr>\n",
       "        <tr>\n",
       "            <td>Hyderabad\n",
       "(Telangana)    </td> <td>2272 </td> <td>2332 </td> <td>2755 </td> <td>6.1                                  </td> <td>37.6                               </td> <td>73.2                                     </td>\n",
       "        </tr>\n",
       "        <tr>\n",
       "            <td>Indore\n",
       "(Madhya Pradesh)  </td> <td>1349 </td> <td>1593 </td> <td>1755 </td> <td>3.9                                  </td> <td>10.4                               </td> <td>169.1                                    </td>\n",
       "        </tr>\n",
       "        <tr>\n",
       "            <td>Jaipur\n",
       "(Rajasthan)       </td> <td>1857 </td> <td>2030 </td> <td>3417 </td> <td>7.5                                  </td> <td>14.5                               </td> <td>235                                      </td>\n",
       "        </tr>\n",
       "        <tr>\n",
       "            <td>Kanpur\n",
       "(Uttar Pradesh)   </td> <td>1574 </td> <td>1574 </td> <td>1315 </td> <td>2.9                                  </td> <td>13.4                               </td> <td>98.5                                     </td>\n",
       "        </tr>\n",
       "    </tbody>\n",
       "</table>\n",
       "<p>... (9 rows omitted)</p>"
      ],
      "text/plain": [
       "City                      | 2017  | 2018  | 2019  | Percentage City Share to Total (2019) | Actual Population (in Lakhs) (2011) | Rate of Total Crime Against Women\n",
       "(2019)+\n",
       "Ahmedabad\n",
       "(Gujarat)       | 1405  | 1416  | 1633  | 3.6                                   | 30                                  | 54.4\n",
       "Bengaluru\n",
       "(Karnataka)     | 3565  | 3427  | 3486  | 7.7                                   | 40.6                                | 85.9\n",
       "Chennai\n",
       "(Tamil Nadu)      | 642   | 761   | 729   | 1.6                                   | 43.1                                | 16.9\n",
       "Coimbatore\n",
       "(Tamil Nadu)   | 76    | 107   | 85    | 0.2                                   | 10.7                                | 7.9\n",
       "Delhi                     | 11542 | 11724 | 12902 | 28.4                                  | 75.8                                | 170.3\n",
       "Ghaziabad\n",
       "(Uttar Pradesh) | 1166  | 1128  | 793   | 1.7                                   | 11                                  | 72\n",
       "Hyderabad\n",
       "(Telangana)     | 2272  | 2332  | 2755  | 6.1                                   | 37.6                                | 73.2\n",
       "Indore\n",
       "(Madhya Pradesh)   | 1349  | 1593  | 1755  | 3.9                                   | 10.4                                | 169.1\n",
       "Jaipur\n",
       "(Rajasthan)        | 1857  | 2030  | 3417  | 7.5                                   | 14.5                                | 235\n",
       "Kanpur\n",
       "(Uttar Pradesh)    | 1574  | 1574  | 1315  | 2.9                                   | 13.4                                | 98.5\n",
       "... (9 rows omitted)"
      ]
     },
     "execution_count": 3,
     "metadata": {},
     "output_type": "execute_result"
    }
   ],
   "source": [
    "cities_data = Table.read_table(\"../../data/Table 3B.1_3.csv\")\n",
    "cities_data"
   ]
  },
  {
   "cell_type": "code",
   "execution_count": 4,
   "id": "e9fa4b0f",
   "metadata": {},
   "outputs": [
    {
     "data": {
      "text/html": [
       "<div style=\"width:100%;\"><div style=\"position:relative;width:100%;height:0;padding-bottom:60%;\"><span style=\"color:#565656\">Make this Notebook Trusted to load map: File -> Trust Notebook</span><iframe src=\"about:blank\" style=\"position:absolute;width:100%;height:100%;left:0;top:0;border:none !important;\" data-html=%3C%21DOCTYPE%20html%3E%0A%3Chead%3E%20%20%20%20%0A%20%20%20%20%3Cmeta%20http-equiv%3D%22content-type%22%20content%3D%22text/html%3B%20charset%3DUTF-8%22%20/%3E%0A%20%20%20%20%0A%20%20%20%20%20%20%20%20%3Cscript%3E%0A%20%20%20%20%20%20%20%20%20%20%20%20L_NO_TOUCH%20%3D%20false%3B%0A%20%20%20%20%20%20%20%20%20%20%20%20L_DISABLE_3D%20%3D%20false%3B%0A%20%20%20%20%20%20%20%20%3C/script%3E%0A%20%20%20%20%0A%20%20%20%20%3Cstyle%3Ehtml%2C%20body%20%7Bwidth%3A%20100%25%3Bheight%3A%20100%25%3Bmargin%3A%200%3Bpadding%3A%200%3B%7D%3C/style%3E%0A%20%20%20%20%3Cstyle%3E%23map%20%7Bposition%3Aabsolute%3Btop%3A0%3Bbottom%3A0%3Bright%3A0%3Bleft%3A0%3B%7D%3C/style%3E%0A%20%20%20%20%3Cscript%20src%3D%22https%3A//cdn.jsdelivr.net/npm/leaflet%401.6.0/dist/leaflet.js%22%3E%3C/script%3E%0A%20%20%20%20%3Cscript%20src%3D%22https%3A//code.jquery.com/jquery-1.12.4.min.js%22%3E%3C/script%3E%0A%20%20%20%20%3Cscript%20src%3D%22https%3A//maxcdn.bootstrapcdn.com/bootstrap/3.2.0/js/bootstrap.min.js%22%3E%3C/script%3E%0A%20%20%20%20%3Cscript%20src%3D%22https%3A//cdnjs.cloudflare.com/ajax/libs/Leaflet.awesome-markers/2.0.2/leaflet.awesome-markers.js%22%3E%3C/script%3E%0A%20%20%20%20%3Clink%20rel%3D%22stylesheet%22%20href%3D%22https%3A//cdn.jsdelivr.net/npm/leaflet%401.6.0/dist/leaflet.css%22/%3E%0A%20%20%20%20%3Clink%20rel%3D%22stylesheet%22%20href%3D%22https%3A//maxcdn.bootstrapcdn.com/bootstrap/3.2.0/css/bootstrap.min.css%22/%3E%0A%20%20%20%20%3Clink%20rel%3D%22stylesheet%22%20href%3D%22https%3A//maxcdn.bootstrapcdn.com/bootstrap/3.2.0/css/bootstrap-theme.min.css%22/%3E%0A%20%20%20%20%3Clink%20rel%3D%22stylesheet%22%20href%3D%22https%3A//maxcdn.bootstrapcdn.com/font-awesome/4.6.3/css/font-awesome.min.css%22/%3E%0A%20%20%20%20%3Clink%20rel%3D%22stylesheet%22%20href%3D%22https%3A//cdnjs.cloudflare.com/ajax/libs/Leaflet.awesome-markers/2.0.2/leaflet.awesome-markers.css%22/%3E%0A%20%20%20%20%3Clink%20rel%3D%22stylesheet%22%20href%3D%22https%3A//cdn.jsdelivr.net/gh/python-visualization/folium/folium/templates/leaflet.awesome.rotate.min.css%22/%3E%0A%20%20%20%20%0A%20%20%20%20%20%20%20%20%20%20%20%20%3Cmeta%20name%3D%22viewport%22%20content%3D%22width%3Ddevice-width%2C%0A%20%20%20%20%20%20%20%20%20%20%20%20%20%20%20%20initial-scale%3D1.0%2C%20maximum-scale%3D1.0%2C%20user-scalable%3Dno%22%20/%3E%0A%20%20%20%20%20%20%20%20%20%20%20%20%3Cstyle%3E%0A%20%20%20%20%20%20%20%20%20%20%20%20%20%20%20%20%23map_8bfc3fcd4c394f56a26a9369ed843438%20%7B%0A%20%20%20%20%20%20%20%20%20%20%20%20%20%20%20%20%20%20%20%20position%3A%20relative%3B%0A%20%20%20%20%20%20%20%20%20%20%20%20%20%20%20%20%20%20%20%20width%3A%20100.0%25%3B%0A%20%20%20%20%20%20%20%20%20%20%20%20%20%20%20%20%20%20%20%20height%3A%20100.0%25%3B%0A%20%20%20%20%20%20%20%20%20%20%20%20%20%20%20%20%20%20%20%20left%3A%200.0%25%3B%0A%20%20%20%20%20%20%20%20%20%20%20%20%20%20%20%20%20%20%20%20top%3A%200.0%25%3B%0A%20%20%20%20%20%20%20%20%20%20%20%20%20%20%20%20%7D%0A%20%20%20%20%20%20%20%20%20%20%20%20%3C/style%3E%0A%20%20%20%20%20%20%20%20%0A%3C/head%3E%0A%3Cbody%3E%20%20%20%20%0A%20%20%20%20%0A%20%20%20%20%20%20%20%20%20%20%20%20%3Cdiv%20class%3D%22folium-map%22%20id%3D%22map_8bfc3fcd4c394f56a26a9369ed843438%22%20%3E%3C/div%3E%0A%20%20%20%20%20%20%20%20%0A%3C/body%3E%0A%3Cscript%3E%20%20%20%20%0A%20%20%20%20%0A%20%20%20%20%20%20%20%20%20%20%20%20var%20map_8bfc3fcd4c394f56a26a9369ed843438%20%3D%20L.map%28%0A%20%20%20%20%20%20%20%20%20%20%20%20%20%20%20%20%22map_8bfc3fcd4c394f56a26a9369ed843438%22%2C%0A%20%20%20%20%20%20%20%20%20%20%20%20%20%20%20%20%7B%0A%20%20%20%20%20%20%20%20%20%20%20%20%20%20%20%20%20%20%20%20center%3A%20%5B28.7041%2C%2077.1025%5D%2C%0A%20%20%20%20%20%20%20%20%20%20%20%20%20%20%20%20%20%20%20%20crs%3A%20L.CRS.EPSG3857%2C%0A%20%20%20%20%20%20%20%20%20%20%20%20%20%20%20%20%20%20%20%20zoom%3A%2010%2C%0A%20%20%20%20%20%20%20%20%20%20%20%20%20%20%20%20%20%20%20%20zoomControl%3A%20true%2C%0A%20%20%20%20%20%20%20%20%20%20%20%20%20%20%20%20%20%20%20%20preferCanvas%3A%20false%2C%0A%20%20%20%20%20%20%20%20%20%20%20%20%20%20%20%20%7D%0A%20%20%20%20%20%20%20%20%20%20%20%20%29%3B%0A%0A%20%20%20%20%20%20%20%20%20%20%20%20%0A%0A%20%20%20%20%20%20%20%20%0A%20%20%20%20%0A%20%20%20%20%20%20%20%20%20%20%20%20var%20tile_layer_4cd8aea4944d4ab2affea64c9ae205d0%20%3D%20L.tileLayer%28%0A%20%20%20%20%20%20%20%20%20%20%20%20%20%20%20%20%22https%3A//%7Bs%7D.tile.openstreetmap.org/%7Bz%7D/%7Bx%7D/%7By%7D.png%22%2C%0A%20%20%20%20%20%20%20%20%20%20%20%20%20%20%20%20%7B%22attribution%22%3A%20%22Data%20by%20%5Cu0026copy%3B%20%5Cu003ca%20href%3D%5C%22http%3A//openstreetmap.org%5C%22%5Cu003eOpenStreetMap%5Cu003c/a%5Cu003e%2C%20under%20%5Cu003ca%20href%3D%5C%22http%3A//www.openstreetmap.org/copyright%5C%22%5Cu003eODbL%5Cu003c/a%5Cu003e.%22%2C%20%22detectRetina%22%3A%20false%2C%20%22maxNativeZoom%22%3A%2018%2C%20%22maxZoom%22%3A%2018%2C%20%22minZoom%22%3A%200%2C%20%22noWrap%22%3A%20false%2C%20%22opacity%22%3A%201%2C%20%22subdomains%22%3A%20%22abc%22%2C%20%22tms%22%3A%20false%7D%0A%20%20%20%20%20%20%20%20%20%20%20%20%29.addTo%28map_8bfc3fcd4c394f56a26a9369ed843438%29%3B%0A%20%20%20%20%20%20%20%20%0A%3C/script%3E onload=\"this.contentDocument.open();this.contentDocument.write(    decodeURIComponent(this.getAttribute('data-html')));this.contentDocument.close();\" allowfullscreen webkitallowfullscreen mozallowfullscreen></iframe></div></div>"
      ],
      "text/plain": [
       "<folium.folium.Map at 0x7ff5aa370850>"
      ]
     },
     "execution_count": 4,
     "metadata": {},
     "output_type": "execute_result"
    }
   ],
   "source": [
    "delhi_longitude = 28.7041\n",
    "delhi_latitude = 77.1025\n",
    "\n",
    "delhi_map = folium.Map(location=[delhi_longitude, delhi_latitude])\n",
    "delhi_map"
   ]
  },
  {
   "cell_type": "code",
   "execution_count": 21,
   "id": "f29d65b1",
   "metadata": {
    "scrolled": true
   },
   "outputs": [
    {
     "data": {
      "text/html": [
       "<div style=\"width:100%;\"><div style=\"position:relative;width:100%;height:0;padding-bottom:60%;\"><span style=\"color:#565656\">Make this Notebook Trusted to load map: File -> Trust Notebook</span><iframe src=\"about:blank\" style=\"position:absolute;width:100%;height:100%;left:0;top:0;border:none !important;\" data-html=%3C%21DOCTYPE%20html%3E%0A%3Chead%3E%20%20%20%20%0A%20%20%20%20%3Cmeta%20http-equiv%3D%22content-type%22%20content%3D%22text/html%3B%20charset%3DUTF-8%22%20/%3E%0A%20%20%20%20%0A%20%20%20%20%20%20%20%20%3Cscript%3E%0A%20%20%20%20%20%20%20%20%20%20%20%20L_NO_TOUCH%20%3D%20false%3B%0A%20%20%20%20%20%20%20%20%20%20%20%20L_DISABLE_3D%20%3D%20false%3B%0A%20%20%20%20%20%20%20%20%3C/script%3E%0A%20%20%20%20%0A%20%20%20%20%3Cstyle%3Ehtml%2C%20body%20%7Bwidth%3A%20100%25%3Bheight%3A%20100%25%3Bmargin%3A%200%3Bpadding%3A%200%3B%7D%3C/style%3E%0A%20%20%20%20%3Cstyle%3E%23map%20%7Bposition%3Aabsolute%3Btop%3A0%3Bbottom%3A0%3Bright%3A0%3Bleft%3A0%3B%7D%3C/style%3E%0A%20%20%20%20%3Cscript%20src%3D%22https%3A//cdn.jsdelivr.net/npm/leaflet%401.6.0/dist/leaflet.js%22%3E%3C/script%3E%0A%20%20%20%20%3Cscript%20src%3D%22https%3A//code.jquery.com/jquery-1.12.4.min.js%22%3E%3C/script%3E%0A%20%20%20%20%3Cscript%20src%3D%22https%3A//maxcdn.bootstrapcdn.com/bootstrap/3.2.0/js/bootstrap.min.js%22%3E%3C/script%3E%0A%20%20%20%20%3Cscript%20src%3D%22https%3A//cdnjs.cloudflare.com/ajax/libs/Leaflet.awesome-markers/2.0.2/leaflet.awesome-markers.js%22%3E%3C/script%3E%0A%20%20%20%20%3Clink%20rel%3D%22stylesheet%22%20href%3D%22https%3A//cdn.jsdelivr.net/npm/leaflet%401.6.0/dist/leaflet.css%22/%3E%0A%20%20%20%20%3Clink%20rel%3D%22stylesheet%22%20href%3D%22https%3A//maxcdn.bootstrapcdn.com/bootstrap/3.2.0/css/bootstrap.min.css%22/%3E%0A%20%20%20%20%3Clink%20rel%3D%22stylesheet%22%20href%3D%22https%3A//maxcdn.bootstrapcdn.com/bootstrap/3.2.0/css/bootstrap-theme.min.css%22/%3E%0A%20%20%20%20%3Clink%20rel%3D%22stylesheet%22%20href%3D%22https%3A//maxcdn.bootstrapcdn.com/font-awesome/4.6.3/css/font-awesome.min.css%22/%3E%0A%20%20%20%20%3Clink%20rel%3D%22stylesheet%22%20href%3D%22https%3A//cdnjs.cloudflare.com/ajax/libs/Leaflet.awesome-markers/2.0.2/leaflet.awesome-markers.css%22/%3E%0A%20%20%20%20%3Clink%20rel%3D%22stylesheet%22%20href%3D%22https%3A//cdn.jsdelivr.net/gh/python-visualization/folium/folium/templates/leaflet.awesome.rotate.min.css%22/%3E%0A%20%20%20%20%0A%20%20%20%20%20%20%20%20%20%20%20%20%3Cmeta%20name%3D%22viewport%22%20content%3D%22width%3Ddevice-width%2C%0A%20%20%20%20%20%20%20%20%20%20%20%20%20%20%20%20initial-scale%3D1.0%2C%20maximum-scale%3D1.0%2C%20user-scalable%3Dno%22%20/%3E%0A%20%20%20%20%20%20%20%20%20%20%20%20%3Cstyle%3E%0A%20%20%20%20%20%20%20%20%20%20%20%20%20%20%20%20%23map_ae4d054e046d4d55bdf040071d119718%20%7B%0A%20%20%20%20%20%20%20%20%20%20%20%20%20%20%20%20%20%20%20%20position%3A%20relative%3B%0A%20%20%20%20%20%20%20%20%20%20%20%20%20%20%20%20%20%20%20%20width%3A%20100.0%25%3B%0A%20%20%20%20%20%20%20%20%20%20%20%20%20%20%20%20%20%20%20%20height%3A%20100.0%25%3B%0A%20%20%20%20%20%20%20%20%20%20%20%20%20%20%20%20%20%20%20%20left%3A%200.0%25%3B%0A%20%20%20%20%20%20%20%20%20%20%20%20%20%20%20%20%20%20%20%20top%3A%200.0%25%3B%0A%20%20%20%20%20%20%20%20%20%20%20%20%20%20%20%20%7D%0A%20%20%20%20%20%20%20%20%20%20%20%20%3C/style%3E%0A%20%20%20%20%20%20%20%20%0A%3C/head%3E%0A%3Cbody%3E%20%20%20%20%0A%20%20%20%20%0A%20%20%20%20%20%20%20%20%20%20%20%20%3Cdiv%20class%3D%22folium-map%22%20id%3D%22map_ae4d054e046d4d55bdf040071d119718%22%20%3E%3C/div%3E%0A%20%20%20%20%20%20%20%20%0A%3C/body%3E%0A%3Cscript%3E%20%20%20%20%0A%20%20%20%20%0A%20%20%20%20%20%20%20%20%20%20%20%20var%20map_ae4d054e046d4d55bdf040071d119718%20%3D%20L.map%28%0A%20%20%20%20%20%20%20%20%20%20%20%20%20%20%20%20%22map_ae4d054e046d4d55bdf040071d119718%22%2C%0A%20%20%20%20%20%20%20%20%20%20%20%20%20%20%20%20%7B%0A%20%20%20%20%20%20%20%20%20%20%20%20%20%20%20%20%20%20%20%20center%3A%20%5B21.7969%2C%2078.8718%5D%2C%0A%20%20%20%20%20%20%20%20%20%20%20%20%20%20%20%20%20%20%20%20crs%3A%20L.CRS.EPSG3857%2C%0A%20%20%20%20%20%20%20%20%20%20%20%20%20%20%20%20%20%20%20%20zoom%3A%204%2C%0A%20%20%20%20%20%20%20%20%20%20%20%20%20%20%20%20%20%20%20%20zoomControl%3A%20true%2C%0A%20%20%20%20%20%20%20%20%20%20%20%20%20%20%20%20%20%20%20%20preferCanvas%3A%20false%2C%0A%20%20%20%20%20%20%20%20%20%20%20%20%20%20%20%20%7D%0A%20%20%20%20%20%20%20%20%20%20%20%20%29%3B%0A%0A%20%20%20%20%20%20%20%20%20%20%20%20%0A%0A%20%20%20%20%20%20%20%20%0A%20%20%20%20%0A%20%20%20%20%20%20%20%20%20%20%20%20var%20tile_layer_6cd7dead714c4d608bf07ccd46d6945f%20%3D%20L.tileLayer%28%0A%20%20%20%20%20%20%20%20%20%20%20%20%20%20%20%20%22https%3A//%7Bs%7D.tile.openstreetmap.org/%7Bz%7D/%7Bx%7D/%7By%7D.png%22%2C%0A%20%20%20%20%20%20%20%20%20%20%20%20%20%20%20%20%7B%22attribution%22%3A%20%22Data%20by%20%5Cu0026copy%3B%20%5Cu003ca%20href%3D%5C%22http%3A//openstreetmap.org%5C%22%5Cu003eOpenStreetMap%5Cu003c/a%5Cu003e%2C%20under%20%5Cu003ca%20href%3D%5C%22http%3A//www.openstreetmap.org/copyright%5C%22%5Cu003eODbL%5Cu003c/a%5Cu003e.%22%2C%20%22detectRetina%22%3A%20false%2C%20%22maxNativeZoom%22%3A%2018%2C%20%22maxZoom%22%3A%2018%2C%20%22minZoom%22%3A%200%2C%20%22noWrap%22%3A%20false%2C%20%22opacity%22%3A%201%2C%20%22subdomains%22%3A%20%22abc%22%2C%20%22tms%22%3A%20false%7D%0A%20%20%20%20%20%20%20%20%20%20%20%20%29.addTo%28map_ae4d054e046d4d55bdf040071d119718%29%3B%0A%20%20%20%20%20%20%20%20%0A%3C/script%3E onload=\"this.contentDocument.open();this.contentDocument.write(    decodeURIComponent(this.getAttribute('data-html')));this.contentDocument.close();\" allowfullscreen webkitallowfullscreen mozallowfullscreen></iframe></div></div>"
      ],
      "text/plain": [
       "<folium.folium.Map at 0x7ff5aa835c10>"
      ]
     },
     "execution_count": 21,
     "metadata": {},
     "output_type": "execute_result"
    }
   ],
   "source": [
    "india_longitude = 21.7969\n",
    "india_latitude = 78.8718\n",
    "\n",
    "india_map = folium.Map(location=[india_longitude, india_latitude], zoom_start = 4)\n",
    "\n",
    "india_map"
   ]
  },
  {
   "cell_type": "code",
   "execution_count": 7,
   "id": "01cb84ad",
   "metadata": {},
   "outputs": [
    {
     "data": {
      "text/html": [
       "<table border=\"1\" class=\"dataframe\">\n",
       "    <thead>\n",
       "        <tr>\n",
       "            <th>City</th> <th>Latitude (N)</th> <th>Longitude (E)</th>\n",
       "        </tr>\n",
       "    </thead>\n",
       "    <tbody>\n",
       "        <tr>\n",
       "            <td>Ahmedabad\n",
       "(Gujarat)      </td> <td>23.0225     </td> <td>72.5714      </td>\n",
       "        </tr>\n",
       "        <tr>\n",
       "            <td>Bengaluru\n",
       "(Karnataka)    </td> <td>12.9716     </td> <td>77.5946      </td>\n",
       "        </tr>\n",
       "        <tr>\n",
       "            <td>Chennai\n",
       "(Tamil Nadu)     </td> <td>13.0827     </td> <td>80.2707      </td>\n",
       "        </tr>\n",
       "        <tr>\n",
       "            <td>Coimbatore\n",
       "(Tamil Nadu)  </td> <td>11.0168     </td> <td>76.9558      </td>\n",
       "        </tr>\n",
       "        <tr>\n",
       "            <td>Delhi                    </td> <td>28.7041     </td> <td>77.1025      </td>\n",
       "        </tr>\n",
       "        <tr>\n",
       "            <td>Ghaziabad\n",
       "(Uttar Pradesh)</td> <td>28.6692     </td> <td>77.4538      </td>\n",
       "        </tr>\n",
       "        <tr>\n",
       "            <td>Hyderabad\n",
       "(Telangana)    </td> <td>17.385      </td> <td>78.4867      </td>\n",
       "        </tr>\n",
       "        <tr>\n",
       "            <td>Indore\n",
       "(Madhya Pradesh)  </td> <td>22.7196     </td> <td>75.8577      </td>\n",
       "        </tr>\n",
       "        <tr>\n",
       "            <td>Jaipur\n",
       "(Rajasthan)       </td> <td>26.9124     </td> <td>75.7873      </td>\n",
       "        </tr>\n",
       "        <tr>\n",
       "            <td>Kanpur\n",
       "(Uttar Pradesh)   </td> <td>26.4499     </td> <td>80.3319      </td>\n",
       "        </tr>\n",
       "    </tbody>\n",
       "</table>\n",
       "<p>... (9 rows omitted)</p>"
      ],
      "text/plain": [
       "City                      | Latitude (N) | Longitude (E)\n",
       "Ahmedabad\n",
       "(Gujarat)       | 23.0225      | 72.5714\n",
       "Bengaluru\n",
       "(Karnataka)     | 12.9716      | 77.5946\n",
       "Chennai\n",
       "(Tamil Nadu)      | 13.0827      | 80.2707\n",
       "Coimbatore\n",
       "(Tamil Nadu)   | 11.0168      | 76.9558\n",
       "Delhi                     | 28.7041      | 77.1025\n",
       "Ghaziabad\n",
       "(Uttar Pradesh) | 28.6692      | 77.4538\n",
       "Hyderabad\n",
       "(Telangana)     | 17.385       | 78.4867\n",
       "Indore\n",
       "(Madhya Pradesh)   | 22.7196      | 75.8577\n",
       "Jaipur\n",
       "(Rajasthan)        | 26.9124      | 75.7873\n",
       "Kanpur\n",
       "(Uttar Pradesh)    | 26.4499      | 80.3319\n",
       "... (9 rows omitted)"
      ]
     },
     "execution_count": 7,
     "metadata": {},
     "output_type": "execute_result"
    }
   ],
   "source": [
    "cities_locations = Table.read_table(\"../../data/Cities Location.csv\")\n",
    "cities_locations"
   ]
  },
  {
   "cell_type": "code",
   "execution_count": 8,
   "id": "d583af71",
   "metadata": {},
   "outputs": [],
   "source": [
    "data_url = (\n",
    "    \"https://github.com/ds-modules/global-fa21/tree/main/data\"\n",
    ")\n",
    "\n",
    "india_geo = f\"{data_url}/Cities Location.json\"\n",
    "india_cities_data = pd.read_csv(\"../../data/Table 3B.1_3.csv\")"
   ]
  },
  {
   "cell_type": "code",
   "execution_count": 20,
   "id": "4357ab4d",
   "metadata": {},
   "outputs": [
    {
     "data": {
      "text/plain": [
       "'https://github.com/ds-modules/global-fa21/tree/main/data/Cities Location.json'"
      ]
     },
     "execution_count": 20,
     "metadata": {},
     "output_type": "execute_result"
    }
   ],
   "source": [
    "india_geo"
   ]
  },
  {
   "cell_type": "code",
   "execution_count": null,
   "id": "6c6b419d",
   "metadata": {},
   "outputs": [],
   "source": [
    "# Trying to read in .JSON file\n",
    "import json \n",
    "f = open(file=\"../../data/Cities Location.json\", mode='rb')\n",
    "contents = f.read()\n",
    "locations = json.loads(contents)"
   ]
  },
  {
   "cell_type": "markdown",
   "id": "106159c5",
   "metadata": {},
   "source": [
    "If we try to plot with the `locations` variable, we will receive the error `Cannot render objects with any missing geometries:`, therefore we need a .json file with this missing geometric information. "
   ]
  },
  {
   "cell_type": "markdown",
   "id": "d46fbfff",
   "metadata": {},
   "source": [
    "The cell below loads a new .json dataset with geometry information into a pandas dataframe."
   ]
  },
  {
   "cell_type": "code",
   "execution_count": 31,
   "id": "823419bb",
   "metadata": {},
   "outputs": [
    {
     "data": {
      "text/html": [
       "<div>\n",
       "<style scoped>\n",
       "    .dataframe tbody tr th:only-of-type {\n",
       "        vertical-align: middle;\n",
       "    }\n",
       "\n",
       "    .dataframe tbody tr th {\n",
       "        vertical-align: top;\n",
       "    }\n",
       "\n",
       "    .dataframe thead th {\n",
       "        text-align: right;\n",
       "    }\n",
       "</style>\n",
       "<table border=\"1\" class=\"dataframe\">\n",
       "  <thead>\n",
       "    <tr style=\"text-align: right;\">\n",
       "      <th></th>\n",
       "      <th>ID_0</th>\n",
       "      <th>ISO</th>\n",
       "      <th>NAME_0</th>\n",
       "      <th>ID_1</th>\n",
       "      <th>NAME_1</th>\n",
       "      <th>NL_NAME_1</th>\n",
       "      <th>VARNAME_1</th>\n",
       "      <th>TYPE_1</th>\n",
       "      <th>ENGTYPE_1</th>\n",
       "      <th>geometry</th>\n",
       "    </tr>\n",
       "  </thead>\n",
       "  <tbody>\n",
       "    <tr>\n",
       "      <th>0</th>\n",
       "      <td>105</td>\n",
       "      <td>IND</td>\n",
       "      <td>India</td>\n",
       "      <td>1</td>\n",
       "      <td>Andaman and Nicobar</td>\n",
       "      <td>None</td>\n",
       "      <td>Andaman &amp; Nicobar Islands|Andaman et Nicobar|I...</td>\n",
       "      <td>Union Territor</td>\n",
       "      <td>Union Territory</td>\n",
       "      <td>MULTIPOLYGON (((93.78773 6.85264, 93.78849 6.8...</td>\n",
       "    </tr>\n",
       "    <tr>\n",
       "      <th>1</th>\n",
       "      <td>105</td>\n",
       "      <td>IND</td>\n",
       "      <td>India</td>\n",
       "      <td>2</td>\n",
       "      <td>Andhra Pradesh</td>\n",
       "      <td>None</td>\n",
       "      <td>None</td>\n",
       "      <td>State</td>\n",
       "      <td>State</td>\n",
       "      <td>MULTIPOLYGON (((80.27458 13.45958, 80.27458 13...</td>\n",
       "    </tr>\n",
       "    <tr>\n",
       "      <th>2</th>\n",
       "      <td>105</td>\n",
       "      <td>IND</td>\n",
       "      <td>India</td>\n",
       "      <td>3</td>\n",
       "      <td>Arunachal Pradesh</td>\n",
       "      <td>None</td>\n",
       "      <td>Agence de la Frontire du Nord-Est(French-obsol...</td>\n",
       "      <td>State</td>\n",
       "      <td>State</td>\n",
       "      <td>POLYGON ((96.15778 29.38310, 96.16380 29.37668...</td>\n",
       "    </tr>\n",
       "    <tr>\n",
       "      <th>3</th>\n",
       "      <td>105</td>\n",
       "      <td>IND</td>\n",
       "      <td>India</td>\n",
       "      <td>4</td>\n",
       "      <td>Assam</td>\n",
       "      <td>None</td>\n",
       "      <td>None</td>\n",
       "      <td>State</td>\n",
       "      <td>State</td>\n",
       "      <td>MULTIPOLYGON (((89.87145 25.53730, 89.87118 25...</td>\n",
       "    </tr>\n",
       "    <tr>\n",
       "      <th>4</th>\n",
       "      <td>105</td>\n",
       "      <td>IND</td>\n",
       "      <td>India</td>\n",
       "      <td>5</td>\n",
       "      <td>Bihar</td>\n",
       "      <td>None</td>\n",
       "      <td>None</td>\n",
       "      <td>State</td>\n",
       "      <td>State</td>\n",
       "      <td>MULTIPOLYGON (((88.10548 26.53904, 88.10505 26...</td>\n",
       "    </tr>\n",
       "  </tbody>\n",
       "</table>\n",
       "</div>"
      ],
      "text/plain": [
       "   ID_0  ISO NAME_0  ID_1               NAME_1 NL_NAME_1  \\\n",
       "0   105  IND  India     1  Andaman and Nicobar      None   \n",
       "1   105  IND  India     2       Andhra Pradesh      None   \n",
       "2   105  IND  India     3    Arunachal Pradesh      None   \n",
       "3   105  IND  India     4                Assam      None   \n",
       "4   105  IND  India     5                Bihar      None   \n",
       "\n",
       "                                           VARNAME_1          TYPE_1  \\\n",
       "0  Andaman & Nicobar Islands|Andaman et Nicobar|I...  Union Territor   \n",
       "1                                               None           State   \n",
       "2  Agence de la Frontire du Nord-Est(French-obsol...           State   \n",
       "3                                               None           State   \n",
       "4                                               None           State   \n",
       "\n",
       "         ENGTYPE_1                                           geometry  \n",
       "0  Union Territory  MULTIPOLYGON (((93.78773 6.85264, 93.78849 6.8...  \n",
       "1            State  MULTIPOLYGON (((80.27458 13.45958, 80.27458 13...  \n",
       "2            State  POLYGON ((96.15778 29.38310, 96.16380 29.37668...  \n",
       "3            State  MULTIPOLYGON (((89.87145 25.53730, 89.87118 25...  \n",
       "4            State  MULTIPOLYGON (((88.10548 26.53904, 88.10505 26...  "
      ]
     },
     "execution_count": 31,
     "metadata": {},
     "output_type": "execute_result"
    }
   ],
   "source": [
    "geoJSON_df = gpd.read_file(\"../../data/india_state_geo.json\")\n",
    "geoJSON_df.head()"
   ]
  },
  {
   "cell_type": "markdown",
   "id": "dd389476",
   "metadata": {},
   "source": [
    "Since this .json file has information on states, we'll look at our `states` dataset."
   ]
  },
  {
   "cell_type": "code",
   "execution_count": 34,
   "id": "9ec7a317",
   "metadata": {},
   "outputs": [
    {
     "data": {
      "text/html": [
       "<div>\n",
       "<style scoped>\n",
       "    .dataframe tbody tr th:only-of-type {\n",
       "        vertical-align: middle;\n",
       "    }\n",
       "\n",
       "    .dataframe tbody tr th {\n",
       "        vertical-align: top;\n",
       "    }\n",
       "\n",
       "    .dataframe thead th {\n",
       "        text-align: right;\n",
       "    }\n",
       "</style>\n",
       "<table border=\"1\" class=\"dataframe\">\n",
       "  <thead>\n",
       "    <tr style=\"text-align: right;\">\n",
       "      <th></th>\n",
       "      <th>State/UT</th>\n",
       "      <th>2017 Crimes</th>\n",
       "      <th>2018 Crimes</th>\n",
       "      <th>2019 Crimes</th>\n",
       "      <th>Percentage State Share to Total (2019)</th>\n",
       "      <th>Mid-Year Projected Female Population (in lakhs) (2019)</th>\n",
       "      <th>Rate of Total Crime Against Women (2019)</th>\n",
       "      <th>2018-2019 GDP Per Capita ($)</th>\n",
       "      <th>2018-2019 Unemployment Rate (%)</th>\n",
       "      <th>2021 Literacy Rate (%)</th>\n",
       "    </tr>\n",
       "  </thead>\n",
       "  <tbody>\n",
       "    <tr>\n",
       "      <th>0</th>\n",
       "      <td>Andhra Pradesh</td>\n",
       "      <td>17909.0</td>\n",
       "      <td>16438.0</td>\n",
       "      <td>17746.0</td>\n",
       "      <td>4.4</td>\n",
       "      <td>261.4</td>\n",
       "      <td>67.9</td>\n",
       "      <td>2480</td>\n",
       "      <td>7.3</td>\n",
       "      <td>67.02</td>\n",
       "    </tr>\n",
       "    <tr>\n",
       "      <th>1</th>\n",
       "      <td>Arunachal Pradesh</td>\n",
       "      <td>337.0</td>\n",
       "      <td>368.0</td>\n",
       "      <td>317.0</td>\n",
       "      <td>0.1</td>\n",
       "      <td>7.3</td>\n",
       "      <td>43.3</td>\n",
       "      <td>2253</td>\n",
       "      <td>11.1</td>\n",
       "      <td>65.38</td>\n",
       "    </tr>\n",
       "    <tr>\n",
       "      <th>2</th>\n",
       "      <td>Assam</td>\n",
       "      <td>23082.0</td>\n",
       "      <td>27687.0</td>\n",
       "      <td>30025.0</td>\n",
       "      <td>7.4</td>\n",
       "      <td>168.9</td>\n",
       "      <td>177.8</td>\n",
       "      <td>1365</td>\n",
       "      <td>10.7</td>\n",
       "      <td>72.19</td>\n",
       "    </tr>\n",
       "    <tr>\n",
       "      <th>3</th>\n",
       "      <td>Bihar</td>\n",
       "      <td>14711.0</td>\n",
       "      <td>16920.0</td>\n",
       "      <td>18587.0</td>\n",
       "      <td>4.6</td>\n",
       "      <td>576.2</td>\n",
       "      <td>32.3</td>\n",
       "      <td>659</td>\n",
       "      <td>10.5</td>\n",
       "      <td>61.80</td>\n",
       "    </tr>\n",
       "    <tr>\n",
       "      <th>4</th>\n",
       "      <td>Chhattisgarh</td>\n",
       "      <td>7996.0</td>\n",
       "      <td>8587.0</td>\n",
       "      <td>7689.0</td>\n",
       "      <td>1.9</td>\n",
       "      <td>143.8</td>\n",
       "      <td>53.5</td>\n",
       "      <td>1555</td>\n",
       "      <td>5.5</td>\n",
       "      <td>70.28</td>\n",
       "    </tr>\n",
       "  </tbody>\n",
       "</table>\n",
       "</div>"
      ],
      "text/plain": [
       "            State/UT  2017 Crimes  2018 Crimes  2019 Crimes  \\\n",
       "0     Andhra Pradesh      17909.0      16438.0      17746.0   \n",
       "1  Arunachal Pradesh        337.0        368.0        317.0   \n",
       "2              Assam      23082.0      27687.0      30025.0   \n",
       "3              Bihar      14711.0      16920.0      18587.0   \n",
       "4       Chhattisgarh       7996.0       8587.0       7689.0   \n",
       "\n",
       "   Percentage State Share to Total (2019)  \\\n",
       "0                                     4.4   \n",
       "1                                     0.1   \n",
       "2                                     7.4   \n",
       "3                                     4.6   \n",
       "4                                     1.9   \n",
       "\n",
       "   Mid-Year Projected Female Population (in lakhs) (2019)  \\\n",
       "0                                              261.4        \n",
       "1                                                7.3        \n",
       "2                                              168.9        \n",
       "3                                              576.2        \n",
       "4                                              143.8        \n",
       "\n",
       "   Rate of Total Crime Against Women (2019)  2018-2019 GDP Per Capita ($)  \\\n",
       "0                                      67.9                          2480   \n",
       "1                                      43.3                          2253   \n",
       "2                                     177.8                          1365   \n",
       "3                                      32.3                           659   \n",
       "4                                      53.5                          1555   \n",
       "\n",
       "   2018-2019 Unemployment Rate (%)  2021 Literacy Rate (%)  \n",
       "0                              7.3                   67.02  \n",
       "1                             11.1                   65.38  \n",
       "2                             10.7                   72.19  \n",
       "3                             10.5                   61.80  \n",
       "4                              5.5                   70.28  "
      ]
     },
     "execution_count": 34,
     "metadata": {},
     "output_type": "execute_result"
    }
   ],
   "source": [
    "states = pd.read_csv(\"../../data/State Data.csv\")\n",
    "states.head()"
   ]
  },
  {
   "cell_type": "markdown",
   "id": "2632769e",
   "metadata": {},
   "source": [
    "To ensure that both datasets contain information about the same states, lets look at the number of rows in each. "
   ]
  },
  {
   "cell_type": "code",
   "execution_count": 37,
   "id": "ca7b7ade",
   "metadata": {},
   "outputs": [
    {
     "data": {
      "text/plain": [
       "(36, 35)"
      ]
     },
     "execution_count": 37,
     "metadata": {},
     "output_type": "execute_result"
    }
   ],
   "source": [
    "len(states), len(geoJSON_df)"
   ]
  },
  {
   "cell_type": "markdown",
   "id": "db8837bd",
   "metadata": {},
   "source": [
    "This shows me that our `states` dataset contains one more state than our .json file contains. Let's see why this is the case:"
   ]
  },
  {
   "cell_type": "code",
   "execution_count": 44,
   "id": "8fecb75f",
   "metadata": {},
   "outputs": [],
   "source": [
    "states_in_data = np.array(states['State/UT'])\n",
    "states_in_json = np.array(geoJSON_df['NAME_1'])"
   ]
  },
  {
   "cell_type": "code",
   "execution_count": 45,
   "id": "56836811",
   "metadata": {},
   "outputs": [
    {
     "name": "stdout",
     "output_type": "stream",
     "text": [
      "Jammu & Kashmir\n",
      "Odisha\n",
      "Telangana\n",
      "Uttarakhand\n",
      "A & N Islands (UT)\n",
      "Chandigarh (UT)\n",
      "D&N Haveli (UT)\n",
      "Daman & Diu (UT)\n",
      "Delhi (UT)\n",
      "Lakshadweep (UT)\n",
      "Puducherry (UT)\n"
     ]
    }
   ],
   "source": [
    "for i in states_in_data:\n",
    "    if i not in states_in_json:\n",
    "        print(i)"
   ]
  },
  {
   "cell_type": "markdown",
   "id": "fe7755fc",
   "metadata": {},
   "source": [
    "Most of these are included in the .json file but with different names. It appears that the state of `Telangana` is the only state that is not included in our .json file. "
   ]
  },
  {
   "cell_type": "code",
   "execution_count": 48,
   "id": "5f4a3371",
   "metadata": {},
   "outputs": [
    {
     "data": {
      "text/plain": [
       "array(['Andaman and Nicobar', 'Andhra Pradesh', 'Arunachal Pradesh',\n",
       "       'Assam', 'Bihar', 'Chandigarh', 'Chhattisgarh',\n",
       "       'Dadra and Nagar Haveli', 'Daman and Diu', 'Delhi', 'Goa',\n",
       "       'Gujarat', 'Haryana', 'Himachal Pradesh', 'Jammu and Kashmir',\n",
       "       'Jharkhand', 'Karnataka', 'Kerala', 'Lakshadweep',\n",
       "       'Madhya Pradesh', 'Maharashtra', 'Manipur', 'Meghalaya', 'Mizoram',\n",
       "       'Nagaland', 'Orissa', 'Puducherry', 'Punjab', 'Rajasthan',\n",
       "       'Sikkim', 'Tamil Nadu', 'Tripura', 'Uttar Pradesh', 'Uttaranchal',\n",
       "       'West Bengal'], dtype=object)"
      ]
     },
     "execution_count": 48,
     "metadata": {},
     "output_type": "execute_result"
    }
   ],
   "source": [
    "states_in_json"
   ]
  },
  {
   "cell_type": "markdown",
   "id": "c21a35f9",
   "metadata": {},
   "source": [
    "**TO-DO:** \n",
    "- Remove the `Talangana` state from `states` dataset\n",
    "- Rename the states/UT so that both datasets display same name for same state (this is for table merging purposes)\n",
    "- Join `geoJSON_df` and `states` on `State/UT` column. \n",
    "- Try the mapping with folium with this new joined dataset"
   ]
  },
  {
   "cell_type": "markdown",
   "id": "957ec159",
   "metadata": {},
   "source": [
    "[This link contains a walkthrough on the process detailed above](https://towardsdatascience.com/how-to-step-up-your-folium-choropleth-map-skills-17cf6de7c6fe)"
   ]
  },
  {
   "cell_type": "code",
   "execution_count": 22,
   "id": "168093df",
   "metadata": {},
   "outputs": [
    {
     "ename": "ValueError",
     "evalue": "Cannot render objects with any missing geometries: [{'City': 'Ahmedabad\\n(Gujarat)', 'Latitude (N)': 23.0225, 'Longitude (E)': 72.5714}, {'City': 'Bengaluru\\n(Karnataka)', 'Latitude (N)': 12.9716, 'Longitude (E)': 77.5946}, {'City': 'Chennai\\n(Tamil Nadu)', 'Latitude (N)': 13.0827, 'Longitude (E)': 80.2707}, {'City': 'Coimbatore\\n(Tamil Nadu)', 'Latitude (N)': 11.0168, 'Longitude (E)': 76.9558}, {'City': 'Delhi', 'Latitude (N)': 28.7041, 'Longitude (E)': 77.1025}, {'City': 'Ghaziabad\\n(Uttar Pradesh)', 'Latitude (N)': 28.6692, 'Longitude (E)': 77.4538}, {'City': 'Hyderabad\\n(Telangana)', 'Latitude (N)': 17.385, 'Longitude (E)': 78.4867}, {'City': 'Indore\\n(Madhya Pradesh)', 'Latitude (N)': 22.7196, 'Longitude (E)': 75.8577}, {'City': 'Jaipur\\n(Rajasthan)', 'Latitude (N)': 26.9124, 'Longitude (E)': 75.7873}, {'City': 'Kanpur\\n(Uttar Pradesh)', 'Latitude (N)': 26.4499, 'Longitude (E)': 80.3319}, {'City': 'Kochi\\n(Kerala)', 'Latitude (N)': 9.9312, 'Longitude (E)': 76.2673}, {'City': 'Kolkata\\n(West Bengal)', 'Latitude (N)': 22.5726, 'Longitude (E)': 88.3639}, {'City': 'Kozhikode\\n(Kerala)', 'Latitude (N)': 11.2588, 'Longitude (E)': 75.7804}, {'City': 'Lucknow\\n(Uttar Pradesh)', 'Latitude (N)': 26.8467, 'Longitude (E)': 80.9462}, {'City': 'Mumbai\\n(Maharashtra)', 'Latitude (N)': 19.076, 'Longitude (E)': 72.8777}, {'City': 'Nagpur\\n(Maharashtra)', 'Latitude (N)': 21.1458, 'Longitude (E)': 79.0882}, {'City': 'Patna\\n(Bihar)', 'Latitude (N)': 25.5941, 'Longitude (E)': 85.1376}, {'City': 'Pune\\n(Maharashtra)', 'Latitude (N)': 18.5204, 'Longitude (E)': 73.8567}, {'City': 'Surat\\n(Gujarat)', 'Latitude (N)': 21.1702, 'Longitude (E)': 72.8311}]",
     "output_type": "error",
     "traceback": [
      "\u001b[0;31m---------------------------------------------------------------------------\u001b[0m",
      "\u001b[0;31mValueError\u001b[0m                                Traceback (most recent call last)",
      "\u001b[0;32m<ipython-input-22-6e00526edb87>\u001b[0m in \u001b[0;36m<module>\u001b[0;34m\u001b[0m\n\u001b[1;32m      1\u001b[0m \u001b[0mm\u001b[0m \u001b[0;34m=\u001b[0m \u001b[0mfolium\u001b[0m\u001b[0;34m.\u001b[0m\u001b[0mMap\u001b[0m\u001b[0;34m(\u001b[0m\u001b[0mlocation\u001b[0m\u001b[0;34m=\u001b[0m\u001b[0;34m[\u001b[0m\u001b[0mindia_latitude\u001b[0m\u001b[0;34m,\u001b[0m \u001b[0mindia_longitude\u001b[0m\u001b[0;34m]\u001b[0m\u001b[0;34m,\u001b[0m \u001b[0mzoom_start\u001b[0m\u001b[0;34m=\u001b[0m\u001b[0;36m3\u001b[0m\u001b[0;34m)\u001b[0m\u001b[0;34m\u001b[0m\u001b[0;34m\u001b[0m\u001b[0m\n\u001b[1;32m      2\u001b[0m \u001b[0;34m\u001b[0m\u001b[0m\n\u001b[0;32m----> 3\u001b[0;31m folium.Choropleth(\n\u001b[0m\u001b[1;32m      4\u001b[0m     \u001b[0mgeo_data\u001b[0m\u001b[0;34m=\u001b[0m\u001b[0mlocations\u001b[0m\u001b[0;34m,\u001b[0m\u001b[0;34m\u001b[0m\u001b[0;34m\u001b[0m\u001b[0m\n\u001b[1;32m      5\u001b[0m     \u001b[0mname\u001b[0m\u001b[0;34m=\u001b[0m\u001b[0;34m\"choropleth\"\u001b[0m\u001b[0;34m,\u001b[0m\u001b[0;34m\u001b[0m\u001b[0;34m\u001b[0m\u001b[0m\n",
      "\u001b[0;32m/opt/anaconda3/lib/python3.8/site-packages/folium/features.py\u001b[0m in \u001b[0;36m__init__\u001b[0;34m(self, geo_data, data, columns, key_on, bins, fill_color, nan_fill_color, fill_opacity, nan_fill_opacity, line_color, line_weight, line_opacity, name, legend_name, overlay, control, show, topojson, smooth_factor, highlight, **kwargs)\u001b[0m\n\u001b[1;32m   1287\u001b[0m                 smooth_factor=smooth_factor)\n\u001b[1;32m   1288\u001b[0m         \u001b[0;32melse\u001b[0m\u001b[0;34m:\u001b[0m\u001b[0;34m\u001b[0m\u001b[0;34m\u001b[0m\u001b[0m\n\u001b[0;32m-> 1289\u001b[0;31m             self.geojson = GeoJson(\n\u001b[0m\u001b[1;32m   1290\u001b[0m                 \u001b[0mgeo_data\u001b[0m\u001b[0;34m,\u001b[0m\u001b[0;34m\u001b[0m\u001b[0;34m\u001b[0m\u001b[0m\n\u001b[1;32m   1291\u001b[0m                 \u001b[0mstyle_function\u001b[0m\u001b[0;34m=\u001b[0m\u001b[0mstyle_function\u001b[0m\u001b[0;34m,\u001b[0m\u001b[0;34m\u001b[0m\u001b[0;34m\u001b[0m\u001b[0m\n",
      "\u001b[0;32m/opt/anaconda3/lib/python3.8/site-packages/folium/features.py\u001b[0m in \u001b[0;36m__init__\u001b[0;34m(self, data, style_function, highlight_function, name, overlay, control, show, smooth_factor, tooltip, embed, popup, zoom_on_click, marker)\u001b[0m\n\u001b[1;32m    497\u001b[0m         \u001b[0mself\u001b[0m\u001b[0;34m.\u001b[0m\u001b[0mmarker\u001b[0m \u001b[0;34m=\u001b[0m \u001b[0mmarker\u001b[0m\u001b[0;34m\u001b[0m\u001b[0;34m\u001b[0m\u001b[0m\n\u001b[1;32m    498\u001b[0m \u001b[0;34m\u001b[0m\u001b[0m\n\u001b[0;32m--> 499\u001b[0;31m         \u001b[0mself\u001b[0m\u001b[0;34m.\u001b[0m\u001b[0mdata\u001b[0m \u001b[0;34m=\u001b[0m \u001b[0mself\u001b[0m\u001b[0;34m.\u001b[0m\u001b[0mprocess_data\u001b[0m\u001b[0;34m(\u001b[0m\u001b[0mdata\u001b[0m\u001b[0;34m)\u001b[0m\u001b[0;34m\u001b[0m\u001b[0;34m\u001b[0m\u001b[0m\n\u001b[0m\u001b[1;32m    500\u001b[0m \u001b[0;34m\u001b[0m\u001b[0m\n\u001b[1;32m    501\u001b[0m         \u001b[0;32mif\u001b[0m \u001b[0mself\u001b[0m\u001b[0;34m.\u001b[0m\u001b[0mstyle\u001b[0m \u001b[0;32mor\u001b[0m \u001b[0mself\u001b[0m\u001b[0;34m.\u001b[0m\u001b[0mhighlight\u001b[0m\u001b[0;34m:\u001b[0m\u001b[0;34m\u001b[0m\u001b[0;34m\u001b[0m\u001b[0m\n",
      "\u001b[0;32m/opt/anaconda3/lib/python3.8/site-packages/folium/features.py\u001b[0m in \u001b[0;36mprocess_data\u001b[0;34m(self, data)\u001b[0m\n\u001b[1;32m    542\u001b[0m             \u001b[0;32mreturn\u001b[0m \u001b[0mjson\u001b[0m\u001b[0;34m.\u001b[0m\u001b[0mloads\u001b[0m\u001b[0;34m(\u001b[0m\u001b[0mjson\u001b[0m\u001b[0;34m.\u001b[0m\u001b[0mdumps\u001b[0m\u001b[0;34m(\u001b[0m\u001b[0mdata\u001b[0m\u001b[0;34m.\u001b[0m\u001b[0m__geo_interface__\u001b[0m\u001b[0;34m)\u001b[0m\u001b[0;34m)\u001b[0m\u001b[0;34m\u001b[0m\u001b[0;34m\u001b[0m\u001b[0m\n\u001b[1;32m    543\u001b[0m         \u001b[0;32melse\u001b[0m\u001b[0;34m:\u001b[0m\u001b[0;34m\u001b[0m\u001b[0;34m\u001b[0m\u001b[0m\n\u001b[0;32m--> 544\u001b[0;31m             raise ValueError('Cannot render objects with any missing geometries'\n\u001b[0m\u001b[1;32m    545\u001b[0m                              ': {!r}'.format(data))\n\u001b[1;32m    546\u001b[0m \u001b[0;34m\u001b[0m\u001b[0m\n",
      "\u001b[0;31mValueError\u001b[0m: Cannot render objects with any missing geometries: [{'City': 'Ahmedabad\\n(Gujarat)', 'Latitude (N)': 23.0225, 'Longitude (E)': 72.5714}, {'City': 'Bengaluru\\n(Karnataka)', 'Latitude (N)': 12.9716, 'Longitude (E)': 77.5946}, {'City': 'Chennai\\n(Tamil Nadu)', 'Latitude (N)': 13.0827, 'Longitude (E)': 80.2707}, {'City': 'Coimbatore\\n(Tamil Nadu)', 'Latitude (N)': 11.0168, 'Longitude (E)': 76.9558}, {'City': 'Delhi', 'Latitude (N)': 28.7041, 'Longitude (E)': 77.1025}, {'City': 'Ghaziabad\\n(Uttar Pradesh)', 'Latitude (N)': 28.6692, 'Longitude (E)': 77.4538}, {'City': 'Hyderabad\\n(Telangana)', 'Latitude (N)': 17.385, 'Longitude (E)': 78.4867}, {'City': 'Indore\\n(Madhya Pradesh)', 'Latitude (N)': 22.7196, 'Longitude (E)': 75.8577}, {'City': 'Jaipur\\n(Rajasthan)', 'Latitude (N)': 26.9124, 'Longitude (E)': 75.7873}, {'City': 'Kanpur\\n(Uttar Pradesh)', 'Latitude (N)': 26.4499, 'Longitude (E)': 80.3319}, {'City': 'Kochi\\n(Kerala)', 'Latitude (N)': 9.9312, 'Longitude (E)': 76.2673}, {'City': 'Kolkata\\n(West Bengal)', 'Latitude (N)': 22.5726, 'Longitude (E)': 88.3639}, {'City': 'Kozhikode\\n(Kerala)', 'Latitude (N)': 11.2588, 'Longitude (E)': 75.7804}, {'City': 'Lucknow\\n(Uttar Pradesh)', 'Latitude (N)': 26.8467, 'Longitude (E)': 80.9462}, {'City': 'Mumbai\\n(Maharashtra)', 'Latitude (N)': 19.076, 'Longitude (E)': 72.8777}, {'City': 'Nagpur\\n(Maharashtra)', 'Latitude (N)': 21.1458, 'Longitude (E)': 79.0882}, {'City': 'Patna\\n(Bihar)', 'Latitude (N)': 25.5941, 'Longitude (E)': 85.1376}, {'City': 'Pune\\n(Maharashtra)', 'Latitude (N)': 18.5204, 'Longitude (E)': 73.8567}, {'City': 'Surat\\n(Gujarat)', 'Latitude (N)': 21.1702, 'Longitude (E)': 72.8311}]"
     ]
    }
   ],
   "source": [
    "m = folium.Map(location=[india_latitude, india_longitude], zoom_start=3)\n",
    "\n",
    "folium.Choropleth(\n",
    "    geo_data=locations,\n",
    "    name=\"choropleth\",\n",
    "    data=india_cities_data,\n",
    "    columns=[\"City\", \"2017\", \"2018\", \"2019\"],\n",
    "    key_on=\"feature.id\",\n",
    "    fill_color=\"YlGn\",\n",
    "    fill_opacity=0.7,\n",
    "    line_opacity=0.2,\n",
    "    legend_name=\"Total Crime Agianst Women\",\n",
    ").add_to(india_map)\n",
    "\n",
    "folium.LayerControl().add_to(india_map)\n"
   ]
  },
  {
   "cell_type": "code",
   "execution_count": null,
   "id": "cbeb634a",
   "metadata": {},
   "outputs": [],
   "source": []
  }
 ],
 "metadata": {
  "kernelspec": {
   "display_name": "Python 3",
   "language": "python",
   "name": "python3"
  },
  "language_info": {
   "codemirror_mode": {
    "name": "ipython",
    "version": 3
   },
   "file_extension": ".py",
   "mimetype": "text/x-python",
   "name": "python",
   "nbconvert_exporter": "python",
   "pygments_lexer": "ipython3",
   "version": "3.8.8"
  }
 },
 "nbformat": 4,
 "nbformat_minor": 5
}
