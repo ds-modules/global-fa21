{
 "cells": [
  {
   "cell_type": "markdown",
   "id": "041c2f61-986d-4c60-9319-2f7d039ae398",
   "metadata": {},
   "source": [
    "# Introduction to Jupyter"
   ]
  },
  {
   "cell_type": "markdown",
   "id": "9fb7391e",
   "metadata": {},
   "source": [
    "Welcome to the Jupyter Notebook, an interactive and web-based notebook that is used in data science to document and visualize data!"
   ]
  },
  {
   "cell_type": "markdown",
   "id": "aa77e881",
   "metadata": {},
   "source": [
    "As you can see, the Jupyter notebook supports regular text as well as code. Each *cell* or chunk of text can either take on the form of code or regular text. "
   ]
  },
  {
   "cell_type": "markdown",
   "id": "5921b231",
   "metadata": {},
   "source": [
    "The way that we determine the type of the cell is by clicking \"Cell,\" located at the top of your screen, and then clicking \"Cell Type.\" From there you will see an arrow that offers the options of changing the current cell you are working in to **Markdown** (which is just regular English) or **Code**. "
   ]
  },
  {
   "cell_type": "markdown",
   "id": "950cc5d7",
   "metadata": {},
   "source": [
    "Make sure to choose accordingly depending on your different tasks later down the road; cells can only support the type that they were assigned (for example, a **Markdown** type cell will not run code)."
   ]
  },
  {
   "cell_type": "markdown",
   "id": "de46c4e0",
   "metadata": {},
   "source": [
    "### The Code Cell"
   ]
  },
  {
   "cell_type": "markdown",
   "id": "5f9fe952",
   "metadata": {},
   "source": [
    "We can run cells that contain code by clicking the rectangle and either:"
   ]
  },
  {
   "cell_type": "markdown",
   "id": "47f48743",
   "metadata": {},
   "source": [
    "- Clicking \"Shift\" + \"Return\" on the keyboard\n",
    "- Pressing the \"Run\" button from the array of options at the top of the screen\n",
    "- Clicking \"Cell\" in the top array of options and choosing from the array of run options that will best suit your needs"
   ]
  },
  {
   "cell_type": "markdown",
   "id": "02e38bfb",
   "metadata": {},
   "source": [
    "Let's try looking at a **Code** cell now, as so far, we've only been looking at **Markdown** cells! You can try running it as well using any of the strategies listed above."
   ]
  },
  {
   "cell_type": "code",
   "execution_count": 1,
   "id": "4dbc8096",
   "metadata": {},
   "outputs": [
    {
     "name": "stdout",
     "output_type": "stream",
     "text": [
      "Hello World!\n"
     ]
    }
   ],
   "source": [
    "print('Hello World!')"
   ]
  },
  {
   "cell_type": "markdown",
   "id": "ea0e191d",
   "metadata": {},
   "source": [
    "You should notice that the cell shows an asterisk - * - as it is processing your request. Afterwards, once it runs, then the \"In [   ]:\" portion should contain a number in its brackets, indicating numerically which run it is (the number starts at 1, your first run of a code cell)."
   ]
  },
  {
   "cell_type": "markdown",
   "id": "af812677",
   "metadata": {},
   "source": [
    "Within a code cell, you can also write regular language without any consequences on your code! The way to do this is by writing *comments*, indicated by a # before your commentary on the code. See the code cell below for an example:"
   ]
  },
  {
   "cell_type": "code",
   "execution_count": 2,
   "id": "755ffa4e",
   "metadata": {},
   "outputs": [
    {
     "name": "stdout",
     "output_type": "stream",
     "text": [
      "pizza\n"
     ]
    }
   ],
   "source": [
    "# This is a comment. It will have no effect on anything I do later on! Watch:\n",
    "# print('pineapple')\n",
    "\n",
    "print('pizza')"
   ]
  },
  {
   "cell_type": "markdown",
   "id": "ba6bbbca",
   "metadata": {},
   "source": [
    "Notice that you can also ADD, CUT and MODIFY cells!"
   ]
  },
  {
   "cell_type": "markdown",
   "id": "3f956b31",
   "metadata": {},
   "source": [
    "- To ADD: press \"Insert\" at the top of the screen and feel free to insert cells below or above the currently selected cell\n",
    "- To CUT: select any cell you want to delete by clicking once and then pressing the scissor icon on the top left\n",
    "- To MODIFY: double click the desired cell"
   ]
  },
  {
   "cell_type": "markdown",
   "id": "0189c558",
   "metadata": {},
   "source": [
    "You can play with these functionalities with the recent code cell! You can also undo actions by using Ctrl + Z."
   ]
  },
  {
   "cell_type": "markdown",
   "id": "ed683478",
   "metadata": {},
   "source": [
    "Make sure to save often! You can do that with the following choices:"
   ]
  },
  {
   "cell_type": "markdown",
   "id": "79b135fd",
   "metadata": {},
   "source": [
    "- Using Ctrl + S\n",
    "- Saving with the icon in the very left at the top symbol banner\n",
    "- Selecting 'File' then 'Save and Checkpoint'"
   ]
  },
  {
   "cell_type": "markdown",
   "id": "43cb4ef0",
   "metadata": {},
   "source": [
    "### Getting Started"
   ]
  },
  {
   "cell_type": "markdown",
   "id": "4fc104c9",
   "metadata": {},
   "source": [
    "In data science, we are able to manipulate our data using Python *libraries*, which are basically big collections of commands we can use based off of the coding language Python. We have imported some below so that we can easily visualize and analyze our data later on."
   ]
  },
  {
   "cell_type": "code",
   "execution_count": 2,
   "id": "eb84914c",
   "metadata": {},
   "outputs": [],
   "source": [
    "# Don't change this cell; just run it. \n",
    "import numpy as np\n",
    "from datascience import *\n",
    "\n",
    "# These lines do some fancy plotting magic.\",\n",
    "import matplotlib\n",
    "%matplotlib inline\n",
    "import matplotlib.pyplot as plots\n",
    "plots.style.use('fivethirtyeight')"
   ]
  },
  {
   "cell_type": "markdown",
   "id": "82852723",
   "metadata": {},
   "source": [
    "These libraries differ in the sense that some of them are aimed for visualization, some better suited for statistics, and some are better suited for other purposes! The point is that we want to import all of these different tools for ourselves so that we can have it ready when we are dealing with our data later on."
   ]
  },
  {
   "cell_type": "markdown",
   "id": "d3c956e3",
   "metadata": {},
   "source": [
    "# Python Basics"
   ]
  },
  {
   "cell_type": "markdown",
   "id": "d35abf15",
   "metadata": {},
   "source": [
    "*Python* is a programming language, so it allows for us to communicate with the computer! Python has a specific syntax and a set of common practices, just like any other language. Before we dive into our data, let's go over some of these basic functionalities in Python that you will be using in this lesson."
   ]
  },
  {
   "cell_type": "markdown",
   "id": "452b5e28",
   "metadata": {},
   "source": [
    "### Print Statements"
   ]
  },
  {
   "cell_type": "markdown",
   "id": "4fcfb027",
   "metadata": {},
   "source": [
    "For the computer to physically print out words, we are able to use the print statement. Using the command **print()**, we can print anything we want the computer to say. It's also important that we write the words we want to print in quotes. See below for an example:"
   ]
  },
  {
   "cell_type": "code",
   "execution_count": 4,
   "id": "d1666192",
   "metadata": {},
   "outputs": [
    {
     "name": "stdout",
     "output_type": "stream",
     "text": [
      "I am a good print statement.\n"
     ]
    }
   ],
   "source": [
    "print(\"I am a good print statement.\")"
   ]
  },
  {
   "cell_type": "markdown",
   "id": "7b48853b",
   "metadata": {},
   "source": [
    "Python is a relatively sensitive language, which means that changing the cases in a statement or even forgetting a parentheses or quote can result in a *syntax error*. However, usually you can deduce what is wrong with your code by Python's response."
   ]
  },
  {
   "cell_type": "code",
   "execution_count": 5,
   "id": "25cc29ba",
   "metadata": {},
   "outputs": [
    {
     "ename": "SyntaxError",
     "evalue": "unexpected EOF while parsing (<ipython-input-5-bd5eae88b6ed>, line 4)",
     "output_type": "error",
     "traceback": [
      "\u001b[0;36m  File \u001b[0;32m\"<ipython-input-5-bd5eae88b6ed>\"\u001b[0;36m, line \u001b[0;32m4\u001b[0m\n\u001b[0;31m    print(\"I am not a good print statement\"\u001b[0m\n\u001b[0m                                           ^\u001b[0m\n\u001b[0;31mSyntaxError\u001b[0m\u001b[0;31m:\u001b[0m unexpected EOF while parsing\n"
     ]
    }
   ],
   "source": [
    "# This cell should give you a syntax error showing where your print statement is erroring. \n",
    "# Try running it & experimenting by altering the other parts of the print statement!\n",
    "\n",
    "print(\"I am not a good print statement\""
   ]
  },
  {
   "cell_type": "markdown",
   "id": "ad368b8a",
   "metadata": {},
   "source": [
    "### Variables"
   ]
  },
  {
   "cell_type": "markdown",
   "id": "2aca2e97",
   "metadata": {},
   "source": [
    "Just like in math, we often need to save numbers to use for the future when coding. Python is easily able to calculate arithmetic expressions, and can even save them to *variables*, or names, like x and y in math that denote the number we are saving. Let's see an example of this below."
   ]
  },
  {
   "cell_type": "code",
   "execution_count": null,
   "id": "25f8cdcc",
   "metadata": {},
   "outputs": [],
   "source": [
    "# Here is an example of just letting Python solve an arithmetic expression.\n",
    "\n",
    "(2 * 4) + 3"
   ]
  },
  {
   "cell_type": "code",
   "execution_count": null,
   "id": "c6e21a78",
   "metadata": {},
   "outputs": [],
   "source": [
    "# Let's say we want to now save this to the variable 'x'. Then, we can do the following:\n",
    "\n",
    "x = (2 * 4) + 3"
   ]
  },
  {
   "cell_type": "markdown",
   "id": "25af1cb3",
   "metadata": {},
   "source": [
    "Notice that the cell above did not return anything! That's because we didn't *call* x, which means that we didn't specifically ask for the value of x. Instead, the statement in the cell above simply assigned x to the arithmetic expression. So then... how do we call x?"
   ]
  },
  {
   "cell_type": "code",
   "execution_count": null,
   "id": "79c0c403",
   "metadata": {},
   "outputs": [],
   "source": [
    "# This is how we call x - it will immediately print x by simply calling its name.\n",
    "\n",
    "x"
   ]
  },
  {
   "cell_type": "code",
   "execution_count": null,
   "id": "7df0e4c0",
   "metadata": {},
   "outputs": [],
   "source": [
    "# We can also manipulate x (this will not change the real value of x).\n",
    "\n",
    "x * 2"
   ]
  },
  {
   "cell_type": "code",
   "execution_count": null,
   "id": "3dc90e98",
   "metadata": {},
   "outputs": [],
   "source": [
    "# We can also assign x to its manipulated value by doing the following (which will then reassign x).\n",
    "\n",
    "x = x * 2"
   ]
  },
  {
   "cell_type": "markdown",
   "id": "bc8b8497",
   "metadata": {},
   "source": [
    "### Tables"
   ]
  },
  {
   "cell_type": "markdown",
   "id": "d9573297",
   "metadata": {},
   "source": [
    "We will also be dealing with *tables* to organize all of our data. All tables have columns and rows, which we can organize respectively according to our desired purpose. The aspects of the table such as the number of columns and the number of rows are known as *attributes* of the table."
   ]
  },
  {
   "cell_type": "markdown",
   "id": "1c770d87",
   "metadata": {},
   "source": [
    "A table's attributes can be accessed using dot notation, which means that alterations can be made to a table using periods followed by a command. For instance, [table]**.num_rows** and [table]**.num_columns** gives you back the number of rows and number of columns of a table, respectively. Here are a couple of other useful functionalities that you can apply to a table:"
   ]
  },
  {
   "cell_type": "markdown",
   "id": "eae8ad33",
   "metadata": {},
   "source": [
    "- **.num_rows** = finds number of rows in the table\n",
    "- **.num_columns** = finds number of columns in the table\n",
    "- **.with_columns(name, values)** = returns the table with the column name and the given values\n",
    "- **.sort(column name)** = arranges all the values in a column of the table in ascending order"
   ]
  },
  {
   "cell_type": "markdown",
   "id": "ab36391e",
   "metadata": {},
   "source": [
    "These are just a couple of cool functionalities; we will look at more as we approach our data and get a better grasp of what we want to compare."
   ]
  },
  {
   "cell_type": "markdown",
   "id": "c36e7cab",
   "metadata": {},
   "source": [
    "Congrats on completing the Intro to Jupyter & Python Basics portion - now, we can approach our data and begin analyzing!"
   ]
  },
  {
   "cell_type": "markdown",
   "id": "c2b59b56-daea-499a-ba80-70776e3cc9b3",
   "metadata": {},
   "source": [
    "# Introduction to the Data"
   ]
  },
  {
   "cell_type": "markdown",
   "id": "69558b6e",
   "metadata": {},
   "source": [
    "### Background to Data & Data Importing"
   ]
  },
  {
   "cell_type": "markdown",
   "id": "f9b16563",
   "metadata": {},
   "source": [
    "We will be importing two datasets: a dataset looking specifically at **states & union territories in India**, and a dataset looking at **cities in India**. Both will look at crimes in India between the years of 2017-2019 and will look at specific factors (population, total crime against women) that will be useful when we are trying to deduce inferences about gender-based violence in certain areas in India."
   ]
  },
  {
   "cell_type": "markdown",
   "id": "ef89de4f",
   "metadata": {},
   "source": [
    "(Also note that in the Indian numbering system, a *lakh* is equal to 100,000. Moreover, politically, a *union territory* is a small administrative unit like a state, but while states are self-governed, union territories are directly ruled over by the central or union government. Feel to read more at https://www.indiatoday.in/education-today/gk-current-affairs/story/what-is-the-difference-between-a-state-and-an-union-territory-1577445-2019-08-05!)"
   ]
  },
  {
   "cell_type": "markdown",
   "id": "27961b47",
   "metadata": {},
   "source": [
    "Here is our **state & union territory based dataset**. Don't worry too much about the specifics of the code, but do observe the table and its headers to familiarize yourself with the format and the significance of each column."
   ]
  },
  {
   "cell_type": "markdown",
   "id": "a3641ba2",
   "metadata": {},
   "source": [
    "What can you deduce about each column?"
   ]
  },
  {
   "cell_type": "markdown",
   "id": "31a96b48",
   "metadata": {},
   "source": [
    "*Replace this text with your response!*"
   ]
  },
  {
   "cell_type": "code",
   "execution_count": 3,
   "id": "0f366c58-965b-4bc7-ac62-ed49e9ebdaaf",
   "metadata": {},
   "outputs": [
    {
     "data": {
      "text/html": [
       "<table border=\"1\" class=\"dataframe\">\n",
       "    <thead>\n",
       "        <tr>\n",
       "            <th>State/UT</th> <th>2017</th> <th>2018</th> <th>2019</th> <th>Percentage State Share\n",
       "To All-India (2019)</th> <th>Mid-Year Projected Female\n",
       "Population (in lakhs) (2019)</th> <th>Rate of Total Crime against Women (2019)+</th>\n",
       "        </tr>\n",
       "    </thead>\n",
       "    <tbody>\n",
       "        <tr>\n",
       "            <td>Andhra Pradesh    </td> <td>17909</td> <td>16438</td> <td>17746</td> <td>4.4                                       </td> <td>261.4                                                 </td> <td>67.9                                     </td>\n",
       "        </tr>\n",
       "        <tr>\n",
       "            <td>Arunachal Pradesh </td> <td>337  </td> <td>368  </td> <td>317  </td> <td>0.1                                       </td> <td>7.3                                                   </td> <td>43.3                                     </td>\n",
       "        </tr>\n",
       "        <tr>\n",
       "            <td>Assam             </td> <td>23082</td> <td>27687</td> <td>30025</td> <td>7.4                                       </td> <td>168.9                                                 </td> <td>177.8                                    </td>\n",
       "        </tr>\n",
       "        <tr>\n",
       "            <td>Bihar             </td> <td>14711</td> <td>16920</td> <td>18587</td> <td>4.6                                       </td> <td>576.2                                                 </td> <td>32.3                                     </td>\n",
       "        </tr>\n",
       "        <tr>\n",
       "            <td>Chhattisgarh      </td> <td>7996 </td> <td>8587 </td> <td>7689 </td> <td>1.9                                       </td> <td>143.8                                                 </td> <td>53.5                                     </td>\n",
       "        </tr>\n",
       "        <tr>\n",
       "            <td>Goa               </td> <td>369  </td> <td>362  </td> <td>329  </td> <td>0.1                                       </td> <td>7.6                                                   </td> <td>43.1                                     </td>\n",
       "        </tr>\n",
       "        <tr>\n",
       "            <td>Gujarat           </td> <td>8133 </td> <td>8329 </td> <td>8799 </td> <td>2.2                                       </td> <td>324.9                                                 </td> <td>27.1                                     </td>\n",
       "        </tr>\n",
       "        <tr>\n",
       "            <td>Haryana           </td> <td>11370</td> <td>14326</td> <td>14683</td> <td>3.6                                       </td> <td>135.3                                                 </td> <td>108.5                                    </td>\n",
       "        </tr>\n",
       "        <tr>\n",
       "            <td>Himachal Pradesh  </td> <td>1246 </td> <td>1633 </td> <td>1636 </td> <td>0.4                                       </td> <td>36.1                                                  </td> <td>45.4                                     </td>\n",
       "        </tr>\n",
       "        <tr>\n",
       "            <td>Jammu & Kashmir   </td> <td>3129 </td> <td>3437 </td> <td>3069 </td> <td>0.8                                       </td> <td>64.2                                                  </td> <td>47.8                                     </td>\n",
       "        </tr>\n",
       "        <tr>\n",
       "            <td>Jharkhand         </td> <td>5911 </td> <td>7083 </td> <td>8760 </td> <td>2.2                                       </td> <td>183.3                                                 </td> <td>47.8                                     </td>\n",
       "        </tr>\n",
       "        <tr>\n",
       "            <td>Karnataka         </td> <td>14078</td> <td>13514</td> <td>13828</td> <td>3.4                                       </td> <td>325.1                                                 </td> <td>42.5                                     </td>\n",
       "        </tr>\n",
       "        <tr>\n",
       "            <td>Kerala            </td> <td>11057</td> <td>10461</td> <td>11462</td> <td>2.8                                       </td> <td>182.9                                                 </td> <td>62.7                                     </td>\n",
       "        </tr>\n",
       "        <tr>\n",
       "            <td>Madhya Pradesh    </td> <td>29788</td> <td>28942</td> <td>27560</td> <td>6.8                                       </td> <td>399.6                                                 </td> <td>69                                       </td>\n",
       "        </tr>\n",
       "        <tr>\n",
       "            <td>Maharashtra       </td> <td>31979</td> <td>35497</td> <td>37144</td> <td>9.2                                       </td> <td>588.5                                                 </td> <td>63.1                                     </td>\n",
       "        </tr>\n",
       "        <tr>\n",
       "            <td>Manipur           </td> <td>236  </td> <td>271  </td> <td>266  </td> <td>0.1                                       </td> <td>15.5                                                  </td> <td>17.2                                     </td>\n",
       "        </tr>\n",
       "        <tr>\n",
       "            <td>Meghalaya         </td> <td>567  </td> <td>571  </td> <td>558  </td> <td>0.1                                       </td> <td>16.1                                                  </td> <td>34.6                                     </td>\n",
       "        </tr>\n",
       "        <tr>\n",
       "            <td>Mizoram           </td> <td>301  </td> <td>249  </td> <td>170  </td> <td>0                                         </td> <td>5.9                                                   </td> <td>28.7                                     </td>\n",
       "        </tr>\n",
       "        <tr>\n",
       "            <td>Nagaland          </td> <td>79   </td> <td>75   </td> <td>43   </td> <td>0                                         </td> <td>10.4                                                  </td> <td>4.1                                      </td>\n",
       "        </tr>\n",
       "        <tr>\n",
       "            <td>Odisha            </td> <td>20098</td> <td>20274</td> <td>23183</td> <td>5.7                                       </td> <td>223.9                                                 </td> <td>103.5                                    </td>\n",
       "        </tr>\n",
       "        <tr>\n",
       "            <td>Punjab            </td> <td>4620 </td> <td>5302 </td> <td>5886 </td> <td>1.5                                       </td> <td>141.9                                                 </td> <td>41.5                                     </td>\n",
       "        </tr>\n",
       "        <tr>\n",
       "            <td>Rajasthan         </td> <td>25993</td> <td>27866</td> <td>41550</td> <td>10.2                                      </td> <td>376.4                                                 </td> <td>110.4                                    </td>\n",
       "        </tr>\n",
       "        <tr>\n",
       "            <td>Sikkim            </td> <td>163  </td> <td>172  </td> <td>125  </td> <td>0                                         </td> <td>3.1                                                   </td> <td>39.8                                     </td>\n",
       "        </tr>\n",
       "        <tr>\n",
       "            <td>Tamil Nadu        </td> <td>5397 </td> <td>5822 </td> <td>5934 </td> <td>1.5                                       </td> <td>379.2                                                 </td> <td>15.6                                     </td>\n",
       "        </tr>\n",
       "        <tr>\n",
       "            <td>Telangana         </td> <td>17521</td> <td>16027</td> <td>18394</td> <td>4.5                                       </td> <td>185.3                                                 </td> <td>99.3                                     </td>\n",
       "        </tr>\n",
       "        <tr>\n",
       "            <td>Tripura           </td> <td>972  </td> <td>907  </td> <td>1070 </td> <td>0.3                                       </td> <td>19.7                                                  </td> <td>54.5                                     </td>\n",
       "        </tr>\n",
       "        <tr>\n",
       "            <td>Uttar Pradesh     </td> <td>56011</td> <td>59445</td> <td>59853</td> <td>14.7                                      </td> <td>1081.4                                                </td> <td>55.4                                     </td>\n",
       "        </tr>\n",
       "        <tr>\n",
       "            <td>Uttarakhand       </td> <td>1944 </td> <td>2817 </td> <td>2541 </td> <td>0.6                                       </td> <td>54.6                                                  </td> <td>46.5                                     </td>\n",
       "        </tr>\n",
       "        <tr>\n",
       "            <td>West Bengal       </td> <td>30992</td> <td>30394</td> <td>30394</td> <td>7.5                                       </td> <td>474.9                                                 </td> <td>64                                       </td>\n",
       "        </tr>\n",
       "        <tr>\n",
       "            <td>A & N Islands (UT)</td> <td>132  </td> <td>147  </td> <td>135  </td> <td>0                                         </td> <td>1.9                                                   </td> <td>72.2                                     </td>\n",
       "        </tr>\n",
       "        <tr>\n",
       "            <td>Chandigarh (UT)   </td> <td>453  </td> <td>442  </td> <td>515  </td> <td>0.1                                       </td> <td>5.4                                                   </td> <td>95.2                                     </td>\n",
       "        </tr>\n",
       "        <tr>\n",
       "            <td>D&N Haveli (UT)   </td> <td>20   </td> <td>38   </td> <td>49   </td> <td>0                                         </td> <td>2.3                                                   </td> <td>21.6                                     </td>\n",
       "        </tr>\n",
       "        <tr>\n",
       "            <td>Daman & Diu (UT)  </td> <td>26   </td> <td>16   </td> <td>33   </td> <td>0                                         </td> <td>1.3                                                   </td> <td>25.2                                     </td>\n",
       "        </tr>\n",
       "        <tr>\n",
       "            <td>Delhi (UT)        </td> <td>13076</td> <td>13640</td> <td>13395</td> <td>3.3                                       </td> <td>93.1                                                  </td> <td>144                                      </td>\n",
       "        </tr>\n",
       "        <tr>\n",
       "            <td>Lakshadweep (UT)  </td> <td>6    </td> <td>11   </td> <td>38   </td> <td>0                                         </td> <td>0.3                                                   </td> <td>115.2                                    </td>\n",
       "        </tr>\n",
       "        <tr>\n",
       "            <td>Puducherry (UT)   </td> <td>147  </td> <td>166  </td> <td>95   </td> <td>0                                         </td> <td>7.9                                                   </td> <td>12.1                                     </td>\n",
       "        </tr>\n",
       "        <tr>\n",
       "            <td>nan               </td> <td>nan  </td> <td>nan  </td> <td>nan  </td> <td>nan                                       </td> <td>nan                                                   </td> <td>nan                                      </td>\n",
       "        </tr>\n",
       "        <tr>\n",
       "            <td>nan               </td> <td>nan  </td> <td>nan  </td> <td>nan  </td> <td>nan                                       </td> <td>nan                                                   </td> <td>nan                                      </td>\n",
       "        </tr>\n",
       "        <tr>\n",
       "            <td>nan               </td> <td>nan  </td> <td>nan  </td> <td>nan  </td> <td>nan                                       </td> <td>nan                                                   </td> <td>nan                                      </td>\n",
       "        </tr>\n",
       "        <tr>\n",
       "            <td>nan               </td> <td>nan  </td> <td>nan  </td> <td>nan  </td> <td>nan                                       </td> <td>nan                                                   </td> <td>nan                                      </td>\n",
       "        </tr>\n",
       "    </tbody>\n",
       "</table>"
      ],
      "text/plain": [
       "<IPython.core.display.HTML object>"
      ]
     },
     "metadata": {},
     "output_type": "display_data"
    }
   ],
   "source": [
    "# When we reference this table later, notice that we can just call the variable states!\n",
    "\n",
    "states = Table.read_table(\"../data/Table 3A.1_2.csv\")\n",
    "states.show()"
   ]
  },
  {
   "cell_type": "markdown",
   "id": "3d9f5a1b",
   "metadata": {},
   "source": [
    "Here is our **city based dataset**."
   ]
  },
  {
   "cell_type": "markdown",
   "id": "04367860",
   "metadata": {},
   "source": [
    "Though the column names are quite similar in this dataset, why might it be helpful to also have city data in our analysis of gender-based violence in particular areas?"
   ]
  },
  {
   "cell_type": "markdown",
   "id": "de39f671",
   "metadata": {},
   "source": [
    "*Replace this text with your response!*"
   ]
  },
  {
   "cell_type": "code",
   "execution_count": 7,
   "id": "b688eb9f-d779-4ee3-8ec1-c8fa494f59ca",
   "metadata": {},
   "outputs": [
    {
     "data": {
      "text/html": [
       "<table border=\"1\" class=\"dataframe\">\n",
       "    <thead>\n",
       "        <tr>\n",
       "            <th>City</th> <th>2017</th> <th>2018</th> <th>2019</th> <th>Percentage City Share to Total (2019)</th> <th>Actual Population (in Lakhs) (2011)</th> <th>Rate of Total Crime Against Women\n",
       "(2019)+</th>\n",
       "        </tr>\n",
       "    </thead>\n",
       "    <tbody>\n",
       "        <tr>\n",
       "            <td>Ahmedabad\n",
       "(Gujarat)      </td> <td>1405 </td> <td>1416 </td> <td>1633 </td> <td>3.6                                  </td> <td>30                                 </td> <td>54.4                                     </td>\n",
       "        </tr>\n",
       "        <tr>\n",
       "            <td>Bengaluru\n",
       "(Karnataka)    </td> <td>3565 </td> <td>3427 </td> <td>3486 </td> <td>7.7                                  </td> <td>40.6                               </td> <td>85.9                                     </td>\n",
       "        </tr>\n",
       "        <tr>\n",
       "            <td>Chennai\n",
       "(Tamil Nadu)     </td> <td>642  </td> <td>761  </td> <td>729  </td> <td>1.6                                  </td> <td>43.1                               </td> <td>16.9                                     </td>\n",
       "        </tr>\n",
       "        <tr>\n",
       "            <td>Coimbatore\n",
       "(Tamil Nadu)  </td> <td>76   </td> <td>107  </td> <td>85   </td> <td>0.2                                  </td> <td>10.7                               </td> <td>7.9                                      </td>\n",
       "        </tr>\n",
       "        <tr>\n",
       "            <td>Delhi                    </td> <td>11542</td> <td>11724</td> <td>12902</td> <td>28.4                                 </td> <td>75.8                               </td> <td>170.3                                    </td>\n",
       "        </tr>\n",
       "        <tr>\n",
       "            <td>Ghaziabad\n",
       "(Uttar Pradesh)</td> <td>1166 </td> <td>1128 </td> <td>793  </td> <td>1.7                                  </td> <td>11                                 </td> <td>72                                       </td>\n",
       "        </tr>\n",
       "        <tr>\n",
       "            <td>Hyderabad\n",
       "(Telangana)    </td> <td>2272 </td> <td>2332 </td> <td>2755 </td> <td>6.1                                  </td> <td>37.6                               </td> <td>73.2                                     </td>\n",
       "        </tr>\n",
       "        <tr>\n",
       "            <td>Indore\n",
       "(Madhya Pradesh)  </td> <td>1349 </td> <td>1593 </td> <td>1755 </td> <td>3.9                                  </td> <td>10.4                               </td> <td>169.1                                    </td>\n",
       "        </tr>\n",
       "        <tr>\n",
       "            <td>Jaipur\n",
       "(Rajasthan)       </td> <td>1857 </td> <td>2030 </td> <td>3417 </td> <td>7.5                                  </td> <td>14.5                               </td> <td>235                                      </td>\n",
       "        </tr>\n",
       "        <tr>\n",
       "            <td>Kanpur\n",
       "(Uttar Pradesh)   </td> <td>1574 </td> <td>1574 </td> <td>1315 </td> <td>2.9                                  </td> <td>13.4                               </td> <td>98.5                                     </td>\n",
       "        </tr>\n",
       "        <tr>\n",
       "            <td>Kochi\n",
       "(Kerala)           </td> <td>535  </td> <td>537  </td> <td>492  </td> <td>1.1                                  </td> <td>10.8                               </td> <td>45.8                                     </td>\n",
       "        </tr>\n",
       "        <tr>\n",
       "            <td>Kolkata\n",
       "(West Bengal)    </td> <td>1975 </td> <td>2176 </td> <td>2176 </td> <td>4.8                                  </td> <td>67.9                               </td> <td>32                                       </td>\n",
       "        </tr>\n",
       "        <tr>\n",
       "            <td>Kozhikode\n",
       "(Kerala)       </td> <td>347  </td> <td>349  </td> <td>473  </td> <td>1                                    </td> <td>10.6                               </td> <td>44.4                                     </td>\n",
       "        </tr>\n",
       "        <tr>\n",
       "            <td>Lucknow\n",
       "(Uttar Pradesh)  </td> <td>2468 </td> <td>2736 </td> <td>2425 </td> <td>5.3                                  </td> <td>13.8                               </td> <td>175.4                                    </td>\n",
       "        </tr>\n",
       "        <tr>\n",
       "            <td>Mumbai\n",
       "(Maharashtra)     </td> <td>5453 </td> <td>6058 </td> <td>6519 </td> <td>14.3                                 </td> <td>85.2                               </td> <td>76.5                                     </td>\n",
       "        </tr>\n",
       "        <tr>\n",
       "            <td>Nagpur\n",
       "(Maharashtra)     </td> <td>1152 </td> <td>1083 </td> <td>1144 </td> <td>2.5                                  </td> <td>12.2                               </td> <td>93.6                                     </td>\n",
       "        </tr>\n",
       "        <tr>\n",
       "            <td>Patna\n",
       "(Bihar)            </td> <td>870  </td> <td>956  </td> <td>981  </td> <td>2.2                                  </td> <td>9.6                                </td> <td>102.3                                    </td>\n",
       "        </tr>\n",
       "        <tr>\n",
       "            <td>Pune\n",
       "(Maharashtra)       </td> <td>2032 </td> <td>1481 </td> <td>1390 </td> <td>3.1                                  </td> <td>23.9                               </td> <td>58.1                                     </td>\n",
       "        </tr>\n",
       "        <tr>\n",
       "            <td>Surat\n",
       "(Gujarat)          </td> <td>559  </td> <td>712  </td> <td>1015 </td> <td>2.2                                  </td> <td>19.7                               </td> <td>51.5                                     </td>\n",
       "        </tr>\n",
       "    </tbody>\n",
       "</table>"
      ],
      "text/plain": [
       "<IPython.core.display.HTML object>"
      ]
     },
     "metadata": {},
     "output_type": "display_data"
    }
   ],
   "source": [
    "# Again, we can reference this city table later using just the variable cities.\n",
    "cities.show()"
   ]
  },
  {
   "cell_type": "markdown",
   "id": "f510a680",
   "metadata": {},
   "source": [
    "What differences do you see between the two tables (apart from the fact that one is based on states/union territories and one is based on cities)?"
   ]
  },
  {
   "cell_type": "markdown",
   "id": "11a129ce",
   "metadata": {},
   "source": [
    "*Replace this text with your response!*"
   ]
  },
  {
   "cell_type": "markdown",
   "id": "84d305e3",
   "metadata": {},
   "source": [
    "### Features of our Data"
   ]
  },
  {
   "cell_type": "markdown",
   "id": "f3bdddd8",
   "metadata": {},
   "source": [
    "Using some of our basic Python knowledge and one of our given datasets (specifically, the **state & union territory dataset**), let's see what baseline facts we can gain."
   ]
  },
  {
   "cell_type": "code",
   "execution_count": 8,
   "id": "d4645de9-e248-4221-8294-d2a3146fb309",
   "metadata": {},
   "outputs": [
    {
     "name": "stdout",
     "output_type": "stream",
     "text": [
      "36\n",
      "10\n"
     ]
    }
   ],
   "source": [
    "# First, let's see if we can find the number of rows and columns from our table states.\n",
    "\n",
    "print(states.num_rows)\n",
    "print(states.num_columns)"
   ]
  },
  {
   "cell_type": "markdown",
   "id": "8f4c49fe",
   "metadata": {},
   "source": [
    "What does **.num_rows** represent for this dataset? What does **.num_columns** represent?"
   ]
  },
  {
   "cell_type": "markdown",
   "id": "ed6d812b",
   "metadata": {},
   "source": [
    "*Replace this text with your response!*"
   ]
  },
  {
   "cell_type": "markdown",
   "id": "40312324",
   "metadata": {},
   "source": [
    "Now we're going to go through a couple of useful functionalities that will be helpful later when we do more complex functionalities (i.e. graphing data from one column, comparing data from 2 different columns, etc). "
   ]
  },
  {
   "cell_type": "code",
   "execution_count": 9,
   "id": "269e3472",
   "metadata": {},
   "outputs": [
    {
     "data": {
      "text/plain": [
       "('State/UT',\n",
       " '2017 Crimes',\n",
       " '2018 Crimes',\n",
       " '2019 Crimes',\n",
       " 'Percentage State Share to Total (2019)',\n",
       " 'Mid-Year Projected Female Population (in lakhs) (2019)',\n",
       " 'Rate of Total Crime Against Women (2019)',\n",
       " '2018-2019 GDP Per Capita ($)',\n",
       " '2018-2019 Unemployment Rate (%)',\n",
       " '2021 Literacy Rate (%)')"
      ]
     },
     "execution_count": 9,
     "metadata": {},
     "output_type": "execute_result"
    }
   ],
   "source": [
    "# Let's look at the column names of this datset.\n",
    "# Notice that we can do this with the following command. This produces a tuple, a form of a list, with all of the \n",
    "# column names.\n",
    "\n",
    "states.labels"
   ]
  },
  {
   "cell_type": "code",
   "execution_count": 10,
   "id": "2f69440b",
   "metadata": {},
   "outputs": [
    {
     "data": {
      "text/html": [
       "<table border=\"1\" class=\"dataframe\">\n",
       "    <thead>\n",
       "        <tr>\n",
       "            <th>State/UT</th>\n",
       "        </tr>\n",
       "    </thead>\n",
       "    <tbody>\n",
       "        <tr>\n",
       "            <td>Andhra Pradesh   </td>\n",
       "        </tr>\n",
       "        <tr>\n",
       "            <td>Arunachal Pradesh</td>\n",
       "        </tr>\n",
       "        <tr>\n",
       "            <td>Assam            </td>\n",
       "        </tr>\n",
       "        <tr>\n",
       "            <td>Bihar            </td>\n",
       "        </tr>\n",
       "        <tr>\n",
       "            <td>Chhattisgarh     </td>\n",
       "        </tr>\n",
       "        <tr>\n",
       "            <td>Goa              </td>\n",
       "        </tr>\n",
       "        <tr>\n",
       "            <td>Gujarat          </td>\n",
       "        </tr>\n",
       "        <tr>\n",
       "            <td>Haryana          </td>\n",
       "        </tr>\n",
       "        <tr>\n",
       "            <td>Himachal Pradesh </td>\n",
       "        </tr>\n",
       "        <tr>\n",
       "            <td>Jammu & Kashmir  </td>\n",
       "        </tr>\n",
       "    </tbody>\n",
       "</table>\n",
       "<p>... (26 rows omitted)</p>"
      ],
      "text/plain": [
       "State/UT\n",
       "Andhra Pradesh\n",
       "Arunachal Pradesh\n",
       "Assam\n",
       "Bihar\n",
       "Chhattisgarh\n",
       "Goa\n",
       "Gujarat\n",
       "Haryana\n",
       "Himachal Pradesh\n",
       "Jammu & Kashmir\n",
       "... (26 rows omitted)"
      ]
     },
     "execution_count": 10,
     "metadata": {},
     "output_type": "execute_result"
    }
   ],
   "source": [
    "# We can also select one of these columns and look at all of the data in that column! We will need to specify a \n",
    "# column in parentheses, like this:\n",
    "\n",
    "states.select(\"State/UT\")"
   ]
  },
  {
   "cell_type": "code",
   "execution_count": 11,
   "id": "11cadf3a",
   "metadata": {},
   "outputs": [
    {
     "data": {
      "text/plain": [
       "array(['Andhra Pradesh', 'Arunachal Pradesh', 'Assam', 'Bihar',\n",
       "       'Chhattisgarh', 'Goa', 'Gujarat', 'Haryana', 'Himachal Pradesh',\n",
       "       'Jammu & Kashmir', 'Jharkhand', 'Karnataka', 'Kerala',\n",
       "       'Madhya Pradesh', 'Maharashtra', 'Manipur', 'Meghalaya', 'Mizoram',\n",
       "       'Nagaland', 'Odisha', 'Punjab', 'Rajasthan', 'Sikkim',\n",
       "       'Tamil Nadu', 'Telangana', 'Tripura', 'Uttar Pradesh',\n",
       "       'Uttarakhand', 'West Bengal', 'A & N Islands (UT)',\n",
       "       'Chandigarh (UT)', 'D&N Haveli (UT)', 'Daman & Diu (UT)',\n",
       "       'Delhi (UT)', 'Lakshadweep (UT)', 'Puducherry (UT)'], dtype='<U18')"
      ]
     },
     "execution_count": 11,
     "metadata": {},
     "output_type": "execute_result"
    }
   ],
   "source": [
    "# If you wanted a column in array form (another type of list), you can also call .column on the table, like this:\n",
    "\n",
    "states.column(\"State/UT\")"
   ]
  },
  {
   "cell_type": "markdown",
   "id": "fbaac3d4",
   "metadata": {},
   "source": [
    "We can even see which state/union territory has the greatest and smallest rate of total crime against women in 2019 - practically instantaneously! We can even see the other attributes of the table along with this information."
   ]
  },
  {
   "cell_type": "code",
   "execution_count": 14,
   "id": "371ab87b",
   "metadata": {},
   "outputs": [
    {
     "data": {
      "text/html": [
       "<table border=\"1\" class=\"dataframe\">\n",
       "    <thead>\n",
       "        <tr>\n",
       "            <th>State/UT</th> <th>2017 Crimes</th> <th>2018 Crimes</th> <th>2019 Crimes</th> <th>Percentage State Share to Total (2019)</th> <th>Mid-Year Projected Female Population (in lakhs) (2019)</th> <th>Rate of Total Crime Against Women (2019)</th> <th>2018-2019 GDP Per Capita ($)</th> <th>2018-2019 Unemployment Rate (%)</th> <th>2021 Literacy Rate (%)</th>\n",
       "        </tr>\n",
       "    </thead>\n",
       "    <tbody>\n",
       "        <tr>\n",
       "            <td>Assam   </td> <td>23082      </td> <td>27687      </td> <td>30025      </td> <td>7.4                                   </td> <td>168.9                                                 </td> <td>177.8                                   </td> <td>1365                        </td> <td>10.7                           </td> <td>72.19                 </td>\n",
       "        </tr>\n",
       "    </tbody>\n",
       "</table>"
      ],
      "text/plain": [
       "State/UT | 2017 Crimes | 2018 Crimes | 2019 Crimes | Percentage State Share to Total (2019) | Mid-Year Projected Female Population (in lakhs) (2019) | Rate of Total Crime Against Women (2019) | 2018-2019 GDP Per Capita ($) | 2018-2019 Unemployment Rate (%) | 2021 Literacy Rate (%)\n",
       "Assam    | 23082       | 27687       | 30025       | 7.4                                    | 168.9                                                  | 177.8                                    | 1365                         | 10.7                            | 72.19"
      ]
     },
     "execution_count": 14,
     "metadata": {},
     "output_type": "execute_result"
    }
   ],
   "source": [
    "# Greatest rate of total crime against women in 2019+\n",
    "\n",
    "# Writing a variable for the column \"Rate of Total Crime against Women (2019)+\"\n",
    "total_crime = states.column(\"Rate of Total Crime Against Women (2019)\")\n",
    "\n",
    "# Using total_crime & .where to see where in the table's column the max of the column is; are.equal_to is a comparison\n",
    "# predicate to find, within a column, where a value or data point is equal to a certain number.\n",
    "states.where(total_crime, are.equal_to(max(total_crime)))"
   ]
  },
  {
   "cell_type": "code",
   "execution_count": 15,
   "id": "f0948508",
   "metadata": {},
   "outputs": [
    {
     "data": {
      "text/html": [
       "<table border=\"1\" class=\"dataframe\">\n",
       "    <thead>\n",
       "        <tr>\n",
       "            <th>State/UT</th> <th>2017 Crimes</th> <th>2018 Crimes</th> <th>2019 Crimes</th> <th>Percentage State Share to Total (2019)</th> <th>Mid-Year Projected Female Population (in lakhs) (2019)</th> <th>Rate of Total Crime Against Women (2019)</th> <th>2018-2019 GDP Per Capita ($)</th> <th>2018-2019 Unemployment Rate (%)</th> <th>2021 Literacy Rate (%)</th>\n",
       "        </tr>\n",
       "    </thead>\n",
       "    <tbody>\n",
       "        <tr>\n",
       "            <td>Nagaland</td> <td>79         </td> <td>75         </td> <td>43         </td> <td>0                                     </td> <td>10.4                                                  </td> <td>4.1                                     </td> <td>1918                        </td> <td>21.1                           </td> <td>79.55                 </td>\n",
       "        </tr>\n",
       "    </tbody>\n",
       "</table>"
      ],
      "text/plain": [
       "State/UT | 2017 Crimes | 2018 Crimes | 2019 Crimes | Percentage State Share to Total (2019) | Mid-Year Projected Female Population (in lakhs) (2019) | Rate of Total Crime Against Women (2019) | 2018-2019 GDP Per Capita ($) | 2018-2019 Unemployment Rate (%) | 2021 Literacy Rate (%)\n",
       "Nagaland | 79          | 75          | 43          | 0                                      | 10.4                                                   | 4.1                                      | 1918                         | 21.1                            | 79.55"
      ]
     },
     "execution_count": 15,
     "metadata": {},
     "output_type": "execute_result"
    }
   ],
   "source": [
    "# Lowest rate of total crime against women in 2019+\n",
    "\n",
    "total_crime = states.column(\"Rate of Total Crime Against Women (2019)\")\n",
    "\n",
    "states.where(total_crime, are.equal_to(min(total_crime)))"
   ]
  },
  {
   "cell_type": "markdown",
   "id": "8a4717d5",
   "metadata": {},
   "source": [
    "Looking at the data as a whole, what can we conclude about why the rate of total crime against women (2019)+ is higher in Assam than in Nagaland? What other attributes of the table contribute to that conclusion?"
   ]
  },
  {
   "cell_type": "markdown",
   "id": "94e9bf93",
   "metadata": {},
   "source": [
    "*Replace this text with your response!*"
   ]
  },
  {
   "cell_type": "markdown",
   "id": "0aa56c8f",
   "metadata": {},
   "source": [
    "Let's also try and create sorted tables that show the rate of total crime against women for each dataset in descending order. We can do this using the **.sort method**."
   ]
  },
  {
   "cell_type": "code",
   "execution_count": 16,
   "id": "3e8c01cd",
   "metadata": {},
   "outputs": [
    {
     "data": {
      "text/html": [
       "<table border=\"1\" class=\"dataframe\">\n",
       "    <thead>\n",
       "        <tr>\n",
       "            <th>State/UT</th> <th>2017 Crimes</th> <th>2018 Crimes</th> <th>2019 Crimes</th> <th>Percentage State Share to Total (2019)</th> <th>Mid-Year Projected Female Population (in lakhs) (2019)</th> <th>Rate of Total Crime Against Women (2019)</th> <th>2018-2019 GDP Per Capita ($)</th> <th>2018-2019 Unemployment Rate (%)</th> <th>2021 Literacy Rate (%)</th>\n",
       "        </tr>\n",
       "    </thead>\n",
       "    <tbody>\n",
       "        <tr>\n",
       "            <td>Assam             </td> <td>23082      </td> <td>27687      </td> <td>30025      </td> <td>7.4                                   </td> <td>168.9                                                 </td> <td>177.8                                   </td> <td>1365                        </td> <td>10.7                           </td> <td>72.19                 </td>\n",
       "        </tr>\n",
       "        <tr>\n",
       "            <td>Delhi (UT)        </td> <td>13076      </td> <td>13640      </td> <td>13395      </td> <td>3.3                                   </td> <td>93.1                                                  </td> <td>144                                     </td> <td>5817                        </td> <td>10.8                           </td> <td>86.21                 </td>\n",
       "        </tr>\n",
       "        <tr>\n",
       "            <td>Lakshadweep (UT)  </td> <td>6          </td> <td>11         </td> <td>38         </td> <td>0                                     </td> <td>0.3                                                   </td> <td>115.2                                   </td> <td>931                         </td> <td>28.6                           </td> <td>91.85                 </td>\n",
       "        </tr>\n",
       "        <tr>\n",
       "            <td>Rajasthan         </td> <td>25993      </td> <td>27866      </td> <td>41550      </td> <td>10.2                                  </td> <td>376.4                                                 </td> <td>110.4                                   </td> <td>1820                        </td> <td>9.5                            </td> <td>66.11                 </td>\n",
       "        </tr>\n",
       "        <tr>\n",
       "            <td>Haryana           </td> <td>11370      </td> <td>14326      </td> <td>14683      </td> <td>3.6                                   </td> <td>135.3                                                 </td> <td>108.5                                   </td> <td>3840                        </td> <td>8.7                            </td> <td>75.55                 </td>\n",
       "        </tr>\n",
       "        <tr>\n",
       "            <td>Odisha            </td> <td>20098      </td> <td>20274      </td> <td>23183      </td> <td>5.7                                   </td> <td>223.9                                                 </td> <td>103.5                                   </td> <td>1651                        </td> <td>12.7                           </td> <td>72.87                 </td>\n",
       "        </tr>\n",
       "        <tr>\n",
       "            <td>Telangana         </td> <td>17521      </td> <td>16027      </td> <td>18394      </td> <td>4.5                                   </td> <td>185.3                                                 </td> <td>99.3                                    </td> <td>3321                        </td> <td>11.2                           </td> <td>66.54                 </td>\n",
       "        </tr>\n",
       "        <tr>\n",
       "            <td>Chandigarh (UT)   </td> <td>453        </td> <td>442        </td> <td>515        </td> <td>0.1                                   </td> <td>5.4                                                   </td> <td>95.2                                    </td> <td>5297                        </td> <td>8.2                            </td> <td>86.05                 </td>\n",
       "        </tr>\n",
       "        <tr>\n",
       "            <td>A & N Islands (UT)</td> <td>132        </td> <td>147        </td> <td>135        </td> <td>0                                     </td> <td>1.9                                                   </td> <td>72.2                                    </td> <td>3321                        </td> <td>12                             </td> <td>86.63                 </td>\n",
       "        </tr>\n",
       "        <tr>\n",
       "            <td>Madhya Pradesh    </td> <td>29788      </td> <td>28942      </td> <td>27560      </td> <td>6.8                                   </td> <td>399.6                                                 </td> <td>69                                      </td> <td>1461                        </td> <td>7.4                            </td> <td>69.32                 </td>\n",
       "        </tr>\n",
       "    </tbody>\n",
       "</table>\n",
       "<p>... (26 rows omitted)</p>"
      ],
      "text/plain": [
       "State/UT           | 2017 Crimes | 2018 Crimes | 2019 Crimes | Percentage State Share to Total (2019) | Mid-Year Projected Female Population (in lakhs) (2019) | Rate of Total Crime Against Women (2019) | 2018-2019 GDP Per Capita ($) | 2018-2019 Unemployment Rate (%) | 2021 Literacy Rate (%)\n",
       "Assam              | 23082       | 27687       | 30025       | 7.4                                    | 168.9                                                  | 177.8                                    | 1365                         | 10.7                            | 72.19\n",
       "Delhi (UT)         | 13076       | 13640       | 13395       | 3.3                                    | 93.1                                                   | 144                                      | 5817                         | 10.8                            | 86.21\n",
       "Lakshadweep (UT)   | 6           | 11          | 38          | 0                                      | 0.3                                                    | 115.2                                    | 931                          | 28.6                            | 91.85\n",
       "Rajasthan          | 25993       | 27866       | 41550       | 10.2                                   | 376.4                                                  | 110.4                                    | 1820                         | 9.5                             | 66.11\n",
       "Haryana            | 11370       | 14326       | 14683       | 3.6                                    | 135.3                                                  | 108.5                                    | 3840                         | 8.7                             | 75.55\n",
       "Odisha             | 20098       | 20274       | 23183       | 5.7                                    | 223.9                                                  | 103.5                                    | 1651                         | 12.7                            | 72.87\n",
       "Telangana          | 17521       | 16027       | 18394       | 4.5                                    | 185.3                                                  | 99.3                                     | 3321                         | 11.2                            | 66.54\n",
       "Chandigarh (UT)    | 453         | 442         | 515         | 0.1                                    | 5.4                                                    | 95.2                                     | 5297                         | 8.2                             | 86.05\n",
       "A & N Islands (UT) | 132         | 147         | 135         | 0                                      | 1.9                                                    | 72.2                                     | 3321                         | 12                              | 86.63\n",
       "Madhya Pradesh     | 29788       | 28942       | 27560       | 6.8                                    | 399.6                                                  | 69                                       | 1461                         | 7.4                             | 69.32\n",
       "... (26 rows omitted)"
      ]
     },
     "execution_count": 16,
     "metadata": {},
     "output_type": "execute_result"
    }
   ],
   "source": [
    "# States/UT table with rate of total crime against women in descending order\n",
    "descending_crime_states = states.sort(\"Rate of Total Crime Against Women (2019)\", descending = True)\n",
    "descending_crime_states"
   ]
  },
  {
   "cell_type": "code",
   "execution_count": 18,
   "id": "7be082be",
   "metadata": {},
   "outputs": [
    {
     "data": {
      "text/html": [
       "<table border=\"1\" class=\"dataframe\">\n",
       "    <thead>\n",
       "        <tr>\n",
       "            <th>City</th> <th>2017</th> <th>2018</th> <th>2019</th> <th>Percentage City Share to Total (2019)</th> <th>Actual Population (in Lakhs) (2011)</th> <th>Rate of Total Crime Against Women\n",
       "(2019)+</th>\n",
       "        </tr>\n",
       "    </thead>\n",
       "    <tbody>\n",
       "        <tr>\n",
       "            <td>Jaipur\n",
       "(Rajasthan)     </td> <td>1857 </td> <td>2030 </td> <td>3417 </td> <td>7.5                                  </td> <td>14.5                               </td> <td>235                                      </td>\n",
       "        </tr>\n",
       "        <tr>\n",
       "            <td>Lucknow\n",
       "(Uttar Pradesh)</td> <td>2468 </td> <td>2736 </td> <td>2425 </td> <td>5.3                                  </td> <td>13.8                               </td> <td>175.4                                    </td>\n",
       "        </tr>\n",
       "        <tr>\n",
       "            <td>Delhi                  </td> <td>11542</td> <td>11724</td> <td>12902</td> <td>28.4                                 </td> <td>75.8                               </td> <td>170.3                                    </td>\n",
       "        </tr>\n",
       "        <tr>\n",
       "            <td>Indore\n",
       "(Madhya Pradesh)</td> <td>1349 </td> <td>1593 </td> <td>1755 </td> <td>3.9                                  </td> <td>10.4                               </td> <td>169.1                                    </td>\n",
       "        </tr>\n",
       "        <tr>\n",
       "            <td>Patna\n",
       "(Bihar)          </td> <td>870  </td> <td>956  </td> <td>981  </td> <td>2.2                                  </td> <td>9.6                                </td> <td>102.3                                    </td>\n",
       "        </tr>\n",
       "        <tr>\n",
       "            <td>Kanpur\n",
       "(Uttar Pradesh) </td> <td>1574 </td> <td>1574 </td> <td>1315 </td> <td>2.9                                  </td> <td>13.4                               </td> <td>98.5                                     </td>\n",
       "        </tr>\n",
       "        <tr>\n",
       "            <td>Nagpur\n",
       "(Maharashtra)   </td> <td>1152 </td> <td>1083 </td> <td>1144 </td> <td>2.5                                  </td> <td>12.2                               </td> <td>93.6                                     </td>\n",
       "        </tr>\n",
       "        <tr>\n",
       "            <td>Bengaluru\n",
       "(Karnataka)  </td> <td>3565 </td> <td>3427 </td> <td>3486 </td> <td>7.7                                  </td> <td>40.6                               </td> <td>85.9                                     </td>\n",
       "        </tr>\n",
       "        <tr>\n",
       "            <td>Mumbai\n",
       "(Maharashtra)   </td> <td>5453 </td> <td>6058 </td> <td>6519 </td> <td>14.3                                 </td> <td>85.2                               </td> <td>76.5                                     </td>\n",
       "        </tr>\n",
       "        <tr>\n",
       "            <td>Hyderabad\n",
       "(Telangana)  </td> <td>2272 </td> <td>2332 </td> <td>2755 </td> <td>6.1                                  </td> <td>37.6                               </td> <td>73.2                                     </td>\n",
       "        </tr>\n",
       "    </tbody>\n",
       "</table>\n",
       "<p>... (9 rows omitted)</p>"
      ],
      "text/plain": [
       "City                    | 2017  | 2018  | 2019  | Percentage City Share to Total (2019) | Actual Population (in Lakhs) (2011) | Rate of Total Crime Against Women\n",
       "(2019)+\n",
       "Jaipur\n",
       "(Rajasthan)      | 1857  | 2030  | 3417  | 7.5                                   | 14.5                                | 235\n",
       "Lucknow\n",
       "(Uttar Pradesh) | 2468  | 2736  | 2425  | 5.3                                   | 13.8                                | 175.4\n",
       "Delhi                   | 11542 | 11724 | 12902 | 28.4                                  | 75.8                                | 170.3\n",
       "Indore\n",
       "(Madhya Pradesh) | 1349  | 1593  | 1755  | 3.9                                   | 10.4                                | 169.1\n",
       "Patna\n",
       "(Bihar)           | 870   | 956   | 981   | 2.2                                   | 9.6                                 | 102.3\n",
       "Kanpur\n",
       "(Uttar Pradesh)  | 1574  | 1574  | 1315  | 2.9                                   | 13.4                                | 98.5\n",
       "Nagpur\n",
       "(Maharashtra)    | 1152  | 1083  | 1144  | 2.5                                   | 12.2                                | 93.6\n",
       "Bengaluru\n",
       "(Karnataka)   | 3565  | 3427  | 3486  | 7.7                                   | 40.6                                | 85.9\n",
       "Mumbai\n",
       "(Maharashtra)    | 5453  | 6058  | 6519  | 14.3                                  | 85.2                                | 76.5\n",
       "Hyderabad\n",
       "(Telangana)   | 2272  | 2332  | 2755  | 6.1                                   | 37.6                                | 73.2\n",
       "... (9 rows omitted)"
      ]
     },
     "execution_count": 18,
     "metadata": {},
     "output_type": "execute_result"
    }
   ],
   "source": [
    "# Cities table with rate of total crime against women in descending order\n",
    "descending_crime_cities = cities.sort(\"Rate of Total Crime Against Women\\n(2019)+\", descending = True)\n",
    "descending_crime_cities"
   ]
  },
  {
   "cell_type": "markdown",
   "id": "7afad6cb",
   "metadata": {},
   "source": [
    "### Data Cleaning & Additional Data"
   ]
  },
  {
   "cell_type": "markdown",
   "id": "3f860f16",
   "metadata": {},
   "source": [
    "While we do have a great deal of data, we thought that it would be beneficial to also add in new columns for one of our datasets - specifically, the dataset focusing on states. That way, we can compare other inequalities (in our case, literacy rates and unemployment rates) with the rate of total crime against women."
   ]
  },
  {
   "cell_type": "markdown",
   "id": "4a2a87d8",
   "metadata": {},
   "source": [
    "(You may have also noticed that there were a couple of rows in the \"States\" dataset that were showing a weird value: nan. To avoid that problem, we also data cleaned those rows in a separate dataset.)"
   ]
  },
  {
   "cell_type": "code",
   "execution_count": 5,
   "id": "509f7689",
   "metadata": {},
   "outputs": [
    {
     "data": {
      "text/html": [
       "<table border=\"1\" class=\"dataframe\">\n",
       "    <thead>\n",
       "        <tr>\n",
       "            <th>State/UT</th> <th>2017 Crimes</th> <th>2018 Crimes</th> <th>2019 Crimes</th> <th>Percentage State Share to Total (2019)</th> <th>Mid-Year Projected Female Population (in lakhs) (2019)</th> <th>Rate of Total Crime Against Women (2019)</th> <th>2018-2019 GDP Per Capita ($)</th> <th>2018-2019 Unemployment Rate (%)</th> <th>2021 Literacy Rate (%)</th>\n",
       "        </tr>\n",
       "    </thead>\n",
       "    <tbody>\n",
       "        <tr>\n",
       "            <td>Andhra Pradesh    </td> <td>17909      </td> <td>16438      </td> <td>17746      </td> <td>4.4                                   </td> <td>261.4                                                 </td> <td>67.9                                    </td> <td>2480                        </td> <td>7.3                            </td> <td>67.02                 </td>\n",
       "        </tr>\n",
       "        <tr>\n",
       "            <td>Arunachal Pradesh </td> <td>337        </td> <td>368        </td> <td>317        </td> <td>0.1                                   </td> <td>7.3                                                   </td> <td>43.3                                    </td> <td>2253                        </td> <td>11.1                           </td> <td>65.38                 </td>\n",
       "        </tr>\n",
       "        <tr>\n",
       "            <td>Assam             </td> <td>23082      </td> <td>27687      </td> <td>30025      </td> <td>7.4                                   </td> <td>168.9                                                 </td> <td>177.8                                   </td> <td>1365                        </td> <td>10.7                           </td> <td>72.19                 </td>\n",
       "        </tr>\n",
       "        <tr>\n",
       "            <td>Bihar             </td> <td>14711      </td> <td>16920      </td> <td>18587      </td> <td>4.6                                   </td> <td>576.2                                                 </td> <td>32.3                                    </td> <td>659                         </td> <td>10.5                           </td> <td>61.8                  </td>\n",
       "        </tr>\n",
       "        <tr>\n",
       "            <td>Chhattisgarh      </td> <td>7996       </td> <td>8587       </td> <td>7689       </td> <td>1.9                                   </td> <td>143.8                                                 </td> <td>53.5                                    </td> <td>1555                        </td> <td>5.5                            </td> <td>70.28                 </td>\n",
       "        </tr>\n",
       "        <tr>\n",
       "            <td>Goa               </td> <td>369        </td> <td>362        </td> <td>329        </td> <td>0.1                                   </td> <td>7.6                                                   </td> <td>43.1                                    </td> <td>7029                        </td> <td>9.1                            </td> <td>88.7                  </td>\n",
       "        </tr>\n",
       "        <tr>\n",
       "            <td>Gujarat           </td> <td>8133       </td> <td>8329       </td> <td>8799       </td> <td>2.2                                   </td> <td>324.9                                                 </td> <td>27.1                                    </td> <td>3283                        </td> <td>3.2                            </td> <td>78.03                 </td>\n",
       "        </tr>\n",
       "        <tr>\n",
       "            <td>Haryana           </td> <td>11370      </td> <td>14326      </td> <td>14683      </td> <td>3.6                                   </td> <td>135.3                                                 </td> <td>108.5                                   </td> <td>3840                        </td> <td>8.7                            </td> <td>75.55                 </td>\n",
       "        </tr>\n",
       "        <tr>\n",
       "            <td>Himachal Pradesh  </td> <td>1246       </td> <td>1633       </td> <td>1636       </td> <td>0.4                                   </td> <td>36.1                                                  </td> <td>45.4                                    </td> <td>3118                        </td> <td>8.8                            </td> <td>82.8                  </td>\n",
       "        </tr>\n",
       "        <tr>\n",
       "            <td>Jammu & Kashmir   </td> <td>3129       </td> <td>3437       </td> <td>3069       </td> <td>0.8                                   </td> <td>64.2                                                  </td> <td>47.8                                    </td> <td>1636                        </td> <td>10.1                           </td> <td>67.16                 </td>\n",
       "        </tr>\n",
       "        <tr>\n",
       "            <td>Jharkhand         </td> <td>5911       </td> <td>7083       </td> <td>8760       </td> <td>2.2                                   </td> <td>183.3                                                 </td> <td>47.8                                    </td> <td>1179                        </td> <td>8.7                            </td> <td>66.41                 </td>\n",
       "        </tr>\n",
       "        <tr>\n",
       "            <td>Karnataka         </td> <td>14078      </td> <td>13514      </td> <td>13828      </td> <td>3.4                                   </td> <td>325.1                                                 </td> <td>42.5                                    </td> <td>3359                        </td> <td>5.2                            </td> <td>75.36                 </td>\n",
       "        </tr>\n",
       "        <tr>\n",
       "            <td>Kerala            </td> <td>11057      </td> <td>10461      </td> <td>11462      </td> <td>2.8                                   </td> <td>182.9                                                 </td> <td>62.7                                    </td> <td>3327                        </td> <td>9.7                            </td> <td>94                    </td>\n",
       "        </tr>\n",
       "        <tr>\n",
       "            <td>Madhya Pradesh    </td> <td>29788      </td> <td>28942      </td> <td>27560      </td> <td>6.8                                   </td> <td>399.6                                                 </td> <td>69                                      </td> <td>1461                        </td> <td>7.4                            </td> <td>69.32                 </td>\n",
       "        </tr>\n",
       "        <tr>\n",
       "            <td>Maharashtra       </td> <td>31979      </td> <td>35497      </td> <td>37144      </td> <td>9.2                                   </td> <td>588.5                                                 </td> <td>63.1                                    </td> <td>3193                        </td> <td>6.4                            </td> <td>82.34                 </td>\n",
       "        </tr>\n",
       "        <tr>\n",
       "            <td>Manipur           </td> <td>236        </td> <td>271        </td> <td>266        </td> <td>0.1                                   </td> <td>15.5                                                  </td> <td>17.2                                    </td> <td>1222                        </td> <td>9.2                            </td> <td>76.94                 </td>\n",
       "        </tr>\n",
       "        <tr>\n",
       "            <td>Meghalaya         </td> <td>567        </td> <td>571        </td> <td>558        </td> <td>0.1                                   </td> <td>16.1                                                  </td> <td>34.6                                    </td> <td>1417                        </td> <td>7.5                            </td> <td>74.43                 </td>\n",
       "        </tr>\n",
       "        <tr>\n",
       "            <td>Mizoram           </td> <td>301        </td> <td>249        </td> <td>170        </td> <td>0                                     </td> <td>5.9                                                   </td> <td>28.7                                    </td> <td>2773                        </td> <td>9.1                            </td> <td>91.33                 </td>\n",
       "        </tr>\n",
       "        <tr>\n",
       "            <td>Nagaland          </td> <td>79         </td> <td>75         </td> <td>43         </td> <td>0                                     </td> <td>10.4                                                  </td> <td>4.1                                     </td> <td>1918                        </td> <td>21.1                           </td> <td>79.55                 </td>\n",
       "        </tr>\n",
       "        <tr>\n",
       "            <td>Odisha            </td> <td>20098      </td> <td>20274      </td> <td>23183      </td> <td>5.7                                   </td> <td>223.9                                                 </td> <td>103.5                                   </td> <td>1651                        </td> <td>12.7                           </td> <td>72.87                 </td>\n",
       "        </tr>\n",
       "        <tr>\n",
       "            <td>Punjab            </td> <td>4620       </td> <td>5302       </td> <td>5886       </td> <td>1.5                                   </td> <td>141.9                                                 </td> <td>41.5                                    </td> <td>2536                        </td> <td>7                              </td> <td>75.84                 </td>\n",
       "        </tr>\n",
       "        <tr>\n",
       "            <td>Rajasthan         </td> <td>25993      </td> <td>27866      </td> <td>41550      </td> <td>10.2                                  </td> <td>376.4                                                 </td> <td>110.4                                   </td> <td>1820                        </td> <td>9.5                            </td> <td>66.11                 </td>\n",
       "        </tr>\n",
       "        <tr>\n",
       "            <td>Sikkim            </td> <td>163        </td> <td>172        </td> <td>125        </td> <td>0                                     </td> <td>3.1                                                   </td> <td>39.8                                    </td> <td>6421                        </td> <td>4.9                            </td> <td>81.42                 </td>\n",
       "        </tr>\n",
       "        <tr>\n",
       "            <td>Tamil Nadu        </td> <td>5397       </td> <td>5822       </td> <td>5934       </td> <td>1.5                                   </td> <td>379.2                                                 </td> <td>15.6                                    </td> <td>3184                        </td> <td>6.7                            </td> <td>80.09                 </td>\n",
       "        </tr>\n",
       "        <tr>\n",
       "            <td>Telangana         </td> <td>17521      </td> <td>16027      </td> <td>18394      </td> <td>4.5                                   </td> <td>185.3                                                 </td> <td>99.3                                    </td> <td>3321                        </td> <td>11.2                           </td> <td>66.54                 </td>\n",
       "        </tr>\n",
       "        <tr>\n",
       "            <td>Tripura           </td> <td>972        </td> <td>907        </td> <td>1070       </td> <td>0.3                                   </td> <td>19.7                                                  </td> <td>54.5                                    </td> <td>1851                        </td> <td>13.5                           </td> <td>87.22                 </td>\n",
       "        </tr>\n",
       "        <tr>\n",
       "            <td>Uttar Pradesh     </td> <td>56011      </td> <td>59445      </td> <td>59853      </td> <td>14.7                                  </td> <td>1081.4                                                </td> <td>55.4                                    </td> <td>1043                        </td> <td>10.6                           </td> <td>67.68                 </td>\n",
       "        </tr>\n",
       "        <tr>\n",
       "            <td>Uttarakhand       </td> <td>1944       </td> <td>2817       </td> <td>2541       </td> <td>0.6                                   </td> <td>54.6                                                  </td> <td>46.5                                    </td> <td>3250                        </td> <td>13.4                           </td> <td>78.82                 </td>\n",
       "        </tr>\n",
       "        <tr>\n",
       "            <td>West Bengal       </td> <td>30992      </td> <td>30394      </td> <td>30394      </td> <td>7.5                                   </td> <td>474.9                                                 </td> <td>64                                      </td> <td>1634                        </td> <td>4.9                            </td> <td>76.26                 </td>\n",
       "        </tr>\n",
       "        <tr>\n",
       "            <td>A & N Islands (UT)</td> <td>132        </td> <td>147        </td> <td>135        </td> <td>0                                     </td> <td>1.9                                                   </td> <td>72.2                                    </td> <td>3321                        </td> <td>12                             </td> <td>86.63                 </td>\n",
       "        </tr>\n",
       "        <tr>\n",
       "            <td>Chandigarh (UT)   </td> <td>453        </td> <td>442        </td> <td>515        </td> <td>0.1                                   </td> <td>5.4                                                   </td> <td>95.2                                    </td> <td>5297                        </td> <td>8.2                            </td> <td>86.05                 </td>\n",
       "        </tr>\n",
       "        <tr>\n",
       "            <td>D&N Haveli (UT)   </td> <td>20         </td> <td>38         </td> <td>49         </td> <td>0                                     </td> <td>2.3                                                   </td> <td>21.6                                    </td> <td>635                         </td> <td>1.8                            </td> <td>76.24                 </td>\n",
       "        </tr>\n",
       "        <tr>\n",
       "            <td>Daman & Diu (UT)  </td> <td>26         </td> <td>16         </td> <td>33         </td> <td>0                                     </td> <td>1.3                                                   </td> <td>25.2                                    </td> <td>988                         </td> <td>0                              </td> <td>87.1                  </td>\n",
       "        </tr>\n",
       "        <tr>\n",
       "            <td>Delhi (UT)        </td> <td>13076      </td> <td>13640      </td> <td>13395      </td> <td>3.3                                   </td> <td>93.1                                                  </td> <td>144                                     </td> <td>5817                        </td> <td>10.8                           </td> <td>86.21                 </td>\n",
       "        </tr>\n",
       "        <tr>\n",
       "            <td>Lakshadweep (UT)  </td> <td>6          </td> <td>11         </td> <td>38         </td> <td>0                                     </td> <td>0.3                                                   </td> <td>115.2                                   </td> <td>931                         </td> <td>28.6                           </td> <td>91.85                 </td>\n",
       "        </tr>\n",
       "        <tr>\n",
       "            <td>Puducherry (UT)   </td> <td>147        </td> <td>166        </td> <td>95         </td> <td>0                                     </td> <td>7.9                                                   </td> <td>12.1                                    </td> <td>3334                        </td> <td>6                              </td> <td>85.85                 </td>\n",
       "        </tr>\n",
       "    </tbody>\n",
       "</table>"
      ],
      "text/plain": [
       "<IPython.core.display.HTML object>"
      ]
     },
     "metadata": {},
     "output_type": "display_data"
    }
   ],
   "source": [
    "# Here is the new state data with our new columns so that we can analyze this later!\n",
    "\n",
    "states = Table.read_table(\"../data/State Data.csv\")\n",
    "states.show()"
   ]
  },
  {
   "cell_type": "markdown",
   "id": "750ef816",
   "metadata": {},
   "source": [
    "With this information, we can now see that we will be able to compare our original columns with some new data pertaining to different areas of interest (i.e. GDP, unemployment, literacy rate)."
   ]
  },
  {
   "cell_type": "markdown",
   "id": "b658c1d2",
   "metadata": {},
   "source": [
    "# Data Analysis"
   ]
  }
 ],
 "metadata": {
  "kernelspec": {
   "display_name": "Python 3",
   "language": "python",
   "name": "python3"
  },
  "language_info": {
   "codemirror_mode": {
    "name": "ipython",
    "version": 3
   },
   "file_extension": ".py",
   "mimetype": "text/x-python",
   "name": "python",
   "nbconvert_exporter": "python",
   "pygments_lexer": "ipython3",
   "version": "3.8.8"
  }
 },
 "nbformat": 4,
 "nbformat_minor": 5
}
