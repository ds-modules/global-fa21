version https://git-lfs.github.com/spec/v1
oid sha256:1bc4c19c8ae0231a6cd6f460a072cd4a21427e48edeef0ce8608fab6d0b0e953
size 27689514
