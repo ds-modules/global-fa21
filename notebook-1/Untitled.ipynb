{
 "cells": [
  {
   "cell_type": "code",
   "execution_count": 1,
   "id": "71ccd3d5",
   "metadata": {},
   "outputs": [],
   "source": [
    "import nbformat"
   ]
  },
  {
   "cell_type": "code",
   "execution_count": 2,
   "id": "c8107046",
   "metadata": {},
   "outputs": [],
   "source": [
    "nbformat.read?"
   ]
  },
  {
   "cell_type": "code",
   "execution_count": 16,
   "id": "53d2aee3",
   "metadata": {},
   "outputs": [],
   "source": [
    "parent_dir = \"/Users/carloscalderon/berkeley/global-fa21/notebook-1/\""
   ]
  },
  {
   "cell_type": "code",
   "execution_count": 17,
   "id": "4f71b8a0",
   "metadata": {},
   "outputs": [],
   "source": [
    "first_notebook = nbformat.read(parent_dir + 'Intro-to-Jupyter-bella.ipynb', \n",
    "                              nbformat.NO_CONVERT)"
   ]
  },
  {
   "cell_type": "code",
   "execution_count": 18,
   "id": "7ec3a863",
   "metadata": {},
   "outputs": [],
   "source": [
    "second_notebook = nbformat.read(parent_dir + 'city-analysis 3.0.ipynb', \n",
    "                               nbformat.NO_CONVERT)"
   ]
  },
  {
   "cell_type": "code",
   "execution_count": 19,
   "id": "befb0fd5",
   "metadata": {},
   "outputs": [],
   "source": [
    "third_notebook = nbformat.read(parent_dir + 'State-wise EDA_draft.ipynb', \n",
    "                              nbformat.NO_CONVERT)"
   ]
  },
  {
   "cell_type": "code",
   "execution_count": 20,
   "id": "0a448a01",
   "metadata": {},
   "outputs": [],
   "source": [
    "final_notebook = nbformat.v4.new_notebook(metadata=first_notebook.metadata)"
   ]
  },
  {
   "cell_type": "code",
   "execution_count": 24,
   "id": "7190838e",
   "metadata": {},
   "outputs": [],
   "source": [
    "final_notebook.cells = first_notebook.cells + second_notebook.cells + third_notebook.cells"
   ]
  },
  {
   "cell_type": "code",
   "execution_count": 25,
   "id": "d8af3b34",
   "metadata": {},
   "outputs": [],
   "source": [
    "nbformat.write(final_notebook, 'first_final_draft.ipynb')"
   ]
  },
  {
   "cell_type": "code",
   "execution_count": null,
   "id": "34f9cd8f",
   "metadata": {},
   "outputs": [],
   "source": []
  }
 ],
 "metadata": {
  "kernelspec": {
   "display_name": "Python 3",
   "language": "python",
   "name": "python3"
  },
  "language_info": {
   "codemirror_mode": {
    "name": "ipython",
    "version": 3
   },
   "file_extension": ".py",
   "mimetype": "text/x-python",
   "name": "python",
   "nbconvert_exporter": "python",
   "pygments_lexer": "ipython3",
   "version": "3.8.8"
  }
 },
 "nbformat": 4,
 "nbformat_minor": 5
}
