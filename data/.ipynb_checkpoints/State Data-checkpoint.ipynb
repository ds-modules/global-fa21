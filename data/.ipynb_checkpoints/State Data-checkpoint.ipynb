version https://git-lfs.github.com/spec/v1
oid sha256:9b6bc5ce533211da650efe8445d22c08b0294207aeaaf811e6a46ddaa525f2b4
size 54822
