version https://git-lfs.github.com/spec/v1
oid sha256:3da6acf0d8ee77800b5225203dfd092d2e0237c622ee6da01f339bb535029396
size 17844
