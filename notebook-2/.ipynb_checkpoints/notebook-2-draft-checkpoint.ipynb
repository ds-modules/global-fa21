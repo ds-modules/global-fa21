{
 "cells": [
  {
   "cell_type": "code",
   "execution_count": 1,
   "id": "f6c063d3",
   "metadata": {},
   "outputs": [],
   "source": [
    "# Don't change this cell; just run it. \n",
    "import numpy as np\n",
    "from datascience import *\n",
    "import pandas as pd\n",
    "\n",
    "# These lines do some fancy plotting magic\n",
    "import matplotlib\n",
    "%matplotlib inline\n",
    "import matplotlib.pyplot as plt\n",
    "plt.style.use('fivethirtyeight')\n",
    "import seaborn as sns\n",
    "\n",
    "import warnings\n",
    "warnings.simplefilter('ignore', FutureWarning)\n",
    "from matplotlib import patches\n",
    "from ipywidgets import interact, interactive, fixed\n",
    "import ipywidgets as widgets"
   ]
  },
  {
   "cell_type": "markdown",
   "id": "40ccc587",
   "metadata": {},
   "source": [
    "## Introduction"
   ]
  },
  {
   "cell_type": "markdown",
   "id": "0558b43f",
   "metadata": {},
   "source": [
    "## Data"
   ]
  },
  {
   "cell_type": "markdown",
   "id": "28824806",
   "metadata": {},
   "source": [
    "## Case Study 1: Bogota"
   ]
  },
  {
   "cell_type": "markdown",
   "id": "bf832693",
   "metadata": {},
   "source": [
    "## Case Study 2: Cape Town"
   ]
  },
  {
   "cell_type": "markdown",
   "id": "6b3c3930",
   "metadata": {},
   "source": [
    "## Exploring the Data Further"
   ]
  },
  {
   "cell_type": "markdown",
   "id": "14bb3a16",
   "metadata": {},
   "source": [
    "## Applications of Data Science"
   ]
  }
 ],
 "metadata": {
  "kernelspec": {
   "display_name": "Python 3",
   "language": "python",
   "name": "python3"
  },
  "language_info": {
   "codemirror_mode": {
    "name": "ipython",
    "version": 3
   },
   "file_extension": ".py",
   "mimetype": "text/x-python",
   "name": "python",
   "nbconvert_exporter": "python",
   "pygments_lexer": "ipython3",
   "version": "3.8.8"
  }
 },
 "nbformat": 4,
 "nbformat_minor": 5
}
